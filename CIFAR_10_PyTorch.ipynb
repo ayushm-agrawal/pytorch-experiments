{
  "nbformat": 4,
  "nbformat_minor": 0,
  "metadata": {
    "colab": {
      "name": "CIFAR-10 PyTorch.ipynb",
      "provenance": [],
      "collapsed_sections": [
        "TRTRd5QxKCNR",
        "ZJPCEllBKGVC",
        "EzxCqfgxMvbq"
      ],
      "machine_shape": "hm",
      "authorship_tag": "ABX9TyOjp+V6t5PakSZngwhO+jJy",
      "include_colab_link": true
    },
    "kernelspec": {
      "name": "python3",
      "display_name": "Python 3"
    },
    "accelerator": "GPU"
  },
  "cells": [
    {
      "cell_type": "markdown",
      "metadata": {
        "id": "view-in-github",
        "colab_type": "text"
      },
      "source": [
        "<a href=\"https://colab.research.google.com/github/ayushm-agrawal/pytorch-experiments/blob/master/CIFAR_10_PyTorch.ipynb\" target=\"_parent\"><img src=\"https://colab.research.google.com/assets/colab-badge.svg\" alt=\"Open In Colab\"/></a>"
      ]
    },
    {
      "cell_type": "markdown",
      "metadata": {
        "id": "TRTRd5QxKCNR",
        "colab_type": "text"
      },
      "source": [
        "####Imports\n"
      ]
    },
    {
      "cell_type": "code",
      "metadata": {
        "id": "OOOVlA94Kwhz",
        "colab_type": "code",
        "colab": {}
      },
      "source": [
        "import numpy as np\n",
        "\n",
        "import torch\n",
        "import torch.nn.functional as F\n",
        "import torch.nn as nn\n",
        "import torch.optim as optim\n",
        "import torchvision.transforms as transforms\n",
        "\n",
        "from torchsummary import summary\n",
        "from torchvision.datasets import CIFAR10\n",
        "from torch.utils.data import DataLoader\n",
        "from torch.utils.data.sampler import SubsetRandomSampler\n",
        "\n",
        "import matplotlib.pyplot as plt"
      ],
      "execution_count": 0,
      "outputs": []
    },
    {
      "cell_type": "markdown",
      "metadata": {
        "id": "ZJPCEllBKGVC",
        "colab_type": "text"
      },
      "source": [
        "####Check for GPU"
      ]
    },
    {
      "cell_type": "code",
      "metadata": {
        "id": "1hW4lB08K2EN",
        "colab_type": "code",
        "outputId": "b78a5372-055e-417e-c70c-1e4a9b224ce7",
        "colab": {
          "base_uri": "https://localhost:8080/",
          "height": 52
        }
      },
      "source": [
        "print('PyTorch version:', torch.__version__)\n",
        "# check if CUDA is available\n",
        "train_on_gpu = torch.cuda.is_available()\n",
        "\n",
        "if not train_on_gpu:\n",
        "    print('CUDA is not available.  Training on CPU ...')\n",
        "else:\n",
        "    print('CUDA is available!  Training on GPU ...')"
      ],
      "execution_count": 0,
      "outputs": [
        {
          "output_type": "stream",
          "text": [
            "PyTorch version: 1.4.0\n",
            "CUDA is available!  Training on GPU ...\n"
          ],
          "name": "stdout"
        }
      ]
    },
    {
      "cell_type": "code",
      "metadata": {
        "id": "eYg_6IEZe38U",
        "colab_type": "code",
        "outputId": "34074145-c337-49b8-a8f8-85a55fa758a9",
        "colab": {
          "base_uri": "https://localhost:8080/",
          "height": 319
        }
      },
      "source": [
        "gpu_info = !nvidia-smi\n",
        "gpu_info = '\\n'.join(gpu_info)\n",
        "if gpu_info.find('failed') >= 0:\n",
        "  print('Select the Runtime → \"Change runtime type\" menu to enable a GPU accelerator, ')\n",
        "  print('and then re-execute this cell.')\n",
        "else:\n",
        "  print(gpu_info)"
      ],
      "execution_count": 0,
      "outputs": [
        {
          "output_type": "stream",
          "text": [
            "Wed Feb 12 17:27:03 2020       \n",
            "+-----------------------------------------------------------------------------+\n",
            "| NVIDIA-SMI 440.48.02    Driver Version: 418.67       CUDA Version: 10.1     |\n",
            "|-------------------------------+----------------------+----------------------+\n",
            "| GPU  Name        Persistence-M| Bus-Id        Disp.A | Volatile Uncorr. ECC |\n",
            "| Fan  Temp  Perf  Pwr:Usage/Cap|         Memory-Usage | GPU-Util  Compute M. |\n",
            "|===============================+======================+======================|\n",
            "|   0  Tesla P100-PCIE...  Off  | 00000000:00:04.0 Off |                    0 |\n",
            "| N/A   59C    P0    31W / 250W |     10MiB / 16280MiB |      0%      Default |\n",
            "+-------------------------------+----------------------+----------------------+\n",
            "                                                                               \n",
            "+-----------------------------------------------------------------------------+\n",
            "| Processes:                                                       GPU Memory |\n",
            "|  GPU       PID   Type   Process name                             Usage      |\n",
            "|=============================================================================|\n",
            "|  No running processes found                                                 |\n",
            "+-----------------------------------------------------------------------------+\n"
          ],
          "name": "stdout"
        }
      ]
    },
    {
      "cell_type": "code",
      "metadata": {
        "id": "MlzJAQ3jLnRt",
        "colab_type": "code",
        "colab": {}
      },
      "source": [
        "# Set random seed for reproducability\n",
        "torch.manual_seed(271828)\n",
        "np.random.seed(271728)"
      ],
      "execution_count": 0,
      "outputs": []
    },
    {
      "cell_type": "markdown",
      "metadata": {
        "id": "XPjns4ErHkfX",
        "colab_type": "text"
      },
      "source": [
        "####Load Data"
      ]
    },
    {
      "cell_type": "code",
      "metadata": {
        "id": "7y0XCJ6sLJe_",
        "colab_type": "code",
        "outputId": "959a37b1-f860-4e17-a468-0e58e131488d",
        "colab": {
          "base_uri": "https://localhost:8080/",
          "height": 52
        }
      },
      "source": [
        "# transform for the training data\n",
        "train_transform = transforms.Compose([\n",
        "    transforms.ToTensor(),\n",
        "    transforms.Normalize([0.1307], [0.3081])\n",
        "])\n",
        "\n",
        "# use the same transform for the validation data\n",
        "test_transform = train_transform\n",
        "\n",
        "# load datasets, downloading if needed\n",
        "train_set = CIFAR10('./data/cifar10', train=True, download=True, \n",
        "                  transform=train_transform)\n",
        "test_set = CIFAR10('./data/cifar10', train=False, download=True, \n",
        "                  transform=test_transform)"
      ],
      "execution_count": 0,
      "outputs": [
        {
          "output_type": "stream",
          "text": [
            "Files already downloaded and verified\n",
            "Files already downloaded and verified\n"
          ],
          "name": "stdout"
        }
      ]
    },
    {
      "cell_type": "markdown",
      "metadata": {
        "id": "akp5v16hH05O",
        "colab_type": "text"
      },
      "source": [
        "###Split train data to get Validation Set\n"
      ]
    },
    {
      "cell_type": "code",
      "metadata": {
        "id": "t6tqJsKlH6nS",
        "colab_type": "code",
        "colab": {}
      },
      "source": [
        "train_len = len(train_set)\n",
        "idxes = list(range(train_len))\n",
        "\n",
        "#shuffle the indexes\n",
        "np.random.shuffle(idxes)\n",
        "\n",
        "split = int(np.floor(0.2*train_len))\n",
        "train_idx, valid_idx = idxes[split: ], idxes[:split]\n",
        "\n",
        "#Sampler gets the batches of data\n",
        "train_sampler = SubsetRandomSampler(train_idx)\n",
        "valid_sampler = SubsetRandomSampler(valid_idx)"
      ],
      "execution_count": 0,
      "outputs": []
    },
    {
      "cell_type": "markdown",
      "metadata": {
        "id": "et_UOTNyIt-P",
        "colab_type": "text"
      },
      "source": [
        "###Dataloaders for Train, Test and Validation\n"
      ]
    },
    {
      "cell_type": "code",
      "metadata": {
        "id": "yHns-V9tItTA",
        "colab_type": "code",
        "colab": {}
      },
      "source": [
        "train_loader = torch.utils.data.DataLoader(train_set, batch_size=20, sampler=train_sampler, num_workers=0)\n",
        "valid_loader = torch.utils.data.DataLoader(train_set, batch_size=20, sampler=valid_sampler, num_workers=0)\n",
        "test_loader = torch.utils.data.DataLoader(test_set, batch_size=20, num_workers=0)"
      ],
      "execution_count": 0,
      "outputs": []
    },
    {
      "cell_type": "markdown",
      "metadata": {
        "id": "tNeo7F1IJM2K",
        "colab_type": "text"
      },
      "source": [
        "####Image Classes"
      ]
    },
    {
      "cell_type": "code",
      "metadata": {
        "id": "aznA7qfJJQcc",
        "colab_type": "code",
        "colab": {}
      },
      "source": [
        "# 10 Classes in CIFAR-10 Dataset\n",
        "classes = ['airplane', 'automobile', 'bird', 'cat', 'deer',\n",
        "           'dog', 'frog', 'horse', 'ship', 'truck']"
      ],
      "execution_count": 0,
      "outputs": []
    },
    {
      "cell_type": "markdown",
      "metadata": {
        "id": "EzxCqfgxMvbq",
        "colab_type": "text"
      },
      "source": [
        "###Preview the data"
      ]
    },
    {
      "cell_type": "code",
      "metadata": {
        "id": "0ERb5tRkL4LP",
        "colab_type": "code",
        "outputId": "3ef7fdfc-6536-488d-a09c-2570a21d9b97",
        "colab": {
          "base_uri": "https://localhost:8080/"
        }
      },
      "source": [
        "print(train_set.data.shape)\n",
        "print(test_set.data.shape)"
      ],
      "execution_count": 0,
      "outputs": [
        {
          "output_type": "stream",
          "text": [
            "(50000, 32, 32, 3)\n",
            "(10000, 32, 32, 3)\n"
          ],
          "name": "stdout"
        }
      ]
    },
    {
      "cell_type": "markdown",
      "metadata": {
        "id": "av7bj99EJyBK",
        "colab_type": "text"
      },
      "source": [
        "###Visualizing the Data"
      ]
    },
    {
      "cell_type": "code",
      "metadata": {
        "id": "J8iBFM9KMf4M",
        "colab_type": "code",
        "colab": {}
      },
      "source": [
        "def imshow(img):\n",
        "\timg = img/2 + 0.5 #unnormalize the image\n",
        "\tplt.imshow(np.transpose(img, (1,2,0))) # convert from tensor to image"
      ],
      "execution_count": 0,
      "outputs": []
    },
    {
      "cell_type": "code",
      "metadata": {
        "id": "qogU0RT4KdX3",
        "colab_type": "code",
        "outputId": "240fb27d-8dcc-46ba-d888-9b7dad389c67",
        "colab": {
          "base_uri": "https://localhost:8080/",
          "height": 644
        }
      },
      "source": [
        "dataiter = iter(train_loader)\n",
        "images, labels = dataiter.next()\n",
        "images = images.numpy()\n",
        "\n",
        "figure = plt.figure(figsize=(25,4))\n",
        "for i in np.arange(20):\n",
        "  axis = figure.add_subplot(2, 20/2, i+1, xticks=[], yticks=[])\n",
        "  imshow(images[i])\n",
        "  axis.set_title(classes[labels[i]])"
      ],
      "execution_count": 0,
      "outputs": [
        {
          "output_type": "stream",
          "text": [
            "Clipping input data to the valid range for imshow with RGB data ([0..1] for floats or [0..255] for integers).\n",
            "Clipping input data to the valid range for imshow with RGB data ([0..1] for floats or [0..255] for integers).\n",
            "Clipping input data to the valid range for imshow with RGB data ([0..1] for floats or [0..255] for integers).\n",
            "Clipping input data to the valid range for imshow with RGB data ([0..1] for floats or [0..255] for integers).\n",
            "Clipping input data to the valid range for imshow with RGB data ([0..1] for floats or [0..255] for integers).\n",
            "Clipping input data to the valid range for imshow with RGB data ([0..1] for floats or [0..255] for integers).\n",
            "Clipping input data to the valid range for imshow with RGB data ([0..1] for floats or [0..255] for integers).\n",
            "Clipping input data to the valid range for imshow with RGB data ([0..1] for floats or [0..255] for integers).\n",
            "Clipping input data to the valid range for imshow with RGB data ([0..1] for floats or [0..255] for integers).\n",
            "Clipping input data to the valid range for imshow with RGB data ([0..1] for floats or [0..255] for integers).\n",
            "Clipping input data to the valid range for imshow with RGB data ([0..1] for floats or [0..255] for integers).\n",
            "Clipping input data to the valid range for imshow with RGB data ([0..1] for floats or [0..255] for integers).\n",
            "Clipping input data to the valid range for imshow with RGB data ([0..1] for floats or [0..255] for integers).\n",
            "Clipping input data to the valid range for imshow with RGB data ([0..1] for floats or [0..255] for integers).\n",
            "Clipping input data to the valid range for imshow with RGB data ([0..1] for floats or [0..255] for integers).\n",
            "Clipping input data to the valid range for imshow with RGB data ([0..1] for floats or [0..255] for integers).\n",
            "Clipping input data to the valid range for imshow with RGB data ([0..1] for floats or [0..255] for integers).\n",
            "Clipping input data to the valid range for imshow with RGB data ([0..1] for floats or [0..255] for integers).\n",
            "Clipping input data to the valid range for imshow with RGB data ([0..1] for floats or [0..255] for integers).\n",
            "Clipping input data to the valid range for imshow with RGB data ([0..1] for floats or [0..255] for integers).\n"
          ],
          "name": "stderr"
        },
        {
          "output_type": "display_data",
          "data": {
            "image/png": "[encoded data removed]",
            "text/plain": [
              "<Figure size 1800x288 with 20 Axes>"
            ]
          },
          "metadata": {
            "tags": []
          }
        }
      ]
    },
    {
      "cell_type": "markdown",
      "metadata": {
        "id": "KTZM9tlcXVET",
        "colab_type": "text"
      },
      "source": [
        "##MODEL"
      ]
    },
    {
      "cell_type": "code",
      "metadata": {
        "id": "SS_S0YuyXY-e",
        "colab_type": "code",
        "outputId": "b804995f-7f08-4399-c2f9-967f7459886c",
        "colab": {
          "base_uri": "https://localhost:8080/",
          "height": 444
        }
      },
      "source": [
        "class RandomNet(nn.Module):\n",
        "  def __init__(self):\n",
        "    super(RandomNet, self).__init__()\n",
        "\n",
        "    self.conv1 = nn.Conv2d(3, 16, 3, padding=1)\n",
        "    #TODO: add more layers\n",
        "    self.conv2 = nn.Conv2d(16, 32, 3, padding=1)\n",
        "    self.conv3 = nn.Conv2d(32, 64, 3, padding=1)\n",
        "\n",
        "    self.pool = nn.MaxPool2d(2,2)\n",
        "\n",
        "    self.fc1 = nn.Linear(64*4*4, 500)\n",
        "    self.output = nn.Linear(500, 10)\n",
        "\n",
        "    self.dropout = nn.Dropout(0.25)\n",
        "  \n",
        "  def forward(self, x):\n",
        "    x = self.pool(F.relu(self.conv1(x)))\n",
        "    x = self.pool(F.relu(self.conv2(x)))\n",
        "    x = self.pool(F.relu(self.conv3(x)))\n",
        "\n",
        "    x = x.view(-1, 64*4*4)\n",
        "\n",
        "    x = self.dropout(x)\n",
        "\n",
        "    x = F.relu(self.fc1(x))\n",
        "\n",
        "    x = self.dropout(x)\n",
        "\n",
        "    x = self.output(x)\n",
        "\n",
        "    return x\n",
        "\n",
        "model = RandomNet()\n",
        "\n",
        "if train_on_gpu:\n",
        "  model.cuda()\n",
        "\n",
        "  \n",
        "print(summary(model, (3,32,32)))"
      ],
      "execution_count": 0,
      "outputs": [
        {
          "output_type": "stream",
          "text": [
            "----------------------------------------------------------------\n",
            "        Layer (type)               Output Shape         Param #\n",
            "================================================================\n",
            "            Conv2d-1           [-1, 16, 32, 32]             448\n",
            "         MaxPool2d-2           [-1, 16, 16, 16]               0\n",
            "            Conv2d-3           [-1, 32, 16, 16]           4,640\n",
            "         MaxPool2d-4             [-1, 32, 8, 8]               0\n",
            "            Conv2d-5             [-1, 64, 8, 8]          18,496\n",
            "         MaxPool2d-6             [-1, 64, 4, 4]               0\n",
            "           Dropout-7                 [-1, 1024]               0\n",
            "            Linear-8                  [-1, 500]         512,500\n",
            "           Dropout-9                  [-1, 500]               0\n",
            "           Linear-10                   [-1, 10]           5,010\n",
            "================================================================\n",
            "Total params: 541,094\n",
            "Trainable params: 541,094\n",
            "Non-trainable params: 0\n",
            "----------------------------------------------------------------\n",
            "Input size (MB): 0.01\n",
            "Forward/backward pass size (MB): 0.29\n",
            "Params size (MB): 2.06\n",
            "Estimated Total Size (MB): 2.36\n",
            "----------------------------------------------------------------\n",
            "None\n"
          ],
          "name": "stdout"
        }
      ]
    },
    {
      "cell_type": "code",
      "metadata": {
        "colab_type": "code",
        "outputId": "ea44ba96-23dd-4eaf-cf86-8e8f2ee92185",
        "id": "pc1a8cgII-pY",
        "colab": {
          "base_uri": "https://localhost:8080/",
          "height": 941
        }
      },
      "source": [
        "class SimpleNet(nn.Module):\n",
        "  def __init__(self):\n",
        "    super(SimpleNet, self).__init__()\n",
        "\n",
        "    self.conv_3_64 = nn.Conv2d(3, 64, 3, padding=1)\n",
        "\n",
        "    \n",
        "    self.conv_64_128 = nn.Conv2d(64, 128, 3, padding=1)\n",
        "\n",
        "    self.conv_128_128 = nn.Conv2d(128, 128, 3, padding=1)\n",
        "\n",
        "    self.conv_128_256 = nn.Conv2d(128, 256, 3, padding=1)\n",
        "    self.conv_256_256 = nn.Conv2d(256, 256, 3, padding=1)\n",
        "    self.conv_256_512 = nn.Conv2d(256, 512, 3, padding=1)\n",
        "    self.conv_512_2048 = nn.Conv2d(512, 2048, 1, padding=1)\n",
        "    self.conv_2048_256 = nn.Conv2d(2048, 256, 1, padding=1)\n",
        "    self.pool = nn.MaxPool2d(2,2)\n",
        "\n",
        "    self.dropout = nn.Dropout2d(p=0.1)\n",
        "    self.drp = nn.Dropout(0.1)\n",
        "    self.batchnorm1 = nn.BatchNorm2d(64, eps=1e-05, momentum=0.05, affine=True)\n",
        "    self.batchnorm2 = nn.BatchNorm2d(128, eps=1e-05, momentum=0.05, affine=True)\n",
        "    self.batchnorm3 = nn.BatchNorm2d(256, eps=1e-05, momentum=0.05, affine=True)\n",
        "    self.batchnorm4 = nn.BatchNorm2d(512, eps=1e-05, momentum=0.05, affine=True)\n",
        "    self.batchnorm5 = nn.BatchNorm2d(2048, eps=1e-05, momentum=0.05, affine=True)\n",
        "\n",
        "    self.output = nn.Linear(256, 10)\n",
        "\n",
        "  def forward(self, x):\n",
        "    # conv input channels: 3 out channels: 64\n",
        "    x = F.relu(self.batchnorm1(self.conv_3_64(x)))\n",
        "    # conv input channels: 64 out channels: 128\n",
        "    x = F.relu(self.batchnorm2(self.conv_64_128(x)))\n",
        "    # conv input channels: 128 out channels: 128\n",
        "    x = F.relu(self.batchnorm2(self.conv_128_128(x)))\n",
        "    # conv input channels: 128 out channels: 128\n",
        "    x = F.relu(self.batchnorm2(self.conv_128_128(x)))\n",
        "    x = self.dropout(self.pool(x))\n",
        "\n",
        "    \n",
        "    # conv input channels: 128 out channels: 128\n",
        "    x = F.relu(self.batchnorm2(self.conv_128_128(x)))\n",
        "    # conv input channels: 128 out channels: 128\n",
        "    x = F.relu(self.batchnorm2(self.conv_128_128(x)))\n",
        "    \n",
        "    # conv block 4\n",
        "    x = F.relu(self.batchnorm3(self.conv_128_256(x)))\n",
        "    x = self.dropout(self.pool(x))\n",
        "\n",
        "    # conv block 5\n",
        "    x = F.relu(self.batchnorm3(self.conv_256_256(x)))\n",
        "    x = F.relu(self.batchnorm3(self.conv_256_256(x)))\n",
        "    x = self.dropout(self.pool(x))\n",
        "\n",
        "    # conv block 6\n",
        "    x = F.relu(self.batchnorm4(self.conv_256_512(x)))\n",
        "    x = self.dropout(self.pool(x))\n",
        "    # conv block 7\n",
        "    x = F.relu(self.batchnorm5(self.conv_512_2048(x)))\n",
        "    x = F.relu(self.batchnorm3(self.conv_2048_256(x)))\n",
        "    x = self.dropout(self.pool(x))\n",
        "\n",
        "    # conv block 8\n",
        "    x = F.relu(self.batchnorm3(self.conv_256_256(x)))\n",
        "    \n",
        "    x = F.max_pool2d(x, kernel_size=x.size()[2:])\n",
        "\n",
        "    x = self.drp(x)\n",
        "\n",
        "    # flatten\n",
        "    x = x.view(x.size(0), -1)\n",
        "\n",
        "    x = self.output(x)\n",
        "\n",
        "    return x\n",
        "\n",
        "model_SN = SimpleNet()\n",
        "for m in model_SN.modules():\n",
        "          if isinstance(m, nn.Conv2d):\n",
        "            nn.init.xavier_uniform_(m.weight.data, gain=nn.init.calculate_gain('relu'))\n",
        "\n",
        "\n",
        "if train_on_gpu:\n",
        "  model_SN.cuda()\n",
        "\n",
        "print(summary(model_SN, (3,32,32)))"
      ],
      "execution_count": 0,
      "outputs": [
        {
          "output_type": "stream",
          "text": [
            "----------------------------------------------------------------\n",
            "        Layer (type)               Output Shape         Param #\n",
            "================================================================\n",
            "            Conv2d-1           [-1, 64, 32, 32]           1,792\n",
            "       BatchNorm2d-2           [-1, 64, 32, 32]             128\n",
            "            Conv2d-3          [-1, 128, 32, 32]          73,856\n",
            "       BatchNorm2d-4          [-1, 128, 32, 32]             256\n",
            "            Conv2d-5          [-1, 128, 32, 32]         147,584\n",
            "       BatchNorm2d-6          [-1, 128, 32, 32]             256\n",
            "            Conv2d-7          [-1, 128, 32, 32]         147,584\n",
            "       BatchNorm2d-8          [-1, 128, 32, 32]             256\n",
            "         MaxPool2d-9          [-1, 128, 16, 16]               0\n",
            "        Dropout2d-10          [-1, 128, 16, 16]               0\n",
            "           Conv2d-11          [-1, 128, 16, 16]         147,584\n",
            "      BatchNorm2d-12          [-1, 128, 16, 16]             256\n",
            "           Conv2d-13          [-1, 128, 16, 16]         147,584\n",
            "      BatchNorm2d-14          [-1, 128, 16, 16]             256\n",
            "           Conv2d-15          [-1, 256, 16, 16]         295,168\n",
            "      BatchNorm2d-16          [-1, 256, 16, 16]             512\n",
            "        MaxPool2d-17            [-1, 256, 8, 8]               0\n",
            "        Dropout2d-18            [-1, 256, 8, 8]               0\n",
            "           Conv2d-19            [-1, 256, 8, 8]         590,080\n",
            "      BatchNorm2d-20            [-1, 256, 8, 8]             512\n",
            "           Conv2d-21            [-1, 256, 8, 8]         590,080\n",
            "      BatchNorm2d-22            [-1, 256, 8, 8]             512\n",
            "        MaxPool2d-23            [-1, 256, 4, 4]               0\n",
            "        Dropout2d-24            [-1, 256, 4, 4]               0\n",
            "           Conv2d-25            [-1, 512, 4, 4]       1,180,160\n",
            "      BatchNorm2d-26            [-1, 512, 4, 4]           1,024\n",
            "        MaxPool2d-27            [-1, 512, 2, 2]               0\n",
            "        Dropout2d-28            [-1, 512, 2, 2]               0\n",
            "           Conv2d-29           [-1, 2048, 4, 4]       1,050,624\n",
            "      BatchNorm2d-30           [-1, 2048, 4, 4]           4,096\n",
            "           Conv2d-31            [-1, 256, 6, 6]         524,544\n",
            "      BatchNorm2d-32            [-1, 256, 6, 6]             512\n",
            "        MaxPool2d-33            [-1, 256, 3, 3]               0\n",
            "        Dropout2d-34            [-1, 256, 3, 3]               0\n",
            "           Conv2d-35            [-1, 256, 3, 3]         590,080\n",
            "      BatchNorm2d-36            [-1, 256, 3, 3]             512\n",
            "          Dropout-37            [-1, 256, 1, 1]               0\n",
            "           Linear-38                   [-1, 10]           2,570\n",
            "================================================================\n",
            "Total params: 5,498,378\n",
            "Trainable params: 5,498,378\n",
            "Non-trainable params: 0\n",
            "----------------------------------------------------------------\n",
            "Input size (MB): 0.01\n",
            "Forward/backward pass size (MB): 11.18\n",
            "Params size (MB): 20.97\n",
            "Estimated Total Size (MB): 32.17\n",
            "----------------------------------------------------------------\n",
            "None\n"
          ],
          "name": "stdout"
        }
      ]
    },
    {
      "cell_type": "markdown",
      "metadata": {
        "id": "-Wi5-IljMzzN",
        "colab_type": "text"
      },
      "source": [
        "###Loss and Optimizer"
      ]
    },
    {
      "cell_type": "code",
      "metadata": {
        "id": "TApD_Gt_MhM3",
        "colab_type": "code",
        "colab": {}
      },
      "source": [
        "learning_rate = 1e-4\n",
        "\n",
        "criterion = nn.CrossEntropyLoss()\n",
        "optimizer = optim.Adam(model.parameters(), lr = learning_rate)"
      ],
      "execution_count": 0,
      "outputs": []
    },
    {
      "cell_type": "markdown",
      "metadata": {
        "id": "9KEnA5QlMxu3",
        "colab_type": "text"
      },
      "source": [
        "###Training"
      ]
    },
    {
      "cell_type": "code",
      "metadata": {
        "id": "6j7SGGANNLXT",
        "colab_type": "code",
        "outputId": "b049a8cf-eab5-4087-b132-ff0839cf8ed7",
        "colab": {
          "base_uri": "https://localhost:8080/",
          "height": 977
        }
      },
      "source": [
        "epochs = 30\n",
        "\n",
        "min_validation_loss = np.Inf\n",
        "\n",
        "for epoch in range(1, epochs+1):\n",
        "\n",
        "  train_loss = 0.0\n",
        "  validation_loss = 0.0\n",
        "\n",
        "  # training model loop\n",
        "  model.train()\n",
        "  for data, labels in train_loader:\n",
        "\n",
        "    # if gpu is available then move the data on the gpu\n",
        "    if train_on_gpu:\n",
        "      data, labels = data.cuda(), labels.cuda()\n",
        "\n",
        "    # clear the gradients\n",
        "    optimizer.zero_grad()\n",
        "    # make a forward pass\n",
        "    output = model(data)\n",
        "    # calculate the loss\n",
        "    loss = criterion(output, labels)\n",
        "    # do a backwards pass\n",
        "    loss.backward()\n",
        "    # perform a single optimization step\n",
        "    optimizer.step()\n",
        "    # update training loss\n",
        "    train_loss += loss.item()*data.size(0)\n",
        "\n",
        "  \n",
        "  # validate the model\n",
        "  model.eval()\n",
        "  for data, labels in valid_loader:\n",
        "\n",
        "    # if gpu is available then move the data on the gpu\n",
        "    if train_on_gpu:\n",
        "      data, labels = data.cuda(), labels.cuda()\n",
        "\n",
        "    # forward pass\n",
        "    output = model(data)\n",
        "\n",
        "    # calculate the loss\n",
        "    loss = criterion(output, labels)\n",
        "\n",
        "    # update validation loss\n",
        "    validation_loss += loss.item()*data.size(0)\n",
        "\n",
        "  #average losses\n",
        "  train_loss = train_loss/len(train_loader.dataset)\n",
        "  validation_loss = validation_loss/len(valid_loader.dataset)\n",
        "\n",
        "  print('Epoch: {} \\tTraining Loss: {} \\tValidation Loss: {}'.format(epoch, train_loss, validation_loss))\n",
        "\n",
        "  #save model if validation loss has decreased\n",
        "  if validation_loss <= min_validation_loss:\n",
        "    print('Validation loss decreased ({:.6f} --> {:.6f}). Saving model ....'.format(\n",
        "        min_validation_loss,\n",
        "        validation_loss,\n",
        "    ))\n",
        "\n",
        "    torch.save(model.state_dict(), 'model_cifar-10.pt')\n",
        "    min_validation_loss = validation_loss"
      ],
      "execution_count": 0,
      "outputs": [
        {
          "output_type": "stream",
          "text": [
            "Epoch: 1 \tTraining Loss: 1.3980184882164002 \tValidation Loss: 0.3033551634311676\n",
            "Validation loss decreased (inf --> 0.303355). Saving model ....\n",
            "Epoch: 2 \tTraining Loss: 1.189871142888069 \tValidation Loss: 0.28050438644886017\n",
            "Validation loss decreased (0.303355 --> 0.280504). Saving model ....\n",
            "Epoch: 3 \tTraining Loss: 1.1042888950109482 \tValidation Loss: 0.2611419322967529\n",
            "Validation loss decreased (0.280504 --> 0.261142). Saving model ....\n",
            "Epoch: 4 \tTraining Loss: 1.0396819454193116 \tValidation Loss: 0.2469881315469742\n",
            "Validation loss decreased (0.261142 --> 0.246988). Saving model ....\n",
            "Epoch: 5 \tTraining Loss: 0.9932472361564636 \tValidation Loss: 0.24118753452301026\n",
            "Validation loss decreased (0.246988 --> 0.241188). Saving model ....\n",
            "Epoch: 6 \tTraining Loss: 0.9501970060110092 \tValidation Loss: 0.2260369775056839\n",
            "Validation loss decreased (0.241188 --> 0.226037). Saving model ....\n",
            "Epoch: 7 \tTraining Loss: 0.9121669064044953 \tValidation Loss: 0.21912966446876525\n",
            "Validation loss decreased (0.226037 --> 0.219130). Saving model ....\n",
            "Epoch: 8 \tTraining Loss: 0.8814430743217468 \tValidation Loss: 0.21238509554862975\n",
            "Validation loss decreased (0.219130 --> 0.212385). Saving model ....\n",
            "Epoch: 9 \tTraining Loss: 0.8506250859260559 \tValidation Loss: 0.2079444531559944\n",
            "Validation loss decreased (0.212385 --> 0.207944). Saving model ....\n",
            "Epoch: 10 \tTraining Loss: 0.8228923150539398 \tValidation Loss: 0.20347489022016527\n",
            "Validation loss decreased (0.207944 --> 0.203475). Saving model ....\n",
            "Epoch: 11 \tTraining Loss: 0.7961173452019692 \tValidation Loss: 0.1990450567483902\n",
            "Validation loss decreased (0.203475 --> 0.199045). Saving model ....\n",
            "Epoch: 12 \tTraining Loss: 0.7703520622730256 \tValidation Loss: 0.19309520164728164\n",
            "Validation loss decreased (0.199045 --> 0.193095). Saving model ....\n",
            "Epoch: 13 \tTraining Loss: 0.7492203817725182 \tValidation Loss: 0.18627514799833297\n",
            "Validation loss decreased (0.193095 --> 0.186275). Saving model ....\n",
            "Epoch: 14 \tTraining Loss: 0.7267176019072533 \tValidation Loss: 0.19820378354787827\n",
            "Epoch: 15 \tTraining Loss: 0.7008742751121521 \tValidation Loss: 0.1839073883652687\n",
            "Validation loss decreased (0.186275 --> 0.183907). Saving model ....\n",
            "Epoch: 16 \tTraining Loss: 0.6847512815952301 \tValidation Loss: 0.18007115578651428\n",
            "Validation loss decreased (0.183907 --> 0.180071). Saving model ....\n",
            "Epoch: 17 \tTraining Loss: 0.662796701335907 \tValidation Loss: 0.1749486750125885\n",
            "Validation loss decreased (0.180071 --> 0.174949). Saving model ....\n",
            "Epoch: 18 \tTraining Loss: 0.6431589274048806 \tValidation Loss: 0.17162978731393813\n",
            "Validation loss decreased (0.174949 --> 0.171630). Saving model ....\n",
            "Epoch: 19 \tTraining Loss: 0.623272913223505 \tValidation Loss: 0.16975458592176437\n",
            "Validation loss decreased (0.171630 --> 0.169755). Saving model ....\n",
            "Epoch: 20 \tTraining Loss: 0.607703594660759 \tValidation Loss: 0.16799038069248198\n",
            "Validation loss decreased (0.169755 --> 0.167990). Saving model ....\n",
            "Epoch: 21 \tTraining Loss: 0.5893776164650917 \tValidation Loss: 0.16980775308609009\n",
            "Epoch: 22 \tTraining Loss: 0.5738370169520378 \tValidation Loss: 0.16433453875780105\n",
            "Validation loss decreased (0.167990 --> 0.164335). Saving model ....\n",
            "Epoch: 23 \tTraining Loss: 0.5575720000386238 \tValidation Loss: 0.16613153331279754\n",
            "Epoch: 24 \tTraining Loss: 0.5402995280206203 \tValidation Loss: 0.16434000643491745\n",
            "Epoch: 25 \tTraining Loss: 0.5269034126520157 \tValidation Loss: 0.16154587125778197\n",
            "Validation loss decreased (0.164335 --> 0.161546). Saving model ....\n",
            "Epoch: 26 \tTraining Loss: 0.5105163979709149 \tValidation Loss: 0.1605634757578373\n",
            "Validation loss decreased (0.161546 --> 0.160563). Saving model ....\n",
            "Epoch: 27 \tTraining Loss: 0.49486677910089494 \tValidation Loss: 0.15961040063500403\n",
            "Validation loss decreased (0.160563 --> 0.159610). Saving model ....\n",
            "Epoch: 28 \tTraining Loss: 0.4840243612289429 \tValidation Loss: 0.15660579768419267\n",
            "Validation loss decreased (0.159610 --> 0.156606). Saving model ....\n",
            "Epoch: 29 \tTraining Loss: 0.467992634165287 \tValidation Loss: 0.16051655623316766\n",
            "Epoch: 30 \tTraining Loss: 0.45377502531409264 \tValidation Loss: 0.1596737971007824\n"
          ],
          "name": "stdout"
        }
      ]
    },
    {
      "cell_type": "markdown",
      "metadata": {
        "id": "341kkJZD5B-i",
        "colab_type": "text"
      },
      "source": [
        "### Training Simple Net"
      ]
    },
    {
      "cell_type": "code",
      "metadata": {
        "id": "2IOGP12e5BSp",
        "colab_type": "code",
        "outputId": "b2bdda35-6d0e-4c15-de33-8c37d74a0627",
        "colab": {
          "base_uri": "https://localhost:8080/",
          "height": 1000
        }
      },
      "source": [
        "epochs = 540\n",
        "\n",
        "min_validation_loss = np.Inf\n",
        "\n",
        "for epoch in range(1, epochs+1):\n",
        "\n",
        "  train_loss = 0.0\n",
        "  validation_loss = 0.0\n",
        "\n",
        "  # training model loop\n",
        "  model_SN.train()\n",
        "  for data, labels in train_loader:   \n",
        "\n",
        "    # if gpu is available then move the data on the gpu\n",
        "    if train_on_gpu:\n",
        "      data, labels = data.cuda(), labels.cuda()\n",
        "\n",
        "    # clear the gradients\n",
        "    optimizer.zero_grad()\n",
        "    # make a forward pass\n",
        "    output = model_SN(data)\n",
        "    # calculate the loss\n",
        "    loss = criterion(output, labels)\n",
        "    # do a backwards pass\n",
        "    loss.backward()\n",
        "    # perform a single optimization step\n",
        "    optimizer.step()\n",
        "    # update training loss\n",
        "    train_loss += loss.item()*data.size(0)\n",
        "\n",
        "  \n",
        "  # validate the model\n",
        "  model_SN.eval()\n",
        "  for data, labels in valid_loader:\n",
        "\n",
        "    # if gpu is available then move the data on the gpu\n",
        "    if train_on_gpu:\n",
        "      data, labels = data.cuda(), labels.cuda()\n",
        "\n",
        "    # forward pass\n",
        "    output = model_SN(data)\n",
        "\n",
        "    # calculate the loss\n",
        "    loss = criterion(output, labels)\n",
        "\n",
        "    # update validation loss\n",
        "    validation_loss += loss.item()*data.size(0)\n",
        "\n",
        "  #average losses\n",
        "  train_loss = train_loss/len(train_loader.dataset)\n",
        "  validation_loss = validation_loss/len(valid_loader.dataset)\n",
        "\n",
        "  print('Epoch: {} \\tTraining Loss: {} \\tValidation Loss: {}'.format(epoch, train_loss, validation_loss))\n",
        "\n",
        "  #save model if validation loss has decreased\n",
        "  if validation_loss <= min_validation_loss:\n",
        "    print('Validation loss decreased ({:.6f} --> {:.6f}). Saving model ....'.format(\n",
        "        min_validation_loss,\n",
        "        validation_loss,\n",
        "    ))\n",
        "\n",
        "    torch.save(model_SN.state_dict(), 'model_cifar-10_SN.pt')\n",
        "    min_validation_loss = validation_loss"
      ],
      "execution_count": 0,
      "outputs": [
        {
          "output_type": "stream",
          "text": [
            "Epoch: 1 \tTraining Loss: 2.168745173549652 \tValidation Loss: 0.492030815410614\n",
            "Validation loss decreased (inf --> 0.492031). Saving model ....\n",
            "Epoch: 2 \tTraining Loss: 2.167065073108673 \tValidation Loss: 0.49177867736816405\n",
            "Validation loss decreased (0.492031 --> 0.491779). Saving model ....\n",
            "Epoch: 3 \tTraining Loss: 2.1638881457328796 \tValidation Loss: 0.49213178482055664\n",
            "Epoch: 4 \tTraining Loss: 2.165991325569153 \tValidation Loss: 0.4922624433517456\n",
            "Epoch: 5 \tTraining Loss: 2.1646648490428926 \tValidation Loss: 0.4919983467102051\n",
            "Epoch: 6 \tTraining Loss: 2.1670043254852294 \tValidation Loss: 0.4931499881744385\n",
            "Epoch: 7 \tTraining Loss: 2.164241380596161 \tValidation Loss: 0.49221920471191405\n",
            "Epoch: 8 \tTraining Loss: 2.165521998786926 \tValidation Loss: 0.491870276927948\n",
            "Epoch: 9 \tTraining Loss: 2.166734870815277 \tValidation Loss: 0.4912303605079651\n",
            "Validation loss decreased (0.491779 --> 0.491230). Saving model ....\n",
            "Epoch: 10 \tTraining Loss: 2.1686279544353484 \tValidation Loss: 0.49204250955581663\n",
            "Epoch: 11 \tTraining Loss: 2.170158270740509 \tValidation Loss: 0.4911606621742248\n",
            "Validation loss decreased (0.491230 --> 0.491161). Saving model ....\n",
            "Epoch: 12 \tTraining Loss: 2.1654310479164125 \tValidation Loss: 0.4922925085067749\n",
            "Epoch: 13 \tTraining Loss: 2.1678135288238525 \tValidation Loss: 0.49202040309906003\n",
            "Epoch: 14 \tTraining Loss: 2.164534484767914 \tValidation Loss: 0.4914439763069153\n",
            "Epoch: 15 \tTraining Loss: 2.170145822620392 \tValidation Loss: 0.492041006565094\n",
            "Epoch: 16 \tTraining Loss: 2.1672207686424256 \tValidation Loss: 0.493026244354248\n",
            "Epoch: 17 \tTraining Loss: 2.168586159324646 \tValidation Loss: 0.4911982063293457\n",
            "Epoch: 18 \tTraining Loss: 2.166361798000336 \tValidation Loss: 0.49198643951416016\n",
            "Epoch: 19 \tTraining Loss: 2.1696039403915406 \tValidation Loss: 0.4924318914413452\n",
            "Epoch: 20 \tTraining Loss: 2.1678654809951783 \tValidation Loss: 0.4932656922340393\n",
            "Epoch: 21 \tTraining Loss: 2.1676417866706847 \tValidation Loss: 0.49303696308135986\n",
            "Epoch: 22 \tTraining Loss: 2.1692661396980286 \tValidation Loss: 0.493197806930542\n",
            "Epoch: 23 \tTraining Loss: 2.1662655656814573 \tValidation Loss: 0.4919030840873718\n",
            "Epoch: 24 \tTraining Loss: 2.166458448600769 \tValidation Loss: 0.4934618270874023\n",
            "Epoch: 25 \tTraining Loss: 2.1678460844039917 \tValidation Loss: 0.4927059217453003\n",
            "Epoch: 26 \tTraining Loss: 2.164032786655426 \tValidation Loss: 0.49258816986083986\n",
            "Epoch: 27 \tTraining Loss: 2.1661365248680116 \tValidation Loss: 0.4917542125701904\n",
            "Epoch: 28 \tTraining Loss: 2.166593965625763 \tValidation Loss: 0.49226668157577513\n",
            "Epoch: 29 \tTraining Loss: 2.1663706749916076 \tValidation Loss: 0.49124880456924436\n",
            "Epoch: 30 \tTraining Loss: 2.1654754421234133 \tValidation Loss: 0.49219978075027465\n",
            "Epoch: 31 \tTraining Loss: 2.166133510828018 \tValidation Loss: 0.49159191303253175\n",
            "Epoch: 32 \tTraining Loss: 2.1675336055755614 \tValidation Loss: 0.49343254318237306\n",
            "Epoch: 33 \tTraining Loss: 2.1700214540958402 \tValidation Loss: 0.4926205659866333\n",
            "Epoch: 34 \tTraining Loss: 2.169195466041565 \tValidation Loss: 0.4924762722015381\n",
            "Epoch: 35 \tTraining Loss: 2.1643432909965514 \tValidation Loss: 0.4920853453636169\n",
            "Epoch: 36 \tTraining Loss: 2.1674749032974243 \tValidation Loss: 0.49142000274658204\n",
            "Epoch: 37 \tTraining Loss: 2.164204298210144 \tValidation Loss: 0.4926143375396729\n",
            "Epoch: 38 \tTraining Loss: 2.1668855640411375 \tValidation Loss: 0.4922236273765564\n",
            "Epoch: 39 \tTraining Loss: 2.1656377203941344 \tValidation Loss: 0.4915398998260498\n",
            "Epoch: 40 \tTraining Loss: 2.1670334612846376 \tValidation Loss: 0.4928440184593201\n",
            "Epoch: 41 \tTraining Loss: 2.167901612854004 \tValidation Loss: 0.49256852016448976\n",
            "Epoch: 42 \tTraining Loss: 2.167855657196045 \tValidation Loss: 0.49199762678146364\n",
            "Epoch: 43 \tTraining Loss: 2.1672211676597595 \tValidation Loss: 0.49228136377334597\n",
            "Epoch: 44 \tTraining Loss: 2.166989113807678 \tValidation Loss: 0.4925010054588318\n",
            "Epoch: 45 \tTraining Loss: 2.168530304050446 \tValidation Loss: 0.4921581133842468\n",
            "Epoch: 46 \tTraining Loss: 2.166262101650238 \tValidation Loss: 0.4927874258041382\n",
            "Epoch: 47 \tTraining Loss: 2.165755940914154 \tValidation Loss: 0.4925312410354614\n",
            "Epoch: 48 \tTraining Loss: 2.167915111541748 \tValidation Loss: 0.4911610642433166\n",
            "Epoch: 49 \tTraining Loss: 2.1672081113815307 \tValidation Loss: 0.4918017783164978\n",
            "Epoch: 50 \tTraining Loss: 2.165634595108032 \tValidation Loss: 0.4916555090904236\n",
            "Epoch: 51 \tTraining Loss: 2.1621345757484436 \tValidation Loss: 0.49135139751434326\n",
            "Epoch: 52 \tTraining Loss: 2.1659624168395997 \tValidation Loss: 0.49344817686080933\n",
            "Epoch: 53 \tTraining Loss: 2.1680826557159425 \tValidation Loss: 0.49175163927078247\n",
            "Epoch: 54 \tTraining Loss: 2.1702593846321108 \tValidation Loss: 0.4928888611793518\n",
            "Epoch: 55 \tTraining Loss: 2.1652367392539977 \tValidation Loss: 0.4908827120780945\n",
            "Validation loss decreased (0.491161 --> 0.490883). Saving model ....\n",
            "Epoch: 56 \tTraining Loss: 2.1701387751579286 \tValidation Loss: 0.49284699440002444\n",
            "Epoch: 57 \tTraining Loss: 2.165691468811035 \tValidation Loss: 0.4930941813468933\n",
            "Epoch: 58 \tTraining Loss: 2.1657313751220704 \tValidation Loss: 0.49236393089294433\n",
            "Epoch: 59 \tTraining Loss: 2.166129368400574 \tValidation Loss: 0.49203833074569703\n",
            "Epoch: 60 \tTraining Loss: 2.1669957282066346 \tValidation Loss: 0.4921113728523254\n",
            "Epoch: 61 \tTraining Loss: 2.167514465999603 \tValidation Loss: 0.49237188558578493\n",
            "Epoch: 62 \tTraining Loss: 2.168163929462433 \tValidation Loss: 0.49180829114913943\n",
            "Epoch: 63 \tTraining Loss: 2.1665814118385316 \tValidation Loss: 0.4921075448036194\n",
            "Epoch: 64 \tTraining Loss: 2.1659408091545105 \tValidation Loss: 0.4919906865119934\n",
            "Epoch: 65 \tTraining Loss: 2.163938760185242 \tValidation Loss: 0.49192013187408445\n",
            "Epoch: 66 \tTraining Loss: 2.1694374702930452 \tValidation Loss: 0.4917362635612488\n",
            "Epoch: 67 \tTraining Loss: 2.166571609067917 \tValidation Loss: 0.49353423557281495\n",
            "Epoch: 68 \tTraining Loss: 2.1695981194496157 \tValidation Loss: 0.4930723823547363\n",
            "Epoch: 69 \tTraining Loss: 2.1661810564517974 \tValidation Loss: 0.4928241617202759\n",
            "Epoch: 70 \tTraining Loss: 2.1692757327079772 \tValidation Loss: 0.4932584976196289\n",
            "Epoch: 71 \tTraining Loss: 2.1657517592430113 \tValidation Loss: 0.4908671139717102\n",
            "Validation loss decreased (0.490883 --> 0.490867). Saving model ....\n",
            "Epoch: 72 \tTraining Loss: 2.1668778167724607 \tValidation Loss: 0.4919782250404358\n",
            "Epoch: 73 \tTraining Loss: 2.1681160059928892 \tValidation Loss: 0.4923418656349182\n",
            "Epoch: 74 \tTraining Loss: 2.1658963837623597 \tValidation Loss: 0.4923666079521179\n",
            "Epoch: 75 \tTraining Loss: 2.1649409153938293 \tValidation Loss: 0.4922101505279541\n",
            "Epoch: 76 \tTraining Loss: 2.165442539167404 \tValidation Loss: 0.4915119931221008\n",
            "Epoch: 77 \tTraining Loss: 2.169848850917816 \tValidation Loss: 0.4922571975708008\n",
            "Epoch: 78 \tTraining Loss: 2.165527326965332 \tValidation Loss: 0.49178079624176024\n",
            "Epoch: 79 \tTraining Loss: 2.1686178395271303 \tValidation Loss: 0.4923387166023254\n",
            "Epoch: 80 \tTraining Loss: 2.166866893672943 \tValidation Loss: 0.4921493863105774\n",
            "Epoch: 81 \tTraining Loss: 2.1657482883453367 \tValidation Loss: 0.49127760486602784\n",
            "Epoch: 82 \tTraining Loss: 2.1678178122520446 \tValidation Loss: 0.4914892627716064\n",
            "Epoch: 83 \tTraining Loss: 2.169185049819946 \tValidation Loss: 0.4918574432373047\n",
            "Epoch: 84 \tTraining Loss: 2.1666832641601563 \tValidation Loss: 0.49198379402160647\n",
            "Epoch: 85 \tTraining Loss: 2.1684755907058717 \tValidation Loss: 0.4918114112854004\n",
            "Epoch: 86 \tTraining Loss: 2.167949700832367 \tValidation Loss: 0.4928843111038208\n",
            "Epoch: 87 \tTraining Loss: 2.167457089519501 \tValidation Loss: 0.4932320343017578\n",
            "Epoch: 88 \tTraining Loss: 2.1682042536735535 \tValidation Loss: 0.4925214369773865\n",
            "Epoch: 89 \tTraining Loss: 2.1673455428123476 \tValidation Loss: 0.4922021493911743\n",
            "Epoch: 90 \tTraining Loss: 2.168355422115326 \tValidation Loss: 0.49293636178970335\n",
            "Epoch: 91 \tTraining Loss: 2.16814144411087 \tValidation Loss: 0.4916994082450867\n",
            "Epoch: 92 \tTraining Loss: 2.1659637421131133 \tValidation Loss: 0.4926878602027893\n",
            "Epoch: 93 \tTraining Loss: 2.1661930399894715 \tValidation Loss: 0.49259243011474607\n",
            "Epoch: 94 \tTraining Loss: 2.1664971735954284 \tValidation Loss: 0.4928465559959412\n",
            "Epoch: 95 \tTraining Loss: 2.1640740540504457 \tValidation Loss: 0.4915370767593384\n",
            "Epoch: 96 \tTraining Loss: 2.1650817902565 \tValidation Loss: 0.4923851574897766\n"
          ],
          "name": "stdout"
        },
        {
          "output_type": "error",
          "ename": "KeyboardInterrupt",
          "evalue": "ignored",
          "traceback": [
            "\u001b[0;31m---------------------------------------------------------------------------\u001b[0m",
            "\u001b[0;31mKeyboardInterrupt\u001b[0m                         Traceback (most recent call last)",
            "\u001b[0;32m<ipython-input-16-011b69da80b6>\u001b[0m in \u001b[0;36m<module>\u001b[0;34m()\u001b[0m\n\u001b[1;32m     45\u001b[0m \u001b[0;34m\u001b[0m\u001b[0m\n\u001b[1;32m     46\u001b[0m     \u001b[0;31m# update validation loss\u001b[0m\u001b[0;34m\u001b[0m\u001b[0;34m\u001b[0m\u001b[0;34m\u001b[0m\u001b[0m\n\u001b[0;32m---> 47\u001b[0;31m     \u001b[0mvalidation_loss\u001b[0m \u001b[0;34m+=\u001b[0m \u001b[0mloss\u001b[0m\u001b[0;34m.\u001b[0m\u001b[0mitem\u001b[0m\u001b[0;34m(\u001b[0m\u001b[0;34m)\u001b[0m\u001b[0;34m*\u001b[0m\u001b[0mdata\u001b[0m\u001b[0;34m.\u001b[0m\u001b[0msize\u001b[0m\u001b[0;34m(\u001b[0m\u001b[0;36m0\u001b[0m\u001b[0;34m)\u001b[0m\u001b[0;34m\u001b[0m\u001b[0;34m\u001b[0m\u001b[0m\n\u001b[0m\u001b[1;32m     48\u001b[0m \u001b[0;34m\u001b[0m\u001b[0m\n\u001b[1;32m     49\u001b[0m   \u001b[0;31m#average losses\u001b[0m\u001b[0;34m\u001b[0m\u001b[0;34m\u001b[0m\u001b[0;34m\u001b[0m\u001b[0m\n",
            "\u001b[0;31mKeyboardInterrupt\u001b[0m: "
          ]
        }
      ]
    },
    {
      "cell_type": "markdown",
      "metadata": {
        "id": "8Vo4_knNP5VM",
        "colab_type": "text"
      },
      "source": [
        "###Testing Random Net\n",
        "\n"
      ]
    },
    {
      "cell_type": "code",
      "metadata": {
        "id": "x71fz2neP7DO",
        "colab_type": "code",
        "colab": {}
      },
      "source": [
        "# load the model\n",
        "model.load_state_dict(torch.load('model_cifar-10.pt'))\n",
        "\n",
        "#test loss \n",
        "test_loss = 0.0\n",
        "correct_class = list(0. for i in range(10))\n",
        "total_class = list(0. for i in range(10))\n",
        "\n",
        "model.eval()\n",
        "for data, labels in test_loader:\n",
        "\n",
        "  if train_on_gpu:\n",
        "    data, labels = data.cuda(), labels.cuda()\n",
        "\n",
        "  output = model(data)\n",
        "  loss = criterion(output, labels)\n",
        "  test_loss += loss.item()*data.size(0)\n",
        "\n",
        "  _, pred = torch.max(output, 1)\n",
        "\n",
        "  correct_tensor = pred.eq(labels.data.view_as(pred))\n",
        "  correct = np.squeeze(correct_tensor.numpy()) if not train_on_gpu else np.squeeze(correct_tensor.cpu().numpy())\n",
        "\n",
        "  #test accuracy for each object class\n",
        "  for i in range(20):\n",
        "    label = labels.data[i]\n",
        "    correct_class[label] += correct[i].item()\n",
        "    total_class[label] += 1\n",
        "  \n",
        "# avg test loss\n",
        "test_loss = test_loss/len(test_loader.dataset)\n",
        "print(\"Test Loss: {:.6f}\\n\".format(test_loss))\n",
        "\n",
        "# print test accuracy\n",
        "for i in range(10):\n",
        "  if total_class[i]>0:\n",
        "    print('Test Accuracy of %5s: %2d%% (%2d/%2d)' % \n",
        "          (classes[i], 100 * correct_class[i] / total_class[i],\n",
        "          np.sum(correct_class[i]), np.sum(total_class[i])))\n",
        "  else:\n",
        "    print('Test Accuracy of %5s: N/A (no training examples)' % (classes[i]))\n",
        "\n",
        "print('\\nFinal Test  Accuracy: %2d%% (%2d/%2d)' % (\n",
        "      100. * np.sum(correct_class) / np.sum(total_class),\n",
        "      np.sum(correct_class), np.sum(total_class)))"
      ],
      "execution_count": 0,
      "outputs": []
    },
    {
      "cell_type": "markdown",
      "metadata": {
        "id": "HdDbDljw528R",
        "colab_type": "text"
      },
      "source": [
        "### Testing Simple Net"
      ]
    },
    {
      "cell_type": "code",
      "metadata": {
        "id": "TKHjn4_K56UJ",
        "colab_type": "code",
        "colab": {}
      },
      "source": [
        "# load the model\n",
        "model_SN.load_state_dict(torch.load('model_cifar-10_SN.pt'))\n",
        "\n",
        "#test loss \n",
        "test_loss = 0.0\n",
        "correct_class = list(0. for i in range(10))\n",
        "total_class = list(0. for i in range(10))\n",
        "\n",
        "model_SN.eval()\n",
        "for data, labels in test_loader:\n",
        "\n",
        "  if train_on_gpu:\n",
        "    data, labels = data.cuda(), labels.cuda()\n",
        "\n",
        "  output = model_SN(data)\n",
        "  loss = criterion(output, labels)\n",
        "  test_loss += loss.item()*data.size(0)\n",
        "\n",
        "  _, pred = torch.max(output, 1)\n",
        "\n",
        "  correct_tensor = pred.eq(labels.data.view_as(pred))\n",
        "  correct = np.squeeze(correct_tensor.numpy()) if not train_on_gpu else np.squeeze(correct_tensor.cpu().numpy())\n",
        "\n",
        "  #test accuracy for each object class\n",
        "  for i in range(20):\n",
        "    label = labels.data[i]\n",
        "    correct_class[label] += correct[i].item()\n",
        "    total_class[label] += 1\n",
        "  \n",
        "# avg test loss\n",
        "test_loss = test_loss/len(test_loader.dataset)\n",
        "print(\"Test Loss: {:.6f}\\n\".format(test_loss))\n",
        "\n",
        "# print test accuracy\n",
        "for i in range(10):\n",
        "  if total_class[i]>0:\n",
        "    print('Test Accuracy of %5s: %2d%% (%2d/%2d)' % \n",
        "          (classes[i], 100 * correct_class[i] / total_class[i],\n",
        "          np.sum(correct_class[i]), np.sum(total_class[i])))\n",
        "  else:\n",
        "    print('Test Accuracy of %5s: N/A (no training examples)' % (classes[i]))\n",
        "\n",
        "print('\\nFinal Test  Accuracy: %2d%% (%2d/%2d)' % (\n",
        "      100. * np.sum(correct_class) / np.sum(total_class),\n",
        "      np.sum(correct_class), np.sum(total_class)))"
      ],
      "execution_count": 0,
      "outputs": []
    }
  ]
}