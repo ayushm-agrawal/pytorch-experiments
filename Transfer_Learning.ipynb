{
  "nbformat": 4,
  "nbformat_minor": 0,
  "metadata": {
    "colab": {
      "name": "Pretrain Transfer Learning (Experiment).ipynb",
      "provenance": [],
      "collapsed_sections": [
        "tl0-f3yisbgL",
        "rbhUXCA3sRdv",
        "20o-eyOUQU6P",
        "NupxNKS-tpGO",
        "huYN4X6KKIG0",
        "mMdHao8JL_Og",
        "xFBiUMX8tkl9",
        "sRlvzL9VtpGP",
        "YzM5E8dOtvUJ",
        "JYA5p1Iet3FN",
        "V8q1e0viorcO",
        "Wcw6dh8Jo68x"
      ],
      "machine_shape": "hm",
      "include_colab_link": true
    },
    "kernelspec": {
      "name": "python3",
      "display_name": "Python 3"
    },
    "accelerator": "GPU",
    "widgets": {
      "application/vnd.jupyter.widget-state+json": {
        "2d7d66d9761743fbb7d8bbc203874d1f": {
          "model_module": "@jupyter-widgets/controls",
          "model_name": "HBoxModel",
          "state": {
            "_view_name": "HBoxView",
            "_dom_classes": [],
            "_model_name": "HBoxModel",
            "_view_module": "@jupyter-widgets/controls",
            "_model_module_version": "1.5.0",
            "_view_count": null,
            "_view_module_version": "1.5.0",
            "box_style": "",
            "layout": "IPY_MODEL_ad1c59691018456da0d6731c9a0e8855",
            "_model_module": "@jupyter-widgets/controls",
            "children": [
              "IPY_MODEL_f401cd05ec0e4327b7ea8413e7e2b325",
              "IPY_MODEL_1ccb88f699904d7f836e9ed1e6a1f9fb"
            ]
          }
        },
        "ad1c59691018456da0d6731c9a0e8855": {
          "model_module": "@jupyter-widgets/base",
          "model_name": "LayoutModel",
          "state": {
            "_view_name": "LayoutView",
            "grid_template_rows": null,
            "right": null,
            "justify_content": null,
            "_view_module": "@jupyter-widgets/base",
            "overflow": null,
            "_model_module_version": "1.2.0",
            "_view_count": null,
            "flex_flow": null,
            "width": null,
            "min_width": null,
            "border": null,
            "align_items": null,
            "bottom": null,
            "_model_module": "@jupyter-widgets/base",
            "top": null,
            "grid_column": null,
            "overflow_y": null,
            "overflow_x": null,
            "grid_auto_flow": null,
            "grid_area": null,
            "grid_template_columns": null,
            "flex": null,
            "_model_name": "LayoutModel",
            "justify_items": null,
            "grid_row": null,
            "max_height": null,
            "align_content": null,
            "visibility": null,
            "align_self": null,
            "height": null,
            "min_height": null,
            "padding": null,
            "grid_auto_rows": null,
            "grid_gap": null,
            "max_width": null,
            "order": null,
            "_view_module_version": "1.2.0",
            "grid_template_areas": null,
            "object_position": null,
            "object_fit": null,
            "grid_auto_columns": null,
            "margin": null,
            "display": null,
            "left": null
          }
        },
        "f401cd05ec0e4327b7ea8413e7e2b325": {
          "model_module": "@jupyter-widgets/controls",
          "model_name": "IntProgressModel",
          "state": {
            "_view_name": "ProgressView",
            "style": "IPY_MODEL_86cf9c36bb664aa39d560f213186ec26",
            "_dom_classes": [],
            "description": "",
            "_model_name": "IntProgressModel",
            "bar_style": "info",
            "max": 1,
            "_view_module": "@jupyter-widgets/controls",
            "_model_module_version": "1.5.0",
            "value": 1,
            "_view_count": null,
            "_view_module_version": "1.5.0",
            "orientation": "horizontal",
            "min": 0,
            "description_tooltip": null,
            "_model_module": "@jupyter-widgets/controls",
            "layout": "IPY_MODEL_3ed257fa15804e31838f549b3e7e85c2"
          }
        },
        "1ccb88f699904d7f836e9ed1e6a1f9fb": {
          "model_module": "@jupyter-widgets/controls",
          "model_name": "HTMLModel",
          "state": {
            "_view_name": "HTMLView",
            "style": "IPY_MODEL_34bf397a0a5c43c5b7d3a9aa12d870e1",
            "_dom_classes": [],
            "description": "",
            "_model_name": "HTMLModel",
            "placeholder": "​",
            "_view_module": "@jupyter-widgets/controls",
            "_model_module_version": "1.5.0",
            "value": " 170500096/? [00:30&lt;00:00, 16707586.55it/s]",
            "_view_count": null,
            "_view_module_version": "1.5.0",
            "description_tooltip": null,
            "_model_module": "@jupyter-widgets/controls",
            "layout": "IPY_MODEL_4cfb5fb9dc1241e5a4a5470dabaca917"
          }
        },
        "86cf9c36bb664aa39d560f213186ec26": {
          "model_module": "@jupyter-widgets/controls",
          "model_name": "ProgressStyleModel",
          "state": {
            "_view_name": "StyleView",
            "_model_name": "ProgressStyleModel",
            "description_width": "initial",
            "_view_module": "@jupyter-widgets/base",
            "_model_module_version": "1.5.0",
            "_view_count": null,
            "_view_module_version": "1.2.0",
            "bar_color": null,
            "_model_module": "@jupyter-widgets/controls"
          }
        },
        "3ed257fa15804e31838f549b3e7e85c2": {
          "model_module": "@jupyter-widgets/base",
          "model_name": "LayoutModel",
          "state": {
            "_view_name": "LayoutView",
            "grid_template_rows": null,
            "right": null,
            "justify_content": null,
            "_view_module": "@jupyter-widgets/base",
            "overflow": null,
            "_model_module_version": "1.2.0",
            "_view_count": null,
            "flex_flow": null,
            "width": null,
            "min_width": null,
            "border": null,
            "align_items": null,
            "bottom": null,
            "_model_module": "@jupyter-widgets/base",
            "top": null,
            "grid_column": null,
            "overflow_y": null,
            "overflow_x": null,
            "grid_auto_flow": null,
            "grid_area": null,
            "grid_template_columns": null,
            "flex": null,
            "_model_name": "LayoutModel",
            "justify_items": null,
            "grid_row": null,
            "max_height": null,
            "align_content": null,
            "visibility": null,
            "align_self": null,
            "height": null,
            "min_height": null,
            "padding": null,
            "grid_auto_rows": null,
            "grid_gap": null,
            "max_width": null,
            "order": null,
            "_view_module_version": "1.2.0",
            "grid_template_areas": null,
            "object_position": null,
            "object_fit": null,
            "grid_auto_columns": null,
            "margin": null,
            "display": null,
            "left": null
          }
        },
        "34bf397a0a5c43c5b7d3a9aa12d870e1": {
          "model_module": "@jupyter-widgets/controls",
          "model_name": "DescriptionStyleModel",
          "state": {
            "_view_name": "StyleView",
            "_model_name": "DescriptionStyleModel",
            "description_width": "",
            "_view_module": "@jupyter-widgets/base",
            "_model_module_version": "1.5.0",
            "_view_count": null,
            "_view_module_version": "1.2.0",
            "_model_module": "@jupyter-widgets/controls"
          }
        },
        "4cfb5fb9dc1241e5a4a5470dabaca917": {
          "model_module": "@jupyter-widgets/base",
          "model_name": "LayoutModel",
          "state": {
            "_view_name": "LayoutView",
            "grid_template_rows": null,
            "right": null,
            "justify_content": null,
            "_view_module": "@jupyter-widgets/base",
            "overflow": null,
            "_model_module_version": "1.2.0",
            "_view_count": null,
            "flex_flow": null,
            "width": null,
            "min_width": null,
            "border": null,
            "align_items": null,
            "bottom": null,
            "_model_module": "@jupyter-widgets/base",
            "top": null,
            "grid_column": null,
            "overflow_y": null,
            "overflow_x": null,
            "grid_auto_flow": null,
            "grid_area": null,
            "grid_template_columns": null,
            "flex": null,
            "_model_name": "LayoutModel",
            "justify_items": null,
            "grid_row": null,
            "max_height": null,
            "align_content": null,
            "visibility": null,
            "align_self": null,
            "height": null,
            "min_height": null,
            "padding": null,
            "grid_auto_rows": null,
            "grid_gap": null,
            "max_width": null,
            "order": null,
            "_view_module_version": "1.2.0",
            "grid_template_areas": null,
            "object_position": null,
            "object_fit": null,
            "grid_auto_columns": null,
            "margin": null,
            "display": null,
            "left": null
          }
        },
        "ca1784be60cc446882586337ea3e8c8f": {
          "model_module": "@jupyter-widgets/controls",
          "model_name": "HBoxModel",
          "state": {
            "_view_name": "HBoxView",
            "_dom_classes": [],
            "_model_name": "HBoxModel",
            "_view_module": "@jupyter-widgets/controls",
            "_model_module_version": "1.5.0",
            "_view_count": null,
            "_view_module_version": "1.5.0",
            "box_style": "",
            "layout": "IPY_MODEL_b2dcbd0ca7ff451d84172ee5f5669fea",
            "_model_module": "@jupyter-widgets/controls",
            "children": [
              "IPY_MODEL_75df31a64b5447d49a0473de9d974fa6",
              "IPY_MODEL_f4a5f26f93134bf589b41b65dc0faceb"
            ]
          }
        },
        "b2dcbd0ca7ff451d84172ee5f5669fea": {
          "model_module": "@jupyter-widgets/base",
          "model_name": "LayoutModel",
          "state": {
            "_view_name": "LayoutView",
            "grid_template_rows": null,
            "right": null,
            "justify_content": null,
            "_view_module": "@jupyter-widgets/base",
            "overflow": null,
            "_model_module_version": "1.2.0",
            "_view_count": null,
            "flex_flow": null,
            "width": null,
            "min_width": null,
            "border": null,
            "align_items": null,
            "bottom": null,
            "_model_module": "@jupyter-widgets/base",
            "top": null,
            "grid_column": null,
            "overflow_y": null,
            "overflow_x": null,
            "grid_auto_flow": null,
            "grid_area": null,
            "grid_template_columns": null,
            "flex": null,
            "_model_name": "LayoutModel",
            "justify_items": null,
            "grid_row": null,
            "max_height": null,
            "align_content": null,
            "visibility": null,
            "align_self": null,
            "height": null,
            "min_height": null,
            "padding": null,
            "grid_auto_rows": null,
            "grid_gap": null,
            "max_width": null,
            "order": null,
            "_view_module_version": "1.2.0",
            "grid_template_areas": null,
            "object_position": null,
            "object_fit": null,
            "grid_auto_columns": null,
            "margin": null,
            "display": null,
            "left": null
          }
        },
        "75df31a64b5447d49a0473de9d974fa6": {
          "model_module": "@jupyter-widgets/controls",
          "model_name": "IntProgressModel",
          "state": {
            "_view_name": "ProgressView",
            "style": "IPY_MODEL_bf2e35685507496fa9e310ae788947d8",
            "_dom_classes": [],
            "description": "",
            "_model_name": "IntProgressModel",
            "bar_style": "info",
            "max": 1,
            "_view_module": "@jupyter-widgets/controls",
            "_model_module_version": "1.5.0",
            "value": 1,
            "_view_count": null,
            "_view_module_version": "1.5.0",
            "orientation": "horizontal",
            "min": 0,
            "description_tooltip": null,
            "_model_module": "@jupyter-widgets/controls",
            "layout": "IPY_MODEL_0659749a24554391b0617f8c9ce624f1"
          }
        },
        "f4a5f26f93134bf589b41b65dc0faceb": {
          "model_module": "@jupyter-widgets/controls",
          "model_name": "HTMLModel",
          "state": {
            "_view_name": "HTMLView",
            "style": "IPY_MODEL_e9e417742b9d42ce92c3798d155cf853",
            "_dom_classes": [],
            "description": "",
            "_model_name": "HTMLModel",
            "placeholder": "​",
            "_view_module": "@jupyter-widgets/controls",
            "_model_module_version": "1.5.0",
            "value": " 169009152/? [00:24&lt;00:00, 17229960.67it/s]",
            "_view_count": null,
            "_view_module_version": "1.5.0",
            "description_tooltip": null,
            "_model_module": "@jupyter-widgets/controls",
            "layout": "IPY_MODEL_f898277d2bb8435cabbc57dbba098495"
          }
        },
        "bf2e35685507496fa9e310ae788947d8": {
          "model_module": "@jupyter-widgets/controls",
          "model_name": "ProgressStyleModel",
          "state": {
            "_view_name": "StyleView",
            "_model_name": "ProgressStyleModel",
            "description_width": "initial",
            "_view_module": "@jupyter-widgets/base",
            "_model_module_version": "1.5.0",
            "_view_count": null,
            "_view_module_version": "1.2.0",
            "bar_color": null,
            "_model_module": "@jupyter-widgets/controls"
          }
        },
        "0659749a24554391b0617f8c9ce624f1": {
          "model_module": "@jupyter-widgets/base",
          "model_name": "LayoutModel",
          "state": {
            "_view_name": "LayoutView",
            "grid_template_rows": null,
            "right": null,
            "justify_content": null,
            "_view_module": "@jupyter-widgets/base",
            "overflow": null,
            "_model_module_version": "1.2.0",
            "_view_count": null,
            "flex_flow": null,
            "width": null,
            "min_width": null,
            "border": null,
            "align_items": null,
            "bottom": null,
            "_model_module": "@jupyter-widgets/base",
            "top": null,
            "grid_column": null,
            "overflow_y": null,
            "overflow_x": null,
            "grid_auto_flow": null,
            "grid_area": null,
            "grid_template_columns": null,
            "flex": null,
            "_model_name": "LayoutModel",
            "justify_items": null,
            "grid_row": null,
            "max_height": null,
            "align_content": null,
            "visibility": null,
            "align_self": null,
            "height": null,
            "min_height": null,
            "padding": null,
            "grid_auto_rows": null,
            "grid_gap": null,
            "max_width": null,
            "order": null,
            "_view_module_version": "1.2.0",
            "grid_template_areas": null,
            "object_position": null,
            "object_fit": null,
            "grid_auto_columns": null,
            "margin": null,
            "display": null,
            "left": null
          }
        },
        "e9e417742b9d42ce92c3798d155cf853": {
          "model_module": "@jupyter-widgets/controls",
          "model_name": "DescriptionStyleModel",
          "state": {
            "_view_name": "StyleView",
            "_model_name": "DescriptionStyleModel",
            "description_width": "",
            "_view_module": "@jupyter-widgets/base",
            "_model_module_version": "1.5.0",
            "_view_count": null,
            "_view_module_version": "1.2.0",
            "_model_module": "@jupyter-widgets/controls"
          }
        },
        "f898277d2bb8435cabbc57dbba098495": {
          "model_module": "@jupyter-widgets/base",
          "model_name": "LayoutModel",
          "state": {
            "_view_name": "LayoutView",
            "grid_template_rows": null,
            "right": null,
            "justify_content": null,
            "_view_module": "@jupyter-widgets/base",
            "overflow": null,
            "_model_module_version": "1.2.0",
            "_view_count": null,
            "flex_flow": null,
            "width": null,
            "min_width": null,
            "border": null,
            "align_items": null,
            "bottom": null,
            "_model_module": "@jupyter-widgets/base",
            "top": null,
            "grid_column": null,
            "overflow_y": null,
            "overflow_x": null,
            "grid_auto_flow": null,
            "grid_area": null,
            "grid_template_columns": null,
            "flex": null,
            "_model_name": "LayoutModel",
            "justify_items": null,
            "grid_row": null,
            "max_height": null,
            "align_content": null,
            "visibility": null,
            "align_self": null,
            "height": null,
            "min_height": null,
            "padding": null,
            "grid_auto_rows": null,
            "grid_gap": null,
            "max_width": null,
            "order": null,
            "_view_module_version": "1.2.0",
            "grid_template_areas": null,
            "object_position": null,
            "object_fit": null,
            "grid_auto_columns": null,
            "margin": null,
            "display": null,
            "left": null
          }
        }
      }
    }
  },
  "cells": [
    {
      "cell_type": "markdown",
      "metadata": {
        "id": "view-in-github",
        "colab_type": "text"
      },
      "source": [
        "<a href=\"https://colab.research.google.com/github/ayushm-agrawal/pytorch-experiments/blob/master/Transfer_Learning.ipynb\" target=\"_parent\"><img src=\"https://colab.research.google.com/assets/colab-badge.svg\" alt=\"Open In Colab\"/></a>"
      ]
    },
    {
      "cell_type": "markdown",
      "metadata": {
        "id": "ai6lUmTK7R9W",
        "colab_type": "text"
      },
      "source": [
        "## Imports\n"
      ]
    },
    {
      "cell_type": "code",
      "metadata": {
        "id": "bMcKNuEx7I6O",
        "colab_type": "code",
        "colab": {}
      },
      "source": [
        "import numpy as np\n",
        "import math\n",
        "import matplotlib.pyplot as plt\n",
        "import PIL\n",
        "import time\n",
        "import random\n",
        "\n",
        "import torch\n",
        "import torchvision\n",
        "import torchvision.models as models\n",
        "import torch.nn.functional as F\n",
        "\n",
        "from torch import nn, optim\n",
        "from torchvision import transforms\n",
        "from torchvision.datasets import CIFAR10, CIFAR100\n",
        "from torch.utils.data import DataLoader, Dataset\n",
        "from torch.utils import data\n",
        "\n",
        "from PIL import Image\n",
        "from datetime import datetime, timedelta\n",
        "from sklearn.preprocessing import normalize\n",
        "from prettytable import PrettyTable"
      ],
      "execution_count": 0,
      "outputs": []
    },
    {
      "cell_type": "code",
      "metadata": {
        "id": "I6ibh4Z4ZcYJ",
        "colab_type": "code",
        "outputId": "28ad61ac-d5de-4c29-9b45-a1fa4cf8b20b",
        "colab": {
          "base_uri": "https://localhost:8080/",
          "height": 122
        }
      },
      "source": [
        "from google.colab import drive\n",
        "drive.mount('/content/drive')"
      ],
      "execution_count": 0,
      "outputs": [
        {
          "output_type": "stream",
          "text": [
            "Go to this URL in a browser: https://accounts.google.com/o/oauth2/auth?client_id=947318989803-6bn6qk8qdgf4n4g3pfee6491hc0brc4i.apps.googleusercontent.com&redirect_uri=urn%3aietf%3awg%3aoauth%3a2.0%3aoob&response_type=code&scope=email%20https%3a%2f%2fwww.googleapis.com%2fauth%2fdocs.test%20https%3a%2f%2fwww.googleapis.com%2fauth%2fdrive%20https%3a%2f%2fwww.googleapis.com%2fauth%2fdrive.photos.readonly%20https%3a%2f%2fwww.googleapis.com%2fauth%2fpeopleapi.readonly\n",
            "\n",
            "Enter your authorization code:\n",
            "··········\n",
            "Mounted at /content/drive\n"
          ],
          "name": "stdout"
        }
      ]
    },
    {
      "cell_type": "markdown",
      "metadata": {
        "id": "UJORcvpBs8En",
        "colab_type": "text"
      },
      "source": [
        "## Load Numpy CIFAR 100 Dataset"
      ]
    },
    {
      "cell_type": "code",
      "metadata": {
        "id": "aSu6P2-UZhb1",
        "colab_type": "code",
        "outputId": "58d7fbe5-1be6-4b28-9570-f9bac9c7b581",
        "colab": {
          "base_uri": "https://localhost:8080/",
          "height": 34
        }
      },
      "source": [
        "images = np.load('./drive/My Drive/DeepLearning/CIFAR/cifar_images.npy')\n",
        "labels = np.load('./drive/My Drive/DeepLearning/CIFAR/cifar_labels.npy')\n",
        "\n",
        "print(len(images), len(labels), len(np.unique(labels)))"
      ],
      "execution_count": 0,
      "outputs": [
        {
          "output_type": "stream",
          "text": [
            "50000 50000 100\n"
          ],
          "name": "stdout"
        }
      ]
    },
    {
      "cell_type": "markdown",
      "metadata": {
        "id": "bqsRdljXejS3",
        "colab_type": "text"
      },
      "source": [
        "## Pick CIFAR-100 Subset\n",
        "\n",
        "\n",
        "We will pick 20 random classes from the CIFAR-100 dataset and we'll pick 250 random images per class. \n",
        "\n",
        "NOTE: This is currently being used for both training and testing... Suggested solutions?"
      ]
    },
    {
      "cell_type": "code",
      "metadata": {
        "id": "REnGGzW2_IBr",
        "colab_type": "code",
        "outputId": "38ecf42b-01f0-437a-f29f-3a032046277a",
        "colab": {
          "base_uri": "https://localhost:8080/",
          "height": 34
        }
      },
      "source": [
        "np.random.seed(2)\n",
        "unique_classes = np.unique(labels)\n",
        "subset_classes_idx = np.random.choice(unique_classes.shape[0], 20, replace=False)\n",
        "subset_classes = unique_classes[subset_classes_idx]\n",
        "print(subset_classes, len(subset_classes))"
      ],
      "execution_count": 0,
      "outputs": [
        {
          "output_type": "stream",
          "text": [
            "[83 30 56 24 16 23  2 27 28 13 99 92 76 14  0 21  3 29 61 79] 20\n"
          ],
          "name": "stdout"
        }
      ]
    },
    {
      "cell_type": "code",
      "metadata": {
        "id": "lVCJ7ghMBhy5",
        "colab_type": "code",
        "colab": {}
      },
      "source": [
        "# shuffle the dataset\n",
        "count_dict = dict.fromkeys(subset_classes, 0)\n",
        "shuffled = list(zip(images, labels))\n",
        "random.shuffle(shuffled)\n",
        "n_images, n_labels = zip(*shuffled)"
      ],
      "execution_count": 0,
      "outputs": []
    },
    {
      "cell_type": "code",
      "metadata": {
        "id": "aRE-Did4ZaPM",
        "colab_type": "code",
        "outputId": "d5fad920-e8e2-4fb5-adef-f7424c83ee0f",
        "colab": {
          "base_uri": "https://localhost:8080/",
          "height": 268
        }
      },
      "source": [
        "# plot the shuffled images for test\n",
        "np.random.seed(3)\n",
        "figure = plt.figure(figsize=(25,4))\n",
        "for i in np.arange(20):\n",
        "  axis = figure.add_subplot(2, 20/2, i+1, xticks=[], yticks=[])\n",
        "  plt.imshow(np.transpose(n_images[i].reshape((3,32,32)), (1,2,0))) # convert from tensor to image\n",
        "  axis.set_title(n_labels[i])"
      ],
      "execution_count": 0,
      "outputs": [
        {
          "output_type": "display_data",
          "data": {
            "image/png": "[encoded data removed]",
            "text/plain": [
              "<Figure size 1800x288 with 20 Axes>"
            ]
          },
          "metadata": {
            "tags": []
          }
        }
      ]
    },
    {
      "cell_type": "code",
      "metadata": {
        "id": "Z91FxU505M_6",
        "colab_type": "code",
        "outputId": "8241a371-99ae-4fc6-cb10-1af22f730506",
        "colab": {
          "base_uri": "https://localhost:8080/",
          "height": 68
        }
      },
      "source": [
        "print(len(n_images), len(n_labels))\n",
        "print(count_dict)\n",
        "print(len(count_dict))"
      ],
      "execution_count": 0,
      "outputs": [
        {
          "output_type": "stream",
          "text": [
            "50000 50000\n",
            "{83: 0, 30: 0, 56: 0, 24: 0, 16: 0, 23: 0, 2: 0, 27: 0, 28: 0, 13: 0, 99: 0, 92: 0, 76: 0, 14: 0, 0: 0, 21: 0, 3: 0, 29: 0, 61: 0, 79: 0}\n",
            "20\n"
          ],
          "name": "stdout"
        }
      ]
    },
    {
      "cell_type": "code",
      "metadata": {
        "id": "biJJdJxZdpCj",
        "colab_type": "code",
        "colab": {}
      },
      "source": [
        "subset_imgs = []\n",
        "subset_labels =[]\n",
        "\n",
        "for i in range(len(n_images)):\n",
        "  if n_labels[i] in count_dict:\n",
        "    if count_dict[n_labels[i]] < 250:\n",
        "      subset_imgs.append(n_images[i].reshape((3,32,32)))\n",
        "      subset_labels.append(n_labels[i])\n",
        "      count_dict[n_labels[i]] += 1\n",
        "\n",
        "subset_imgs = np.asarray(subset_imgs)\n",
        "subset_labels = np.asarray(subset_labels)"
      ],
      "execution_count": 0,
      "outputs": []
    },
    {
      "cell_type": "code",
      "metadata": {
        "id": "LR1r-RP03d_d",
        "colab_type": "code",
        "outputId": "16a36e26-004f-4ca7-ed44-7423acd828e7",
        "colab": {
          "base_uri": "https://localhost:8080/",
          "height": 68
        }
      },
      "source": [
        "print(len(subset_imgs))\n",
        "print(subset_imgs.shape)\n",
        "print(type(subset_imgs))"
      ],
      "execution_count": 0,
      "outputs": [
        {
          "output_type": "stream",
          "text": [
            "5000\n",
            "(5000, 3, 32, 32)\n",
            "<class 'numpy.ndarray'>\n"
          ],
          "name": "stdout"
        }
      ]
    },
    {
      "cell_type": "code",
      "metadata": {
        "id": "Ul86O8DW1Z-4",
        "colab_type": "code",
        "outputId": "6b113ce1-9610-4c92-8923-86727248a7ed",
        "colab": {
          "base_uri": "https://localhost:8080/",
          "height": 268
        }
      },
      "source": [
        "figure = plt.figure(figsize=(25,4))\n",
        "for i in np.arange(20):\n",
        "  axis = figure.add_subplot(2, 20/2, i+1, xticks=[], yticks=[])\n",
        "  plt.imshow(np.transpose(subset_imgs[i], (1,2,0))) # convert from tensor to image\n",
        "\n",
        "  axis.set_title(subset_labels[i])"
      ],
      "execution_count": 0,
      "outputs": [
        {
          "output_type": "display_data",
          "data": {
            "image/png": "[encoded data removed]",
            "text/plain": [
              "<Figure size 1800x288 with 20 Axes>"
            ]
          },
          "metadata": {
            "tags": []
          }
        }
      ]
    },
    {
      "cell_type": "code",
      "metadata": {
        "id": "yTfl6aT46Vk2",
        "colab_type": "code",
        "colab": {}
      },
      "source": [
        "transform_train = transforms.Compose([\n",
        "        transforms.ToPILImage(),\n",
        "        transforms.RandomCrop(32, padding=4),\n",
        "        transforms.RandomHorizontalFlip(),\n",
        "        transforms.RandomRotation(15),\n",
        "        transforms.ToTensor(),\n",
        "        transforms.Normalize((0.5, 0.5, 0.5), (0.5, 0.5, 0.5))\n",
        "    ])"
      ],
      "execution_count": 0,
      "outputs": []
    },
    {
      "cell_type": "code",
      "metadata": {
        "id": "Pq0Rj_Wq9VdX",
        "colab_type": "code",
        "colab": {}
      },
      "source": [
        "class CustomTensorDataset(Dataset):\n",
        "    \"\"\"TensorDataset with support of transforms.\n",
        "    \"\"\"\n",
        "    def __init__(self, tensors, transform=None):\n",
        "        assert all(tensors[0].size(0) == tensor.size(0) for tensor in tensors)\n",
        "        self.tensors = tensors\n",
        "        self.transform = transform\n",
        "\n",
        "    def __getitem__(self, index):\n",
        "        x = self.tensors[0][index]\n",
        "\n",
        "        if self.transform:\n",
        "            x = self.transform(x)\n",
        "\n",
        "        y = self.tensors[1][index]\n",
        "\n",
        "        return x, y\n",
        "\n",
        "    def __len__(self):\n",
        "        return self.tensors[0].size(0)\n",
        "\n",
        "\n",
        "def imshow(img, title=''):\n",
        "    \"\"\"Plot the image batch.\n",
        "    \"\"\"\n",
        "    plt.figure(figsize=(10, 10))\n",
        "    plt.title(title)\n",
        "    plt.imshow(np.transpose( img.numpy(), (1, 2, 0)), cmap='gray')\n",
        "    plt.show()\n"
      ],
      "execution_count": 0,
      "outputs": []
    },
    {
      "cell_type": "code",
      "metadata": {
        "id": "y33n0vhDoswD",
        "colab_type": "code",
        "outputId": "5ac0e2e7-e6ee-4195-dcdf-dd08fa912ea7",
        "colab": {
          "base_uri": "https://localhost:8080/",
          "height": 51
        }
      },
      "source": [
        "subset_imgs_new  = subset_imgs.astype('float64')\n",
        "subset_imgs_new /= 255.0\n",
        "print(\"Max: {}... \\tMin: {}\".format(subset_imgs_new.max(), subset_imgs_new.min()))\n",
        "subset_normalized = subset_imgs_new\n",
        "print(type(subset_normalized), type(subset_labels))\n",
        "subset_normalized = torch.Tensor(subset_normalized)\n",
        "subset_norm_labels = torch.Tensor(subset_labels)\n",
        "my_dataset = CustomTensorDataset(tensors=(subset_normalized, subset_norm_labels), transform=transform_train)"
      ],
      "execution_count": 0,
      "outputs": [
        {
          "output_type": "stream",
          "text": [
            "Max: 1.0... \tMin: 0.0\n",
            "<class 'numpy.ndarray'> <class 'numpy.ndarray'>\n"
          ],
          "name": "stdout"
        }
      ]
    },
    {
      "cell_type": "code",
      "metadata": {
        "id": "_qVsclQPv_-Q",
        "colab_type": "code",
        "colab": {}
      },
      "source": [
        "train_loader = DataLoader(my_dataset, shuffle=True, batch_size=32, num_workers=0)"
      ],
      "execution_count": 0,
      "outputs": []
    },
    {
      "cell_type": "code",
      "metadata": {
        "id": "fzjra1CowOHg",
        "colab_type": "code",
        "outputId": "bbdbff93-f95c-447b-ab23-3208e0c0de36",
        "colab": {
          "base_uri": "https://localhost:8080/",
          "height": 641
        }
      },
      "source": [
        "print('Number of iterations required to get through training data: ', len(train_loader))\n",
        "for i, data in enumerate(train_loader):\n",
        "    x, y = data  \n",
        "    imshow(torchvision.utils.make_grid(x, 4), title='Transforms')\n",
        "    break"
      ],
      "execution_count": 0,
      "outputs": [
        {
          "output_type": "stream",
          "text": [
            "Clipping input data to the valid range for imshow with RGB data ([0..1] for floats or [0..255] for integers).\n"
          ],
          "name": "stderr"
        },
        {
          "output_type": "stream",
          "text": [
            "Number of iterations required to get through training data:  157\n"
          ],
          "name": "stdout"
        },
        {
          "output_type": "display_data",
          "data": {
            "image/png": "[encoded data removed]",
            "text/plain": [
              "<Figure size 720x720 with 1 Axes>"
            ]
          },
          "metadata": {
            "tags": []
          }
        }
      ]
    },
    {
      "cell_type": "markdown",
      "metadata": {
        "id": "gRWv4sSb8Vgl",
        "colab_type": "text"
      },
      "source": [
        "## Data Loaders"
      ]
    },
    {
      "cell_type": "code",
      "metadata": {
        "id": "3sjJXgkB7eVy",
        "colab_type": "code",
        "colab": {}
      },
      "source": [
        "def get_dataloaders(batch_size=32, shuffle=True, num_workers=0, dataset=\"CIFAR10\"):\n",
        "\n",
        "    # Create Transforms\n",
        "    transform_train = transforms.Compose([\n",
        "        transforms.RandomCrop(32, padding=4),\n",
        "        transforms.RandomHorizontalFlip(),\n",
        "        transforms.RandomRotation(15),\n",
        "        transforms.ToTensor(),\n",
        "        transforms.Normalize((0.5, 0.5, 0.5), (0.5, 0.5, 0.5))\n",
        "    ])\n",
        "    transform_valid = transforms.Compose([\n",
        "        transforms.ToTensor(),\n",
        "        transforms.Normalize((0.5, 0.5, 0.5), (0.5, 0.5, 0.5))\n",
        "    ])\n",
        "\n",
        "    if(dataset == 'CIFAR100'):\n",
        "      root_folder = './data/cifar100'\n",
        "      # Get Training Data\n",
        "      train_data = CIFAR100(root= root_folder, train=True, download=True, \n",
        "                              transform=transform_train)\n",
        "      # Get Testing Data\n",
        "      valid_data = CIFAR100(root=root_folder, train=False, download=True,\n",
        "                            transform=transform_valid)\n",
        "    else:\n",
        "      root_folder = './data/cifar10'\n",
        "      # Get Training Data\n",
        "      train_data = CIFAR10(root=root_folder, train=True, download=True, \n",
        "                              transform=transform_train)\n",
        "      # Get Testing Data\n",
        "      valid_data = CIFAR10(root=root_folder, train=False, download=True,\n",
        "                            transform=transform_valid)\n",
        "    #class to idx mapping\n",
        "    classes = train_data.class_to_idx\n",
        "\n",
        "\n",
        "    # Create Dataloaders\n",
        "    train_loader = DataLoader(train_data, \n",
        "                                          shuffle=shuffle, \n",
        "                                          batch_size=batch_size,\n",
        "                                          num_workers=num_workers)\n",
        "    \n",
        "    valid_loader = DataLoader(valid_data, \n",
        "                                      batch_size=batch_size, \n",
        "                                      shuffle=False, \n",
        "                                      num_workers=num_workers)\n",
        "\n",
        "    print('Number of iterations required to get through training data: ', len(train_loader))\n",
        "    print('Number of iterations required to get through validation data: ', len(valid_loader))\n",
        "    loaders = {\"train\": train_loader, \"valid\": valid_loader}\n",
        "\n",
        "    return loaders, classes"
      ],
      "execution_count": 0,
      "outputs": []
    },
    {
      "cell_type": "code",
      "metadata": {
        "id": "3lhJz8LnnII5",
        "colab_type": "code",
        "outputId": "b1edf4af-c688-4fc5-d474-17a2226b2243",
        "colab": {
          "base_uri": "https://localhost:8080/",
          "height": 305,
          "referenced_widgets": [
            "2d7d66d9761743fbb7d8bbc203874d1f",
            "ad1c59691018456da0d6731c9a0e8855",
            "f401cd05ec0e4327b7ea8413e7e2b325",
            "1ccb88f699904d7f836e9ed1e6a1f9fb",
            "86cf9c36bb664aa39d560f213186ec26",
            "3ed257fa15804e31838f549b3e7e85c2",
            "34bf397a0a5c43c5b7d3a9aa12d870e1",
            "4cfb5fb9dc1241e5a4a5470dabaca917",
            "ca1784be60cc446882586337ea3e8c8f",
            "b2dcbd0ca7ff451d84172ee5f5669fea",
            "75df31a64b5447d49a0473de9d974fa6",
            "f4a5f26f93134bf589b41b65dc0faceb",
            "bf2e35685507496fa9e310ae788947d8",
            "0659749a24554391b0617f8c9ce624f1",
            "e9e417742b9d42ce92c3798d155cf853",
            "f898277d2bb8435cabbc57dbba098495"
          ]
        }
      },
      "source": [
        "loaders10, cifar10_classes = get_dataloaders()\n",
        "print(\"CIFAR 10 Classes: {}\".format(cifar10_classes))\n",
        "\n",
        "loaders100, cifar100_classes = get_dataloaders(dataset=\"CIFAR100\")\n",
        "print(\"CIFAR 100 Classes: {}\".format(cifar100_classes))"
      ],
      "execution_count": 0,
      "outputs": [
        {
          "output_type": "stream",
          "text": [
            "Downloading https://www.cs.toronto.edu/~kriz/cifar-10-python.tar.gz to ./data/cifar10/cifar-10-python.tar.gz\n"
          ],
          "name": "stdout"
        },
        {
          "output_type": "display_data",
          "data": {
            "application/vnd.jupyter.widget-view+json": {
              "model_id": "2d7d66d9761743fbb7d8bbc203874d1f",
              "version_minor": 0,
              "version_major": 2
            },
            "text/plain": [
              "HBox(children=(IntProgress(value=1, bar_style='info', max=1), HTML(value='')))"
            ]
          },
          "metadata": {
            "tags": []
          }
        },
        {
          "output_type": "stream",
          "text": [
            "Extracting ./data/cifar10/cifar-10-python.tar.gz to ./data/cifar10\n",
            "Files already downloaded and verified\n",
            "Number of iterations required to get through training data:  1563\n",
            "Number of iterations required to get through validation data:  313\n",
            "CIFAR 10 Classes: {'airplane': 0, 'automobile': 1, 'bird': 2, 'cat': 3, 'deer': 4, 'dog': 5, 'frog': 6, 'horse': 7, 'ship': 8, 'truck': 9}\n",
            "Downloading https://www.cs.toronto.edu/~kriz/cifar-100-python.tar.gz to ./data/cifar100/cifar-100-python.tar.gz\n"
          ],
          "name": "stdout"
        },
        {
          "output_type": "display_data",
          "data": {
            "application/vnd.jupyter.widget-view+json": {
              "model_id": "ca1784be60cc446882586337ea3e8c8f",
              "version_minor": 0,
              "version_major": 2
            },
            "text/plain": [
              "HBox(children=(IntProgress(value=1, bar_style='info', max=1), HTML(value='')))"
            ]
          },
          "metadata": {
            "tags": []
          }
        },
        {
          "output_type": "stream",
          "text": [
            "Extracting ./data/cifar100/cifar-100-python.tar.gz to ./data/cifar100\n",
            "Files already downloaded and verified\n",
            "Number of iterations required to get through training data:  1563\n",
            "Number of iterations required to get through validation data:  313\n",
            "CIFAR 100 Classes: {'apple': 0, 'aquarium_fish': 1, 'baby': 2, 'bear': 3, 'beaver': 4, 'bed': 5, 'bee': 6, 'beetle': 7, 'bicycle': 8, 'bottle': 9, 'bowl': 10, 'boy': 11, 'bridge': 12, 'bus': 13, 'butterfly': 14, 'camel': 15, 'can': 16, 'castle': 17, 'caterpillar': 18, 'cattle': 19, 'chair': 20, 'chimpanzee': 21, 'clock': 22, 'cloud': 23, 'cockroach': 24, 'couch': 25, 'crab': 26, 'crocodile': 27, 'cup': 28, 'dinosaur': 29, 'dolphin': 30, 'elephant': 31, 'flatfish': 32, 'forest': 33, 'fox': 34, 'girl': 35, 'hamster': 36, 'house': 37, 'kangaroo': 38, 'keyboard': 39, 'lamp': 40, 'lawn_mower': 41, 'leopard': 42, 'lion': 43, 'lizard': 44, 'lobster': 45, 'man': 46, 'maple_tree': 47, 'motorcycle': 48, 'mountain': 49, 'mouse': 50, 'mushroom': 51, 'oak_tree': 52, 'orange': 53, 'orchid': 54, 'otter': 55, 'palm_tree': 56, 'pear': 57, 'pickup_truck': 58, 'pine_tree': 59, 'plain': 60, 'plate': 61, 'poppy': 62, 'porcupine': 63, 'possum': 64, 'rabbit': 65, 'raccoon': 66, 'ray': 67, 'road': 68, 'rocket': 69, 'rose': 70, 'sea': 71, 'seal': 72, 'shark': 73, 'shrew': 74, 'skunk': 75, 'skyscraper': 76, 'snail': 77, 'snake': 78, 'spider': 79, 'squirrel': 80, 'streetcar': 81, 'sunflower': 82, 'sweet_pepper': 83, 'table': 84, 'tank': 85, 'telephone': 86, 'television': 87, 'tiger': 88, 'tractor': 89, 'train': 90, 'trout': 91, 'tulip': 92, 'turtle': 93, 'wardrobe': 94, 'whale': 95, 'willow_tree': 96, 'wolf': 97, 'woman': 98, 'worm': 99}\n"
          ],
          "name": "stdout"
        }
      ]
    },
    {
      "cell_type": "markdown",
      "metadata": {
        "id": "goyq0unLSv4I",
        "colab_type": "text"
      },
      "source": [
        "## Training Loop\n",
        "\n"
      ]
    },
    {
      "cell_type": "code",
      "metadata": {
        "id": "DwI9Wda1SyCN",
        "colab_type": "code",
        "colab": {}
      },
      "source": [
        "def get_time_format(seconds):\n",
        "    sec = timedelta(seconds=int(seconds))\n",
        "    d = datetime(1,1,1) + sec\n",
        "    if  d.day-1 == 1:\n",
        "        return \"%.2d:%.2d:%.2d:%.2d\" % (d.day-1, d.hour, d.minute, d.second)\n",
        "    return \"%.2d:%.2d:%.2d\" % (d.hour, d.minute, d.second)\n",
        "\n",
        "def calculate_time( start_time ):\n",
        "    return get_time_format(time.time() - start_time)\n",
        "\n",
        "def print_info(pretty_table, epoch, train_loss, valid_loss, train_acc, \n",
        "               valid_acc, epoch_duration, train_duration, validation_duration, \n",
        "               valid_loss_info, model_saved):\n",
        "  \n",
        "    pretty_table.add_row([epoch, train_loss, valid_loss, train_acc, valid_acc, \n",
        "                          epoch_duration, train_duration, validation_duration, \n",
        "                          valid_loss_info, model_saved])\n",
        "    print(pretty_table, end=\"\\r\")\n",
        "\n",
        "def training_loop(n_epochs, loaders, model, optimizer, criterion, save_path):\n",
        "    \"\"\"\n",
        "    This function performs model training.\n",
        "    params:\n",
        "        - n_epochs:\n",
        "            Number of epochs to train.\n",
        "        - loaders:\n",
        "            Dictionary consisting of data loaders for train and validation\n",
        "        - model:\n",
        "            Model object/instance which is used for training.\n",
        "        - optimizer:\n",
        "            Optimizer for training.\n",
        "        - criterion:\n",
        "            Loss function for training.\n",
        "        - save_path:\n",
        "            Path to the directory where the best model is saved.\n",
        "    returns:\n",
        "        - model:\n",
        "            Trained Model object/instance.\n",
        "    \n",
        "    \"\"\"\n",
        "    # initialize tracker for minimum validation loss\n",
        "    valid_loss_min = np.Inf \n",
        "    \n",
        "    pretty_table = PrettyTable([\n",
        "        \"Epoch No.\",\n",
        "        \"Training Loss\", \n",
        "        \"Validation Loss\", \n",
        "        \"Training Accuracy\", \n",
        "        \"Validation Accuracy\", \n",
        "        \"Epoch Duration\", \n",
        "        \"Training Duration\", \n",
        "        \"Validation Duration\", \n",
        "        \"Validation loss decrease\", \n",
        "        \"Model Saved\"\n",
        "        ])\n",
        "\n",
        "    # initialize time for training \n",
        "    total_training_duration = time.time()\n",
        "\n",
        "    for epoch in range(1, n_epochs+1):\n",
        "\n",
        "        # initialize time for each epoch\n",
        "        epoch_duration = time.time()\n",
        "\n",
        "        # initialize variables to monitor training and validation loss\n",
        "        train_loss = 0.0\n",
        "        valid_loss = 0.0\n",
        "        \n",
        "        ###################\n",
        "        # train the model #\n",
        "        ###################\n",
        "        # turn on train mode\n",
        "        model.train()\n",
        "        \n",
        "        correct = 0.\n",
        "        total = 0.\n",
        "        train_duration = time.time()\n",
        "\n",
        "        for batch_idx, (data, target) in enumerate(loaders['train']):\n",
        "            # move to GPU\n",
        "            data, target = data.cuda(), target.cuda()\n",
        "            \n",
        "            ## find the loss and update the model parameters accordingly\n",
        "            optimizer.zero_grad()\n",
        "            output = model(data)\n",
        "            \n",
        "            loss = criterion(output, target)\n",
        "            \n",
        "            loss.backward()\n",
        "            \n",
        "            optimizer.step()\n",
        "        \n",
        "            # convert output probabilities to predicted class\n",
        "            pred = output.data.max(1, keepdim=True)[1]\n",
        "            \n",
        "            # record the average training loss\n",
        "            train_loss += ((1 / (batch_idx + 1)) * (loss.data - train_loss))\n",
        "\n",
        "            # accumulate correct predictions\n",
        "            correct += np.sum(np.squeeze(pred.eq(target.data.view_as(pred))).cpu().numpy())\n",
        "\n",
        "            # accumulate total number of examples\n",
        "            total += data.size(0)\n",
        "\n",
        "        # compute training accuracy\n",
        "        train_acc = correct / total\n",
        "        \n",
        "        train_duration = calculate_time(train_duration)\n",
        "        \n",
        "\n",
        "        #####################    \n",
        "        #validate the model #\n",
        "        #####################\n",
        "        # turn on evaluation mode\n",
        "        model.eval()\n",
        "        correct = 0.\n",
        "        total = 0.\n",
        "\n",
        "        validation_duration = time.time()\n",
        "        for batch_idx, (data, target) in enumerate(loaders['valid']):\n",
        "            # move to GPU\n",
        "            data, target = data.cuda(), target.cuda()\n",
        "            ## update the average validation loss\n",
        "            output = model(data)\n",
        "            loss = criterion(output, target)\n",
        "            \n",
        "            # convert output probabilities to predicted class\n",
        "            pred = output.data.max(1, keepdim=True)[1]\n",
        "\n",
        "            # record the average training loss\n",
        "            valid_loss += ((1 / (batch_idx + 1)) * (loss.data - valid_loss))\n",
        "            # accumulate correct predictions\n",
        "            correct += np.sum(np.squeeze(pred.eq(target.data.view_as(pred))).cpu().numpy())\n",
        "            # accumulate total number of examples\n",
        "            total += data.size(0)\n",
        "            \n",
        "        # compute validation accuracy\n",
        "        valid_acc = correct / total\n",
        "\n",
        "        validation_duration = calculate_time(validation_duration)\n",
        "        epoch_duration = calculate_time(epoch_duration)\n",
        "\n",
        "        ## save the model if validation loss has decreased\n",
        "        model_saved = False\n",
        "        valid_loss_info = '-'\n",
        "\n",
        "        ## save the model if validation loss has decreased\n",
        "        if valid_loss <= valid_loss_min:\n",
        "            model_saved = True\n",
        "            valid_loss_info = \"{:.6f} --> {:.6f}\".format( valid_loss_min, valid_loss)\n",
        "\n",
        "            torch.save(model.state_dict(), save_path)\n",
        "            valid_loss_min = valid_loss\n",
        "        \n",
        "        pretty_table.add_row([epoch, train_loss, valid_loss, train_acc, valid_acc, epoch_duration, train_duration, validation_duration, valid_loss_info, model_saved])\n",
        "        print(\"Training done : {}%\".format(epoch/n_epochs * 100), end=\"\\r\")\n",
        "\n",
        "    print(pretty_table)    \n",
        "    print(\"Total training duration; {}\".format(calculate_time(total_training_duration)))\n",
        "    # # return trained model\n",
        "    # return model\n",
        "\n",
        "def new_training_loop(n_epochs, loaders, model, optimizer, criterion, save_path):\n",
        "    \"\"\"\n",
        "    This function performs model training.\n",
        "    params:\n",
        "        - n_epochs:\n",
        "            Number of epochs to train.\n",
        "        - loaders:\n",
        "            Dictionary consisting of data loaders for train and validation\n",
        "        - model:\n",
        "            Model object/instance which is used for training.\n",
        "        - optimizer:\n",
        "            Optimizer for training.\n",
        "        - criterion:\n",
        "            Loss function for training.\n",
        "        - save_path:\n",
        "            Path to the directory where the best model is saved.\n",
        "    returns:\n",
        "        - model:\n",
        "            Trained Model object/instance.\n",
        "    \n",
        "    \"\"\"\n",
        "    # initialize tracker for minimum validation loss\n",
        "    valid_loss_min = np.Inf \n",
        "    \n",
        "    pretty_table = PrettyTable([\n",
        "        \"Epoch No.\",\n",
        "        \"Training Loss\", \n",
        "        \"Training Accuracy\", \n",
        "        \"Epoch Duration\", \n",
        "        \"Training Duration\"\n",
        "        ])\n",
        "\n",
        "    # initialize time for training \n",
        "    total_training_duration = time.time()\n",
        "\n",
        "    for epoch in range(1, n_epochs+1):\n",
        "\n",
        "        # initialize time for each epoch\n",
        "        epoch_duration = time.time()\n",
        "\n",
        "        # initialize variables to monitor training and validation loss\n",
        "        train_loss = 0.0\n",
        "        valid_loss = 0.0\n",
        "        \n",
        "        ###################\n",
        "        # train the model #\n",
        "        ###################\n",
        "        # turn on train mode\n",
        "        model.train()\n",
        "        \n",
        "        correct = 0.\n",
        "        total = 0.\n",
        "        train_duration = time.time()\n",
        "\n",
        "        for batch_idx, (data, target) in enumerate(loaders):\n",
        "            # move to GPU\n",
        "            data, target = data.cuda(), target.cuda()\n",
        "            target = target.long()\n",
        "            # print(data.shape)\n",
        "            ## find the loss and update the model parameters accordingly\n",
        "            optimizer.zero_grad()\n",
        "            output = model(data)\n",
        "            loss = criterion(output, target)\n",
        "\n",
        "            loss.backward()\n",
        "            \n",
        "            optimizer.step()\n",
        "        \n",
        "            # convert output probabilities to predicted class\n",
        "            pred = output.data.max(1, keepdim=True)[1]\n",
        "            \n",
        "            # record the average training loss\n",
        "            train_loss += ((1 / (batch_idx + 1)) * (loss.data - train_loss))\n",
        "\n",
        "            # accumulate correct predictions\n",
        "            correct += np.sum(np.squeeze(pred.eq(target.data.view_as(pred))).cpu().numpy())\n",
        "\n",
        "            # accumulate total number of examples\n",
        "            total += data.size(0)\n",
        "\n",
        "        # compute training accuracy\n",
        "        train_acc = correct / total\n",
        "        \n",
        "        train_duration = calculate_time(train_duration)\n",
        "        torch.save(model.state_dict(), save_path)\n",
        "        pretty_table.add_row([epoch, train_loss, train_acc, epoch_duration, train_duration])\n",
        "        print(\"Training done : {}%\".format(epoch/n_epochs * 100), end=\"\\r\")  \n",
        "\n",
        "    print(pretty_table)  \n",
        "    print(\"Total training duration; {}\".format(calculate_time(total_training_duration)))\n",
        "    # # return trained model\n",
        "    # return model"
      ],
      "execution_count": 0,
      "outputs": []
    },
    {
      "cell_type": "markdown",
      "metadata": {
        "id": "YkFBGN-q52xn",
        "colab_type": "text"
      },
      "source": [
        "## Testing Loop"
      ]
    },
    {
      "cell_type": "code",
      "metadata": {
        "id": "AjssHyMq50BT",
        "colab_type": "code",
        "colab": {}
      },
      "source": [
        "def test_model(test_model, num_classes, loaders):\n",
        "  #test loss \n",
        "  test_loss = 0.0\n",
        "  train_on_gpu = True\n",
        "  correct_class = list(0. for i in range(num_classes))\n",
        "  total_class = list(0. for i in range(num_classes))\n",
        "  classes = np.arange(num_classes)\n",
        "\n",
        "  test_model.eval()\n",
        "  for data, labels in loaders100[\"valid\"]:\n",
        "    labels =labels.long()\n",
        "    data, labels = data.cuda(), labels.cuda()\n",
        "\n",
        "    output = test_model(data)\n",
        "    loss = criterion(output, labels)\n",
        "    test_loss += loss.item()*data.size(0)\n",
        "\n",
        "    _, pred = torch.max(output, 1)\n",
        "\n",
        "    correct_tensor = pred.eq(labels.data.view_as(pred))\n",
        "    correct = np.squeeze(correct_tensor.numpy()) if not train_on_gpu else np.squeeze(correct_tensor.cpu().numpy())\n",
        "\n",
        "    #test accuracy for each object class\n",
        "    for i in range(32):\n",
        "      try:\n",
        "        # print(i, labels.data[i])\n",
        "        label = labels.data[i]\n",
        "        correct_class[label] += correct[i].item()\n",
        "        total_class[label] += 1\n",
        "      except Exception as e:\n",
        "        pass\n",
        "    \n",
        "  # avg test loss\n",
        "  test_loss = test_loss/len(loaders100['valid'].dataset)\n",
        "  print(\"Test Loss: {:.6f}\\n\".format(test_loss))\n",
        "\n",
        "  # print test accuracy\n",
        "  for i in range(num_classes):\n",
        "    if total_class[i]>0:\n",
        "      print('Test Accuracy of %5s: %2d%% (%2d/%2d)' % \n",
        "            (classes[i], 100 * correct_class[i] / total_class[i],\n",
        "            np.sum(correct_class[i]), np.sum(total_class[i])))\n",
        "    else:\n",
        "      print('Test Accuracy of %5s: N/A (no training examples)' % (classes[i]))\n",
        "\n",
        "  print('\\nFinal Test  Accuracy: %2d%% (%2d/%2d)' % (\n",
        "        100. * np.sum(correct_class) / np.sum(total_class),\n",
        "        np.sum(correct_class), np.sum(total_class)))"
      ],
      "execution_count": 0,
      "outputs": []
    },
    {
      "cell_type": "markdown",
      "metadata": {
        "id": "ZM_mVXRysI88",
        "colab_type": "text"
      },
      "source": [
        "## Model\n"
      ]
    },
    {
      "cell_type": "code",
      "metadata": {
        "id": "k2GQU4ji-zNL",
        "colab_type": "code",
        "colab": {}
      },
      "source": [
        "class Net(nn.Module):\n",
        "    def __init__(self, num_classes):\n",
        "        super(Net, self).__init__()\n",
        "        self.conv1 = nn.Conv2d(3, 6, 5)\n",
        "        self.pool = nn.MaxPool2d(2, 2)\n",
        "        self.conv2 = nn.Conv2d(6, 16, 5)\n",
        "        self.fc1 = nn.Linear(16 * 5 * 5, 120)\n",
        "        self.fc2 = nn.Linear(120, 84)\n",
        "        self.fc3 = nn.Linear(84, num_classes)\n",
        "\n",
        "    def forward(self, x):\n",
        "        x = self.pool(F.relu(self.conv1(x)))\n",
        "        x = self.pool(F.relu(self.conv2(x)))\n",
        "        x = x.view(-1, 16 * 5 * 5)\n",
        "        x = F.relu(self.fc1(x))\n",
        "        x = F.relu(self.fc2(x))\n",
        "        x = self.fc3(x)\n",
        "        return x"
      ],
      "execution_count": 0,
      "outputs": []
    },
    {
      "cell_type": "markdown",
      "metadata": {
        "id": "M2VQ4T4isMr7",
        "colab_type": "text"
      },
      "source": [
        "## Train Models\n",
        "\n",
        "Here we use two different models...\n",
        "\n",
        "*   Net is the custom model that was picked up from somewhere in Google. Can delete this if not required\n",
        "*   Wide Resnet 50 is the PyTorch model that we loaded for some reason. \n",
        "\n",
        "<font color=\"orange\">**We loaded wide resnet because it was on one of the cifar-100 benchmarks.**</font>\n",
        "\n",
        "THOUGHTS HERE:\n",
        "\n",
        "Refer to the GitHub Issue....\n",
        "https://github.com/atharva-tendle/dlcti/issues/20\n",
        "\n"
      ]
    },
    {
      "cell_type": "markdown",
      "metadata": {
        "id": "tl0-f3yisbgL",
        "colab_type": "text"
      },
      "source": [
        "#### CIFAR SUBSET | CUSTOM MODEL | NUMPY LOADER"
      ]
    },
    {
      "cell_type": "code",
      "metadata": {
        "id": "qL2shAPU--gu",
        "colab_type": "code",
        "outputId": "6f375963-58ec-4999-9848-1c1967d946b7",
        "colab": {
          "base_uri": "https://localhost:8080/",
          "height": 1000
        }
      },
      "source": [
        "model = Net(num_classes=100)\n",
        "\n",
        "model.cuda()\n",
        "\n",
        "n_epochs = 100\n",
        "\n",
        "criterion  = nn.CrossEntropyLoss()\n",
        "optimizer = torch.optim.Adam(model.parameters())\n",
        "\n",
        "save_path = './drive/My Drive/cifar_subset_20.pt'\n",
        "\n",
        "new_training_loop(n_epochs, train_loader, model, optimizer, criterion, save_path)"
      ],
      "execution_count": 0,
      "outputs": [
        {
          "output_type": "stream",
          "text": [
            "+-----------+---------------------------------+-------------------+--------------------+-------------------+\n",
            "| Epoch No. |          Training Loss          | Training Accuracy |   Epoch Duration   | Training Duration |\n",
            "+-----------+---------------------------------+-------------------+--------------------+-------------------+\n",
            "|     1     | tensor(3.0136, device='cuda:0') |       0.1056      | 1586357524.5730965 |      00:00:03     |\n",
            "|     2     | tensor(2.4826, device='cuda:0') |       0.2144      | 1586357527.6748276 |      00:00:02     |\n",
            "|     3     | tensor(2.3746, device='cuda:0') |       0.248       | 1586357530.4891021 |      00:00:02     |\n",
            "|     4     | tensor(2.2888, device='cuda:0') |       0.273       | 1586357533.2266455 |      00:00:02     |\n",
            "|     5     | tensor(2.2196, device='cuda:0') |       0.2964      | 1586357536.132384  |      00:00:02     |\n",
            "|     6     | tensor(2.1556, device='cuda:0') |       0.3078      | 1586357539.030884  |      00:00:02     |\n",
            "|     7     | tensor(2.0877, device='cuda:0') |       0.3402      | 1586357542.018655  |      00:00:02     |\n",
            "|     8     | tensor(2.0299, device='cuda:0') |       0.3508      | 1586357544.9109876 |      00:00:02     |\n",
            "|     9     | tensor(1.9761, device='cuda:0') |       0.3778      | 1586357547.7111313 |      00:00:02     |\n",
            "|     10    | tensor(1.9258, device='cuda:0') |       0.3918      | 1586357550.4246936 |      00:00:02     |\n",
            "|     11    | tensor(1.8726, device='cuda:0') |       0.4088      | 1586357553.1186416 |      00:00:02     |\n",
            "|     12    | tensor(1.8403, device='cuda:0') |       0.413       | 1586357556.0097659 |      00:00:02     |\n",
            "|     13    | tensor(1.8054, device='cuda:0') |       0.4334      | 1586357558.8593159 |      00:00:02     |\n",
            "|     14    | tensor(1.7650, device='cuda:0') |       0.441       | 1586357561.722413  |      00:00:02     |\n",
            "|     15    | tensor(1.7394, device='cuda:0') |       0.4494      | 1586357564.5506625 |      00:00:02     |\n",
            "|     16    | tensor(1.7353, device='cuda:0') |       0.4468      | 1586357567.390474  |      00:00:02     |\n",
            "|     17    | tensor(1.7061, device='cuda:0') |       0.4538      | 1586357570.1736643 |      00:00:02     |\n",
            "|     18    | tensor(1.6765, device='cuda:0') |       0.4686      | 1586357572.907963  |      00:00:02     |\n",
            "|     19    | tensor(1.6644, device='cuda:0') |       0.4682      | 1586357575.7428908 |      00:00:02     |\n",
            "|     20    | tensor(1.6302, device='cuda:0') |       0.4776      | 1586357578.5133996 |      00:00:02     |\n",
            "|     21    | tensor(1.6109, device='cuda:0') |       0.4848      | 1586357581.4595246 |      00:00:02     |\n",
            "|     22    | tensor(1.6029, device='cuda:0') |       0.4862      | 1586357584.3080683 |      00:00:02     |\n",
            "|     23    | tensor(1.5704, device='cuda:0') |       0.5062      | 1586357587.122865  |      00:00:02     |\n",
            "|     24    | tensor(1.5860, device='cuda:0') |       0.4922      | 1586357589.8822923 |      00:00:02     |\n",
            "|     25    | tensor(1.5492, device='cuda:0') |       0.508       | 1586357592.7476141 |      00:00:02     |\n",
            "|     26    | tensor(1.5145, device='cuda:0') |       0.5156      | 1586357595.6478922 |      00:00:02     |\n",
            "|     27    | tensor(1.5168, device='cuda:0') |       0.5084      | 1586357598.5014753 |      00:00:02     |\n",
            "|     28    | tensor(1.4868, device='cuda:0') |       0.522       | 1586357601.3750365 |      00:00:02     |\n",
            "|     29    | tensor(1.4870, device='cuda:0') |        0.52       | 1586357604.169887  |      00:00:02     |\n",
            "|     30    | tensor(1.4777, device='cuda:0') |       0.5306      | 1586357606.977103  |      00:00:02     |\n",
            "|     31    | tensor(1.4634, device='cuda:0') |       0.5294      | 1586357609.7030272 |      00:00:02     |\n",
            "|     32    | tensor(1.4608, device='cuda:0') |       0.5362      | 1586357612.5816338 |      00:00:02     |\n",
            "|     33    | tensor(1.4414, device='cuda:0') |       0.538       | 1586357615.370352  |      00:00:02     |\n",
            "|     34    | tensor(1.4426, device='cuda:0') |       0.5306      | 1586357618.0950787 |      00:00:02     |\n",
            "|     35    | tensor(1.4320, device='cuda:0') |       0.5426      | 1586357620.8358123 |      00:00:02     |\n",
            "|     36    | tensor(1.4051, device='cuda:0') |       0.5424      | 1586357623.6029677 |      00:00:02     |\n",
            "|     37    | tensor(1.3978, device='cuda:0') |       0.5456      | 1586357626.4273767 |      00:00:02     |\n",
            "|     38    | tensor(1.3895, device='cuda:0') |       0.5498      | 1586357629.090697  |      00:00:02     |\n",
            "|     39    | tensor(1.3829, device='cuda:0') |       0.5608      | 1586357632.0297246 |      00:00:02     |\n",
            "|     40    | tensor(1.3591, device='cuda:0') |       0.5728      | 1586357634.8146553 |      00:00:02     |\n",
            "|     41    | tensor(1.3772, device='cuda:0') |       0.5506      | 1586357637.6480532 |      00:00:02     |\n",
            "|     42    | tensor(1.3698, device='cuda:0') |       0.556       | 1586357640.342081  |      00:00:02     |\n",
            "|     43    | tensor(1.3514, device='cuda:0') |       0.5666      | 1586357643.1068141 |      00:00:02     |\n",
            "|     44    | tensor(1.3331, device='cuda:0') |       0.5664      | 1586357645.9083698 |      00:00:02     |\n",
            "|     45    | tensor(1.3410, device='cuda:0') |       0.5698      | 1586357648.6608553 |      00:00:02     |\n",
            "|     46    | tensor(1.3053, device='cuda:0') |       0.5672      | 1586357651.5254486 |      00:00:02     |\n",
            "|     47    | tensor(1.2972, device='cuda:0') |       0.575       | 1586357654.3216226 |      00:00:02     |\n",
            "|     48    | tensor(1.3098, device='cuda:0') |       0.585       |  1586357657.06026  |      00:00:02     |\n",
            "|     49    | tensor(1.3043, device='cuda:0') |       0.5786      | 1586357659.775834  |      00:00:02     |\n",
            "|     50    | tensor(1.2906, device='cuda:0') |       0.5816      | 1586357662.558008  |      00:00:02     |\n",
            "|     51    | tensor(1.2941, device='cuda:0') |       0.5844      | 1586357665.279302  |      00:00:02     |\n",
            "|     52    | tensor(1.2957, device='cuda:0') |       0.576       | 1586357668.1233578 |      00:00:02     |\n",
            "|     53    | tensor(1.2755, device='cuda:0') |       0.5822      | 1586357670.8668087 |      00:00:02     |\n",
            "|     54    | tensor(1.2670, device='cuda:0') |       0.5842      | 1586357673.628103  |      00:00:02     |\n",
            "|     55    | tensor(1.2513, device='cuda:0') |       0.5926      | 1586357676.4951508 |      00:00:02     |\n",
            "|     56    | tensor(1.2686, device='cuda:0') |       0.5926      | 1586357679.2582579 |      00:00:02     |\n",
            "|     57    | tensor(1.2384, device='cuda:0') |       0.5898      | 1586357681.9190118 |      00:00:02     |\n",
            "|     58    | tensor(1.2575, device='cuda:0') |       0.5922      | 1586357684.6772842 |      00:00:02     |\n",
            "|     59    | tensor(1.2456, device='cuda:0') |       0.5986      | 1586357687.534178  |      00:00:02     |\n",
            "|     60    | tensor(1.2161, device='cuda:0') |       0.6028      | 1586357690.4963331 |      00:00:02     |\n",
            "|     61    | tensor(1.2272, device='cuda:0') |       0.6028      | 1586357693.3775475 |      00:00:02     |\n",
            "|     62    | tensor(1.2282, device='cuda:0') |       0.5956      | 1586357696.1637924 |      00:00:02     |\n",
            "|     63    | tensor(1.2048, device='cuda:0') |       0.6072      |  1586357698.90502  |      00:00:02     |\n",
            "|     64    | tensor(1.2124, device='cuda:0') |       0.6026      | 1586357701.696758  |      00:00:02     |\n",
            "|     65    | tensor(1.1989, device='cuda:0') |       0.611       | 1586357704.4514081 |      00:00:02     |\n",
            "|     66    | tensor(1.1852, device='cuda:0') |       0.6192      | 1586357707.2320585 |      00:00:02     |\n",
            "|     67    | tensor(1.1738, device='cuda:0') |       0.607       | 1586357709.9995613 |      00:00:02     |\n",
            "|     68    | tensor(1.1992, device='cuda:0') |       0.605       | 1586357712.7537758 |      00:00:02     |\n",
            "|     69    | tensor(1.1693, device='cuda:0') |       0.6218      | 1586357715.6583743 |      00:00:02     |\n",
            "|     70    | tensor(1.1991, device='cuda:0') |       0.605       | 1586357718.4098773 |      00:00:02     |\n",
            "|     71    | tensor(1.1819, device='cuda:0') |       0.6174      | 1586357721.3392093 |      00:00:02     |\n",
            "|     72    | tensor(1.1858, device='cuda:0') |       0.608       | 1586357724.087174  |      00:00:02     |\n",
            "|     73    | tensor(1.1828, device='cuda:0') |       0.6134      | 1586357726.7391622 |      00:00:02     |\n",
            "|     74    | tensor(1.1835, device='cuda:0') |       0.6128      | 1586357729.5351949 |      00:00:02     |\n",
            "|     75    | tensor(1.1738, device='cuda:0') |       0.618       | 1586357732.2149677 |      00:00:02     |\n",
            "|     76    | tensor(1.1389, device='cuda:0') |       0.6336      | 1586357734.9732714 |      00:00:02     |\n",
            "|     77    | tensor(1.1638, device='cuda:0') |       0.6154      | 1586357737.8108895 |      00:00:02     |\n",
            "|     78    | tensor(1.1682, device='cuda:0') |       0.6148      | 1586357740.6083643 |      00:00:02     |\n",
            "|     79    | tensor(1.1425, device='cuda:0') |       0.6224      | 1586357743.4857945 |      00:00:02     |\n",
            "|     80    | tensor(1.1342, device='cuda:0') |       0.6218      | 1586357746.1920235 |      00:00:02     |\n",
            "|     81    | tensor(1.1401, device='cuda:0') |       0.6212      | 1586357749.0241342 |      00:00:02     |\n",
            "|     82    | tensor(1.1227, device='cuda:0') |       0.6266      | 1586357751.823301  |      00:00:02     |\n",
            "|     83    | tensor(1.1062, device='cuda:0') |       0.6388      | 1586357754.587445  |      00:00:02     |\n",
            "|     84    | tensor(1.1376, device='cuda:0') |       0.6272      | 1586357757.2994406 |      00:00:02     |\n",
            "|     85    | tensor(1.1277, device='cuda:0') |       0.6314      | 1586357760.1313148 |      00:00:02     |\n",
            "|     86    | tensor(1.1102, device='cuda:0') |       0.636       | 1586357762.7458224 |      00:00:02     |\n",
            "|     87    | tensor(1.0901, device='cuda:0') |       0.639       | 1586357765.5335095 |      00:00:02     |\n",
            "|     88    | tensor(1.1080, device='cuda:0') |       0.6334      | 1586357768.267578  |      00:00:02     |\n",
            "|     89    | tensor(1.1153, device='cuda:0') |       0.6306      | 1586357770.968126  |      00:00:02     |\n",
            "|     90    | tensor(1.1354, device='cuda:0') |       0.6202      | 1586357773.7269225 |      00:00:02     |\n",
            "|     91    | tensor(1.1005, device='cuda:0') |       0.6386      | 1586357776.657641  |      00:00:02     |\n",
            "|     92    | tensor(1.1046, device='cuda:0') |       0.6284      | 1586357779.3453777 |      00:00:02     |\n",
            "|     93    | tensor(1.0895, device='cuda:0') |       0.6398      | 1586357782.1082706 |      00:00:02     |\n",
            "|     94    | tensor(1.1138, device='cuda:0') |       0.6394      | 1586357784.8309448 |      00:00:02     |\n",
            "|     95    | tensor(1.0852, device='cuda:0') |       0.643       | 1586357787.5310268 |      00:00:02     |\n",
            "|     96    | tensor(1.0969, device='cuda:0') |       0.6372      | 1586357790.3078425 |      00:00:02     |\n",
            "|     97    | tensor(1.0961, device='cuda:0') |       0.6368      | 1586357793.0497782 |      00:00:02     |\n",
            "|     98    | tensor(1.0928, device='cuda:0') |       0.6414      | 1586357795.970296  |      00:00:02     |\n",
            "|     99    | tensor(1.0762, device='cuda:0') |       0.6512      | 1586357798.6891146 |      00:00:02     |\n",
            "|    100    | tensor(1.0886, device='cuda:0') |       0.6408      | 1586357801.4534726 |      00:00:02     |\n",
            "+-----------+---------------------------------+-------------------+--------------------+-------------------+\n",
            "Total training duration; 00:04:39\n"
          ],
          "name": "stdout"
        }
      ]
    },
    {
      "cell_type": "markdown",
      "metadata": {
        "id": "rbhUXCA3sRdv",
        "colab_type": "text"
      },
      "source": [
        "#### CIFAR 100 | CUSTOM MODEL | PYTORCH LOADER"
      ]
    },
    {
      "cell_type": "code",
      "metadata": {
        "id": "kasmsURQfHJN",
        "colab_type": "code",
        "outputId": "282729f3-b940-45ef-ce98-1a73ca1e9c7d",
        "colab": {
          "base_uri": "https://localhost:8080/",
          "height": 1000
        }
      },
      "source": [
        "model = Net(num_classes=100)\n",
        "\n",
        "model.cuda()\n",
        "\n",
        "n_epochs = 100\n",
        "\n",
        "criterion  = nn.CrossEntropyLoss()\n",
        "optimizer = torch.optim.Adam(model.parameters())\n",
        "\n",
        "save_path = './drive/My Drive/cifar_100.pt'\n",
        "\n",
        "training_loop(n_epochs, loaders100, model, optimizer, criterion, save_path)"
      ],
      "execution_count": 0,
      "outputs": [
        {
          "output_type": "stream",
          "text": [
            "+-----------+---------------------------------+---------------------------------+-------------------+---------------------+----------------+-------------------+---------------------+--------------------------+-------------+\n",
            "| Epoch No. |          Training Loss          |         Validation Loss         | Training Accuracy | Validation Accuracy | Epoch Duration | Training Duration | Validation Duration | Validation loss decrease | Model Saved |\n",
            "+-----------+---------------------------------+---------------------------------+-------------------+---------------------+----------------+-------------------+---------------------+--------------------------+-------------+\n",
            "|     1     | tensor(4.0475, device='cuda:0') | tensor(3.7363, device='cuda:0') |      0.07378      |        0.1268       |    00:00:27    |      00:00:25     |       00:00:02      |     inf --> 3.736314     |     True    |\n",
            "|     2     | tensor(3.6465, device='cuda:0') | tensor(3.4658, device='cuda:0') |       0.1348      |        0.1631       |    00:00:27    |      00:00:24     |       00:00:02      |  3.736314 --> 3.465822   |     True    |\n",
            "|     3     | tensor(3.4640, device='cuda:0') | tensor(3.3053, device='cuda:0') |      0.16818      |        0.2008       |    00:00:27    |      00:00:24     |       00:00:02      |  3.465822 --> 3.305290   |     True    |\n",
            "|     4     | tensor(3.3446, device='cuda:0') | tensor(3.2234, device='cuda:0') |      0.18964      |        0.2116       |    00:00:27    |      00:00:24     |       00:00:02      |  3.305290 --> 3.223390   |     True    |\n",
            "|     5     | tensor(3.2611, device='cuda:0') | tensor(3.1586, device='cuda:0') |       0.2022      |        0.2324       |    00:00:27    |      00:00:24     |       00:00:02      |  3.223390 --> 3.158633   |     True    |\n",
            "|     6     | tensor(3.2010, device='cuda:0') | tensor(3.1007, device='cuda:0') |      0.21584      |        0.2403       |    00:00:27    |      00:00:24     |       00:00:02      |  3.158633 --> 3.100744   |     True    |\n",
            "|     7     | tensor(3.1523, device='cuda:0') | tensor(3.0964, device='cuda:0') |      0.22478      |        0.2399       |    00:00:27    |      00:00:24     |       00:00:02      |  3.100744 --> 3.096426   |     True    |\n",
            "|     8     | tensor(3.1190, device='cuda:0') | tensor(3.0641, device='cuda:0') |      0.23258      |        0.244        |    00:00:27    |      00:00:25     |       00:00:02      |  3.096426 --> 3.064106   |     True    |\n",
            "|     9     | tensor(3.0899, device='cuda:0') | tensor(3.0183, device='cuda:0') |      0.23818      |        0.257        |    00:00:27    |      00:00:24     |       00:00:02      |  3.064106 --> 3.018314   |     True    |\n",
            "|     10    | tensor(3.0650, device='cuda:0') | tensor(2.9534, device='cuda:0') |      0.24252      |        0.2678       |    00:00:27    |      00:00:24     |       00:00:02      |  3.018314 --> 2.953449   |     True    |\n",
            "|     11    | tensor(3.0305, device='cuda:0') | tensor(2.9418, device='cuda:0') |       0.2483      |        0.2745       |    00:00:27    |      00:00:24     |       00:00:02      |  2.953449 --> 2.941778   |     True    |\n",
            "|     12    | tensor(3.0153, device='cuda:0') | tensor(2.9341, device='cuda:0') |      0.25278      |        0.2719       |    00:00:27    |      00:00:24     |       00:00:02      |  2.941778 --> 2.934114   |     True    |\n",
            "|     13    | tensor(2.9971, device='cuda:0') | tensor(2.9704, device='cuda:0') |      0.25404      |        0.2646       |    00:00:27    |      00:00:24     |       00:00:02      |            -             |    False    |\n",
            "|     14    | tensor(2.9828, device='cuda:0') | tensor(2.9036, device='cuda:0') |      0.26094      |        0.2776       |    00:00:27    |      00:00:24     |       00:00:02      |  2.934114 --> 2.903561   |     True    |\n",
            "|     15    | tensor(2.9755, device='cuda:0') | tensor(2.8934, device='cuda:0') |      0.26086      |        0.2796       |    00:00:27    |      00:00:24     |       00:00:02      |  2.903561 --> 2.893436   |     True    |\n",
            "|     16    | tensor(2.9471, device='cuda:0') | tensor(2.9040, device='cuda:0') |       0.2672      |        0.2824       |    00:00:27    |      00:00:24     |       00:00:02      |            -             |    False    |\n",
            "|     17    | tensor(2.9393, device='cuda:0') | tensor(2.9584, device='cuda:0') |      0.26762      |        0.2767       |    00:00:27    |      00:00:24     |       00:00:02      |            -             |    False    |\n",
            "|     18    | tensor(2.9313, device='cuda:0') | tensor(2.8248, device='cuda:0') |      0.26962      |        0.2919       |    00:00:27    |      00:00:24     |       00:00:02      |  2.893436 --> 2.824773   |     True    |\n",
            "|     19    | tensor(2.9140, device='cuda:0') | tensor(2.8428, device='cuda:0') |      0.27288      |        0.2952       |    00:00:27    |      00:00:24     |       00:00:02      |            -             |    False    |\n",
            "|     20    | tensor(2.9113, device='cuda:0') | tensor(2.8310, device='cuda:0') |      0.27166      |        0.2926       |    00:00:27    |      00:00:24     |       00:00:02      |            -             |    False    |\n",
            "|     21    | tensor(2.8913, device='cuda:0') | tensor(2.8382, device='cuda:0') |      0.27328      |        0.291        |    00:00:27    |      00:00:25     |       00:00:02      |            -             |    False    |\n",
            "|     22    | tensor(2.8809, device='cuda:0') | tensor(2.8095, device='cuda:0') |      0.28028      |        0.2949       |    00:00:27    |      00:00:24     |       00:00:02      |  2.824773 --> 2.809527   |     True    |\n",
            "|     23    | tensor(2.8714, device='cuda:0') | tensor(2.8518, device='cuda:0') |       0.2805      |        0.2883       |    00:00:27    |      00:00:24     |       00:00:02      |            -             |    False    |\n",
            "|     24    | tensor(2.8703, device='cuda:0') | tensor(2.7978, device='cuda:0') |      0.28116      |        0.298        |    00:00:27    |      00:00:24     |       00:00:02      |  2.809527 --> 2.797763   |     True    |\n",
            "|     25    | tensor(2.8724, device='cuda:0') | tensor(2.8088, device='cuda:0') |      0.28036      |        0.298        |    00:00:28    |      00:00:25     |       00:00:02      |            -             |    False    |\n",
            "|     26    | tensor(2.8526, device='cuda:0') | tensor(2.7983, device='cuda:0') |      0.28456      |        0.3011       |    00:00:29    |      00:00:26     |       00:00:02      |            -             |    False    |\n",
            "|     27    | tensor(2.8509, device='cuda:0') | tensor(2.7709, device='cuda:0') |      0.28372      |        0.3012       |    00:00:28    |      00:00:26     |       00:00:02      |  2.797763 --> 2.770866   |     True    |\n",
            "|     28    | tensor(2.8397, device='cuda:0') | tensor(2.7795, device='cuda:0') |       0.2894      |        0.3042       |    00:00:28    |      00:00:26     |       00:00:02      |            -             |    False    |\n",
            "|     29    | tensor(2.8251, device='cuda:0') | tensor(2.7752, device='cuda:0') |      0.28868      |        0.2997       |    00:00:27    |      00:00:24     |       00:00:02      |            -             |    False    |\n",
            "|     30    | tensor(2.8252, device='cuda:0') | tensor(2.8125, device='cuda:0') |       0.2897      |        0.2923       |    00:00:27    |      00:00:24     |       00:00:02      |            -             |    False    |\n",
            "|     31    | tensor(2.8191, device='cuda:0') | tensor(2.7979, device='cuda:0') |      0.29154      |         0.3         |    00:00:27    |      00:00:24     |       00:00:02      |            -             |    False    |\n",
            "|     32    | tensor(2.8072, device='cuda:0') | tensor(2.7662, device='cuda:0') |      0.29418      |        0.3061       |    00:00:27    |      00:00:24     |       00:00:02      |  2.770866 --> 2.766160   |     True    |\n",
            "|     33    | tensor(2.8090, device='cuda:0') | tensor(2.7357, device='cuda:0') |      0.29452      |        0.3079       |    00:00:28    |      00:00:25     |       00:00:02      |  2.766160 --> 2.735650   |     True    |\n",
            "|     34    | tensor(2.8048, device='cuda:0') | tensor(2.7307, device='cuda:0') |      0.29314      |        0.3111       |    00:00:29    |      00:00:26     |       00:00:02      |  2.735650 --> 2.730743   |     True    |\n",
            "|     35    | tensor(2.7951, device='cuda:0') | tensor(2.7395, device='cuda:0') |       0.2956      |        0.3111       |    00:00:29    |      00:00:26     |       00:00:02      |            -             |    False    |\n",
            "|     36    | tensor(2.7855, device='cuda:0') | tensor(2.7456, device='cuda:0') |      0.29862      |        0.3114       |    00:00:29    |      00:00:26     |       00:00:02      |            -             |    False    |\n",
            "|     37    | tensor(2.7868, device='cuda:0') | tensor(2.7456, device='cuda:0') |      0.29624      |        0.3117       |    00:00:28    |      00:00:25     |       00:00:02      |            -             |    False    |\n",
            "|     38    | tensor(2.7796, device='cuda:0') | tensor(2.8052, device='cuda:0') |      0.29786      |        0.3027       |    00:00:29    |      00:00:26     |       00:00:02      |            -             |    False    |\n",
            "|     39    | tensor(2.7789, device='cuda:0') | tensor(2.7932, device='cuda:0') |      0.29756      |        0.3081       |    00:00:28    |      00:00:25     |       00:00:02      |            -             |    False    |\n",
            "|     40    | tensor(2.7730, device='cuda:0') | tensor(2.7103, device='cuda:0') |      0.30056      |        0.3177       |    00:00:27    |      00:00:24     |       00:00:02      |  2.730743 --> 2.710286   |     True    |\n",
            "|     41    | tensor(2.7701, device='cuda:0') | tensor(2.7378, device='cuda:0') |      0.30074      |        0.3087       |    00:00:27    |      00:00:25     |       00:00:02      |            -             |    False    |\n",
            "|     42    | tensor(2.7527, device='cuda:0') | tensor(2.6865, device='cuda:0') |       0.3039      |        0.3229       |    00:00:27    |      00:00:25     |       00:00:02      |  2.710286 --> 2.686471   |     True    |\n",
            "|     43    | tensor(2.7564, device='cuda:0') | tensor(2.7152, device='cuda:0') |      0.30268      |        0.3168       |    00:00:27    |      00:00:24     |       00:00:02      |            -             |    False    |\n",
            "|     44    | tensor(2.7474, device='cuda:0') | tensor(2.6996, device='cuda:0') |       0.3043      |        0.3206       |    00:00:27    |      00:00:24     |       00:00:02      |            -             |    False    |\n",
            "|     45    | tensor(2.7528, device='cuda:0') | tensor(2.7144, device='cuda:0') |      0.30542      |        0.3131       |    00:00:27    |      00:00:24     |       00:00:02      |            -             |    False    |\n",
            "|     46    | tensor(2.7438, device='cuda:0') | tensor(2.6584, device='cuda:0') |      0.30572      |        0.3243       |    00:00:27    |      00:00:24     |       00:00:02      |  2.686471 --> 2.658400   |     True    |\n",
            "|     47    | tensor(2.7525, device='cuda:0') | tensor(2.7227, device='cuda:0') |      0.30186      |        0.3141       |    00:00:27    |      00:00:25     |       00:00:02      |            -             |    False    |\n",
            "|     48    | tensor(2.7403, device='cuda:0') | tensor(2.7466, device='cuda:0') |      0.30904      |        0.3124       |    00:00:27    |      00:00:24     |       00:00:02      |            -             |    False    |\n",
            "|     49    | tensor(2.7356, device='cuda:0') | tensor(2.6911, device='cuda:0') |      0.30606      |        0.3218       |    00:00:27    |      00:00:24     |       00:00:02      |            -             |    False    |\n",
            "|     50    | tensor(2.7348, device='cuda:0') | tensor(2.7077, device='cuda:0') |      0.30834      |        0.3116       |    00:00:27    |      00:00:24     |       00:00:02      |            -             |    False    |\n",
            "|     51    | tensor(2.7349, device='cuda:0') | tensor(2.7225, device='cuda:0') |      0.30848      |        0.3125       |    00:00:27    |      00:00:24     |       00:00:02      |            -             |    False    |\n",
            "|     52    | tensor(2.7222, device='cuda:0') | tensor(2.6778, device='cuda:0') |      0.30772      |        0.3232       |    00:00:27    |      00:00:24     |       00:00:02      |            -             |    False    |\n",
            "|     53    | tensor(2.7176, device='cuda:0') | tensor(2.6837, device='cuda:0') |      0.30968      |        0.3192       |    00:00:27    |      00:00:24     |       00:00:02      |            -             |    False    |\n",
            "|     54    | tensor(2.7158, device='cuda:0') | tensor(2.6918, device='cuda:0') |       0.312       |        0.3194       |    00:00:27    |      00:00:24     |       00:00:02      |            -             |    False    |\n",
            "|     55    | tensor(2.7245, device='cuda:0') | tensor(2.6586, device='cuda:0') |      0.31148      |        0.3226       |    00:00:27    |      00:00:24     |       00:00:02      |            -             |    False    |\n",
            "|     56    | tensor(2.7212, device='cuda:0') | tensor(2.6571, device='cuda:0') |      0.30946      |        0.3271       |    00:00:27    |      00:00:24     |       00:00:02      |  2.658400 --> 2.657125   |     True    |\n",
            "|     57    | tensor(2.7142, device='cuda:0') | tensor(2.7431, device='cuda:0') |      0.31114      |        0.307        |    00:00:27    |      00:00:25     |       00:00:02      |            -             |    False    |\n",
            "|     58    | tensor(2.7102, device='cuda:0') | tensor(2.6358, device='cuda:0') |      0.31146      |        0.3288       |    00:00:27    |      00:00:24     |       00:00:02      |  2.657125 --> 2.635782   |     True    |\n",
            "|     59    | tensor(2.7106, device='cuda:0') | tensor(2.6490, device='cuda:0') |      0.31194      |        0.3263       |    00:00:27    |      00:00:24     |       00:00:02      |            -             |    False    |\n",
            "|     60    | tensor(2.7135, device='cuda:0') | tensor(2.7177, device='cuda:0') |      0.31272      |        0.3172       |    00:00:27    |      00:00:24     |       00:00:02      |            -             |    False    |\n",
            "|     61    | tensor(2.6989, device='cuda:0') | tensor(2.6466, device='cuda:0') |      0.31328      |        0.3275       |    00:00:28    |      00:00:25     |       00:00:02      |            -             |    False    |\n",
            "|     62    | tensor(2.7063, device='cuda:0') | tensor(2.6936, device='cuda:0') |      0.31088      |        0.321        |    00:00:27    |      00:00:24     |       00:00:02      |            -             |    False    |\n",
            "|     63    | tensor(2.7055, device='cuda:0') | tensor(2.6699, device='cuda:0') |      0.31254      |        0.3222       |    00:00:27    |      00:00:24     |       00:00:02      |            -             |    False    |\n",
            "|     64    | tensor(2.6970, device='cuda:0') | tensor(2.7023, device='cuda:0') |      0.31286      |        0.3159       |    00:00:27    |      00:00:24     |       00:00:02      |            -             |    False    |\n",
            "|     65    | tensor(2.6973, device='cuda:0') | tensor(2.6242, device='cuda:0') |      0.31456      |        0.3341       |    00:00:27    |      00:00:24     |       00:00:02      |  2.635782 --> 2.624235   |     True    |\n",
            "|     66    | tensor(2.6868, device='cuda:0') | tensor(2.6283, device='cuda:0') |      0.31728      |        0.3287       |    00:00:27    |      00:00:24     |       00:00:02      |            -             |    False    |\n",
            "|     67    | tensor(2.6871, device='cuda:0') | tensor(2.6449, device='cuda:0') |      0.31694      |        0.3314       |    00:00:27    |      00:00:24     |       00:00:02      |            -             |    False    |\n",
            "|     68    | tensor(2.6892, device='cuda:0') | tensor(2.6628, device='cuda:0') |      0.31842      |        0.3305       |    00:00:27    |      00:00:24     |       00:00:02      |            -             |    False    |\n",
            "|     69    | tensor(2.6793, device='cuda:0') | tensor(2.6958, device='cuda:0') |      0.31682      |        0.322        |    00:00:27    |      00:00:25     |       00:00:02      |            -             |    False    |\n",
            "|     70    | tensor(2.6873, device='cuda:0') | tensor(2.6437, device='cuda:0') |      0.31578      |        0.332        |    00:00:27    |      00:00:25     |       00:00:02      |            -             |    False    |\n",
            "|     71    | tensor(2.6850, device='cuda:0') | tensor(2.6442, device='cuda:0') |      0.31602      |        0.3285       |    00:00:28    |      00:00:25     |       00:00:02      |            -             |    False    |\n",
            "|     72    | tensor(2.6857, device='cuda:0') | tensor(2.6211, device='cuda:0') |       0.3167      |        0.3324       |    00:00:28    |      00:00:25     |       00:00:02      |  2.624235 --> 2.621112   |     True    |\n",
            "|     73    | tensor(2.6807, device='cuda:0') | tensor(2.6391, device='cuda:0') |      0.31706      |        0.3339       |    00:00:28    |      00:00:25     |       00:00:02      |            -             |    False    |\n",
            "|     74    | tensor(2.6766, device='cuda:0') | tensor(2.6488, device='cuda:0') |      0.31682      |        0.3303       |    00:00:28    |      00:00:25     |       00:00:02      |            -             |    False    |\n",
            "|     75    | tensor(2.6765, device='cuda:0') | tensor(2.6244, device='cuda:0') |      0.31742      |        0.3346       |    00:00:28    |      00:00:25     |       00:00:02      |            -             |    False    |\n",
            "|     76    | tensor(2.6662, device='cuda:0') | tensor(2.6448, device='cuda:0') |      0.32206      |        0.3337       |    00:00:28    |      00:00:25     |       00:00:02      |            -             |    False    |\n",
            "|     77    | tensor(2.6797, device='cuda:0') | tensor(2.6385, device='cuda:0') |      0.32034      |        0.3323       |    00:00:28    |      00:00:25     |       00:00:02      |            -             |    False    |\n",
            "|     78    | tensor(2.6738, device='cuda:0') | tensor(2.6591, device='cuda:0') |      0.32042      |        0.3314       |    00:00:29    |      00:00:26     |       00:00:02      |            -             |    False    |\n",
            "|     79    | tensor(2.6727, device='cuda:0') | tensor(2.6411, device='cuda:0') |      0.31978      |        0.3296       |    00:00:29    |      00:00:26     |       00:00:02      |            -             |    False    |\n",
            "|     80    | tensor(2.6652, device='cuda:0') | tensor(2.6508, device='cuda:0') |      0.31912      |        0.3288       |    00:00:29    |      00:00:26     |       00:00:02      |            -             |    False    |\n",
            "|     81    | tensor(2.6659, device='cuda:0') | tensor(2.6358, device='cuda:0') |      0.32116      |        0.3375       |    00:00:29    |      00:00:26     |       00:00:02      |            -             |    False    |\n",
            "|     82    | tensor(2.6640, device='cuda:0') | tensor(2.6700, device='cuda:0') |      0.32186      |        0.3229       |    00:00:28    |      00:00:25     |       00:00:02      |            -             |    False    |\n",
            "|     83    | tensor(2.6588, device='cuda:0') | tensor(2.6292, device='cuda:0') |      0.32292      |        0.3282       |    00:00:28    |      00:00:25     |       00:00:02      |            -             |    False    |\n",
            "|     84    | tensor(2.6605, device='cuda:0') | tensor(2.6181, device='cuda:0') |      0.32162      |        0.3356       |    00:00:28    |      00:00:25     |       00:00:02      |  2.621112 --> 2.618090   |     True    |\n",
            "|     85    | tensor(2.6584, device='cuda:0') | tensor(2.5979, device='cuda:0') |      0.32518      |        0.3405       |    00:00:28    |      00:00:25     |       00:00:02      |  2.618090 --> 2.597918   |     True    |\n",
            "|     86    | tensor(2.6599, device='cuda:0') | tensor(2.6535, device='cuda:0') |       0.319       |        0.3301       |    00:00:29    |      00:00:26     |       00:00:02      |            -             |    False    |\n",
            "|     87    | tensor(2.6606, device='cuda:0') | tensor(2.6186, device='cuda:0') |      0.32082      |        0.3313       |    00:00:28    |      00:00:26     |       00:00:02      |            -             |    False    |\n",
            "|     88    | tensor(2.6600, device='cuda:0') | tensor(2.6273, device='cuda:0') |       0.3248      |        0.3301       |    00:00:28    |      00:00:25     |       00:00:02      |            -             |    False    |\n",
            "|     89    | tensor(2.6532, device='cuda:0') | tensor(2.6234, device='cuda:0') |      0.32172      |        0.3325       |    00:00:29    |      00:00:26     |       00:00:03      |            -             |    False    |\n",
            "|     90    | tensor(2.6575, device='cuda:0') | tensor(2.6253, device='cuda:0') |      0.32338      |        0.3314       |    00:00:28    |      00:00:25     |       00:00:03      |            -             |    False    |\n",
            "|     91    | tensor(2.6511, device='cuda:0') | tensor(2.6149, device='cuda:0') |      0.32344      |        0.3355       |    00:00:29    |      00:00:26     |       00:00:03      |            -             |    False    |\n",
            "|     92    | tensor(2.6529, device='cuda:0') | tensor(2.6312, device='cuda:0') |      0.32628      |        0.336        |    00:00:28    |      00:00:25     |       00:00:02      |            -             |    False    |\n",
            "|     93    | tensor(2.6468, device='cuda:0') | tensor(2.5884, device='cuda:0') |      0.32672      |        0.3347       |    00:00:28    |      00:00:25     |       00:00:02      |  2.597918 --> 2.588443   |     True    |\n",
            "|     94    | tensor(2.6455, device='cuda:0') | tensor(2.6285, device='cuda:0') |      0.32618      |        0.3359       |    00:00:28    |      00:00:25     |       00:00:02      |            -             |    False    |\n",
            "|     95    | tensor(2.6553, device='cuda:0') | tensor(2.6228, device='cuda:0') |      0.32542      |        0.3399       |    00:00:28    |      00:00:25     |       00:00:02      |            -             |    False    |\n",
            "|     96    | tensor(2.6487, device='cuda:0') | tensor(2.6225, device='cuda:0') |      0.32454      |        0.335        |    00:00:28    |      00:00:25     |       00:00:02      |            -             |    False    |\n",
            "|     97    | tensor(2.6462, device='cuda:0') | tensor(2.6442, device='cuda:0') |      0.32412      |        0.334        |    00:00:28    |      00:00:25     |       00:00:02      |            -             |    False    |\n",
            "|     98    | tensor(2.6485, device='cuda:0') | tensor(2.6440, device='cuda:0') |      0.32512      |        0.3278       |    00:00:28    |      00:00:26     |       00:00:02      |            -             |    False    |\n",
            "|     99    | tensor(2.6412, device='cuda:0') | tensor(2.6632, device='cuda:0') |      0.32566      |        0.3287       |    00:00:28    |      00:00:25     |       00:00:02      |            -             |    False    |\n",
            "|    100    | tensor(2.6398, device='cuda:0') | tensor(2.5973, device='cuda:0') |      0.32606      |        0.3393       |    00:00:28    |      00:00:25     |       00:00:02      |            -             |    False    |\n",
            "+-----------+---------------------------------+---------------------------------+-------------------+---------------------+----------------+-------------------+---------------------+--------------------------+-------------+\n",
            "Total training duration; 00:46:51\n"
          ],
          "name": "stdout"
        }
      ]
    },
    {
      "cell_type": "markdown",
      "metadata": {
        "id": "20o-eyOUQU6P",
        "colab_type": "text"
      },
      "source": [
        "#### CIFAR SUBSET | WIDE RESNET | NUMPY LOADER"
      ]
    },
    {
      "cell_type": "code",
      "metadata": {
        "id": "Zho8LiyyCZ7Y",
        "colab_type": "code",
        "colab": {}
      },
      "source": [
        "new_resnet = models.wide_resnet50_2()\n",
        "new_resnet.fc = nn.Linear(2048, 100)\n",
        "\n",
        "new_resnet.cuda()\n",
        "n_epochs = 100\n",
        "# Load the Criterion\n",
        "criterion = nn.CrossEntropyLoss()\n",
        "optimizer = torch.optim.Adam(new_resnet.parameters())\n",
        "# Train the Model and Save the Weights\n",
        "save_path =  \"./drive/My Drive/resnet_subset_20.pt\"\n",
        "new_training_loop(n_epochs, train_loader, new_resnet,\n",
        "                  optimizer, criterion, save_path) "
      ],
      "execution_count": 0,
      "outputs": []
    },
    {
      "cell_type": "markdown",
      "metadata": {
        "id": "NupxNKS-tpGO",
        "colab_type": "text"
      },
      "source": [
        "#### CIFAR 100 | WIDE RESNET | PYTORCH LOADER"
      ]
    },
    {
      "cell_type": "code",
      "metadata": {
        "id": "vxDZi2TAyaVg",
        "colab_type": "code",
        "colab": {}
      },
      "source": [
        "resnet_100 = models.wide_resnet50_2()\n",
        "resnet_100.fc = nn.Linear(2048, 100)\n",
        "\n",
        "resnet_100.cuda()\n",
        "n_epochs = 100\n",
        "# Load the Criterion\n",
        "criterion = nn.CrossEntropyLoss()\n",
        "optimizer = torch.optim.Adam(resnet_100.parameters())\n",
        "# Train the Model and Save the Weights\n",
        "save_path =  \"./drive/My Drive/resnet_100.pt\"\n",
        "training_loop(n_epochs, loaders100, resnet_100,\n",
        "                  optimizer, criterion, save_path) "
      ],
      "execution_count": 0,
      "outputs": []
    },
    {
      "cell_type": "markdown",
      "metadata": {
        "id": "PE-Q62rrKHDD",
        "colab_type": "text"
      },
      "source": [
        ""
      ]
    },
    {
      "cell_type": "markdown",
      "metadata": {
        "colab_type": "text",
        "id": "huYN4X6KKIG0"
      },
      "source": [
        "#### CIFAR SUBSET | RESNET 18 | NUMPY LOADER"
      ]
    },
    {
      "cell_type": "code",
      "metadata": {
        "colab_type": "code",
        "outputId": "fcf7e590-7d83-4e9c-a530-f3ea2b09850d",
        "id": "QrdYQWGlKIG2",
        "colab": {
          "base_uri": "https://localhost:8080/",
          "height": 1000
        }
      },
      "source": [
        "new_resnet = models.resnet18()\n",
        "new_resnet.fc = nn.Linear(512, 100)\n",
        "\n",
        "new_resnet.cuda()\n",
        "n_epochs = 100\n",
        "# Load the Criterion\n",
        "criterion = nn.CrossEntropyLoss()\n",
        "optimizer = torch.optim.Adam(new_resnet.parameters())\n",
        "# Train the Model and Save the Weights\n",
        "save_path =  \"./drive/My Drive/resnet18_subset_20.pt\"\n",
        "new_training_loop(n_epochs, train_loader, new_resnet,\n",
        "                  optimizer, criterion, save_path) "
      ],
      "execution_count": 0,
      "outputs": [
        {
          "output_type": "stream",
          "text": [
            "+-----------+---------------------------------+-------------------+--------------------+-------------------+\n",
            "| Epoch No. |          Training Loss          | Training Accuracy |   Epoch Duration   | Training Duration |\n",
            "+-----------+---------------------------------+-------------------+--------------------+-------------------+\n",
            "|     1     | tensor(2.5864, device='cuda:0') |       0.2298      | 1586360616.7935662 |      00:00:06     |\n",
            "|     2     | tensor(2.2021, device='cuda:0') |       0.3196      | 1586360623.1324809 |      00:00:06     |\n",
            "|     3     | tensor(2.0728, device='cuda:0') |       0.3654      | 1586360629.5822957 |      00:00:06     |\n",
            "|     4     | tensor(1.9242, device='cuda:0') |       0.4038      | 1586360635.967149  |      00:00:06     |\n",
            "|     5     | tensor(1.8630, device='cuda:0') |       0.4258      | 1586360642.4030356 |      00:00:06     |\n",
            "|     6     | tensor(1.7390, device='cuda:0') |       0.4638      | 1586360649.013242  |      00:00:06     |\n",
            "|     7     | tensor(1.6576, device='cuda:0') |       0.4802      | 1586360655.6444218 |      00:00:06     |\n",
            "|     8     | tensor(1.6027, device='cuda:0') |       0.5052      | 1586360662.2181978 |      00:00:06     |\n",
            "|     9     | tensor(1.5160, device='cuda:0') |       0.5264      | 1586360668.6101599 |      00:00:06     |\n",
            "|     10    | tensor(1.4534, device='cuda:0') |       0.5404      | 1586360674.9615304 |      00:00:06     |\n",
            "|     11    | tensor(1.4140, device='cuda:0') |       0.5522      | 1586360681.5325592 |      00:00:06     |\n",
            "|     12    | tensor(1.3766, device='cuda:0') |       0.5746      | 1586360687.9564211 |      00:00:06     |\n",
            "|     13    | tensor(1.3013, device='cuda:0') |       0.5904      | 1586360694.3306553 |      00:00:06     |\n",
            "|     14    | tensor(1.2744, device='cuda:0') |       0.5926      | 1586360700.899011  |      00:00:06     |\n",
            "|     15    | tensor(1.2343, device='cuda:0') |       0.5998      | 1586360707.219521  |      00:00:06     |\n",
            "|     16    | tensor(1.1997, device='cuda:0') |       0.6098      | 1586360713.7085743 |      00:00:06     |\n",
            "|     17    | tensor(1.1420, device='cuda:0') |       0.6382      | 1586360720.1191802 |      00:00:06     |\n",
            "|     18    | tensor(1.1488, device='cuda:0') |       0.6294      | 1586360726.6365309 |      00:00:06     |\n",
            "|     19    | tensor(1.0989, device='cuda:0') |       0.649       | 1586360733.0851374 |      00:00:06     |\n",
            "|     20    | tensor(1.0402, device='cuda:0') |       0.6624      | 1586360739.569327  |      00:00:06     |\n",
            "|     21    | tensor(1.0214, device='cuda:0') |       0.6686      | 1586360746.054678  |      00:00:06     |\n",
            "|     22    | tensor(0.9864, device='cuda:0') |       0.6748      | 1586360752.602119  |      00:00:06     |\n",
            "|     23    | tensor(0.9636, device='cuda:0') |       0.6854      | 1586360758.9344368 |      00:00:06     |\n",
            "|     24    | tensor(0.9199, device='cuda:0') |        0.7        | 1586360765.221941  |      00:00:06     |\n",
            "|     25    | tensor(0.9165, device='cuda:0') |       0.6976      | 1586360771.7476573 |      00:00:06     |\n",
            "|     26    | tensor(0.8876, device='cuda:0') |       0.7046      | 1586360778.208378  |      00:00:06     |\n",
            "|     27    | tensor(0.8500, device='cuda:0') |       0.723       | 1586360784.778258  |      00:00:06     |\n",
            "|     28    | tensor(0.8267, device='cuda:0') |       0.7262      | 1586360791.2534518 |      00:00:06     |\n",
            "|     29    | tensor(0.8401, device='cuda:0') |       0.7156      | 1586360797.695066  |      00:00:06     |\n",
            "|     30    | tensor(0.7809, device='cuda:0') |       0.7448      | 1586360804.0750842 |      00:00:06     |\n",
            "|     31    | tensor(0.7655, device='cuda:0') |       0.7396      | 1586360810.6082122 |      00:00:06     |\n",
            "|     32    | tensor(0.7159, device='cuda:0') |       0.7638      | 1586360817.0057101 |      00:00:06     |\n",
            "|     33    | tensor(0.7530, device='cuda:0') |       0.7474      | 1586360823.584445  |      00:00:06     |\n",
            "|     34    | tensor(0.7153, device='cuda:0') |       0.7616      | 1586360830.1104734 |      00:00:06     |\n",
            "|     35    | tensor(0.7055, device='cuda:0') |       0.7626      | 1586360836.5268905 |      00:00:06     |\n",
            "|     36    | tensor(0.6658, device='cuda:0') |       0.7784      | 1586360843.078999  |      00:00:06     |\n",
            "|     37    | tensor(0.6696, device='cuda:0') |       0.7776      | 1586360849.4467988 |      00:00:06     |\n",
            "|     38    | tensor(0.6308, device='cuda:0') |        0.79       | 1586360856.023699  |      00:00:06     |\n",
            "|     39    | tensor(0.6267, device='cuda:0') |       0.7904      | 1586360862.4130442 |      00:00:06     |\n",
            "|     40    | tensor(0.6215, device='cuda:0') |       0.7896      | 1586360868.8886533 |      00:00:06     |\n",
            "|     41    | tensor(0.5869, device='cuda:0') |       0.8018      | 1586360875.4356525 |      00:00:06     |\n",
            "|     42    | tensor(0.5374, device='cuda:0') |       0.8186      | 1586360881.902401  |      00:00:06     |\n",
            "|     43    | tensor(0.5591, device='cuda:0') |       0.8182      | 1586360888.2962117 |      00:00:06     |\n",
            "|     44    | tensor(0.5365, device='cuda:0') |       0.8202      | 1586360894.753501  |      00:00:06     |\n",
            "|     45    | tensor(0.5165, device='cuda:0') |       0.8236      | 1586360901.2056954 |      00:00:06     |\n",
            "|     46    | tensor(0.5013, device='cuda:0') |       0.829       | 1586360907.5794194 |      00:00:06     |\n",
            "|     47    | tensor(0.4836, device='cuda:0') |       0.8406      | 1586360914.0857048 |      00:00:06     |\n",
            "|     48    | tensor(0.4965, device='cuda:0') |       0.8328      | 1586360920.392363  |      00:00:06     |\n",
            "|     49    | tensor(0.4866, device='cuda:0') |       0.8424      | 1586360927.0520473 |      00:00:06     |\n",
            "|     50    | tensor(0.4732, device='cuda:0') |        0.84       | 1586360933.485826  |      00:00:06     |\n",
            "|     51    | tensor(0.4374, device='cuda:0') |       0.853       | 1586360939.8389335 |      00:00:06     |\n",
            "|     52    | tensor(0.4380, device='cuda:0') |       0.8512      | 1586360946.0366197 |      00:00:06     |\n",
            "|     53    | tensor(0.3901, device='cuda:0') |       0.8662      | 1586360952.4436657 |      00:00:06     |\n",
            "|     54    | tensor(0.4106, device='cuda:0') |       0.8612      | 1586360959.179161  |      00:00:06     |\n",
            "|     55    | tensor(0.4230, device='cuda:0') |       0.8614      | 1586360965.7788308 |      00:00:06     |\n",
            "|     56    | tensor(0.3949, device='cuda:0') |       0.8676      | 1586360972.1612494 |      00:00:06     |\n",
            "|     57    | tensor(0.3846, device='cuda:0') |       0.8672      | 1586360978.5779233 |      00:00:06     |\n",
            "|     58    | tensor(0.3853, device='cuda:0') |       0.8756      | 1586360985.0730455 |      00:00:06     |\n",
            "|     59    | tensor(0.3783, device='cuda:0') |       0.8748      | 1586360991.6800299 |      00:00:06     |\n",
            "|     60    | tensor(0.3697, device='cuda:0') |       0.8774      | 1586360998.0969043 |      00:00:06     |\n",
            "|     61    | tensor(0.3686, device='cuda:0') |       0.8734      | 1586361004.4429903 |      00:00:06     |\n",
            "|     62    | tensor(0.3780, device='cuda:0') |       0.8736      | 1586361010.886815  |      00:00:06     |\n",
            "|     63    | tensor(0.3706, device='cuda:0') |       0.8744      | 1586361017.3289037 |      00:00:06     |\n",
            "|     64    | tensor(0.3301, device='cuda:0') |       0.8878      | 1586361023.743985  |      00:00:06     |\n",
            "|     65    | tensor(0.3251, device='cuda:0') |       0.8942      | 1586361030.217428  |      00:00:06     |\n",
            "|     66    | tensor(0.3069, device='cuda:0') |       0.8984      | 1586361036.676412  |      00:00:06     |\n",
            "|     67    | tensor(0.3385, device='cuda:0') |       0.8816      | 1586361043.0564091 |      00:00:06     |\n",
            "|     68    | tensor(0.3219, device='cuda:0') |       0.891       | 1586361049.2739449 |      00:00:06     |\n",
            "|     69    | tensor(0.3487, device='cuda:0') |       0.8794      | 1586361055.5548027 |      00:00:06     |\n",
            "|     70    | tensor(0.3049, device='cuda:0') |       0.8972      | 1586361061.989621  |      00:00:06     |\n",
            "|     71    | tensor(0.2843, device='cuda:0') |       0.9012      | 1586361068.238329  |      00:00:06     |\n",
            "|     72    | tensor(0.2691, device='cuda:0') |        0.91       | 1586361074.5606658 |      00:00:06     |\n",
            "|     73    | tensor(0.3479, device='cuda:0') |       0.8886      | 1586361080.9352758 |      00:00:06     |\n",
            "|     74    | tensor(0.3001, device='cuda:0') |       0.9004      | 1586361087.2244954 |      00:00:06     |\n",
            "|     75    | tensor(0.2813, device='cuda:0') |       0.9042      | 1586361093.5784278 |      00:00:06     |\n",
            "|     76    | tensor(0.2893, device='cuda:0') |       0.9038      | 1586361099.928142  |      00:00:06     |\n",
            "|     77    | tensor(0.2680, device='cuda:0') |       0.9092      | 1586361106.4783504 |      00:00:06     |\n",
            "|     78    | tensor(0.2633, device='cuda:0') |       0.912       | 1586361112.9089866 |      00:00:06     |\n",
            "|     79    | tensor(0.2466, device='cuda:0') |       0.918       | 1586361119.2825363 |      00:00:06     |\n",
            "|     80    | tensor(0.2649, device='cuda:0') |       0.9098      | 1586361125.8023238 |      00:00:06     |\n",
            "|     81    | tensor(0.2604, device='cuda:0') |       0.9096      | 1586361132.414712  |      00:00:06     |\n",
            "|     82    | tensor(0.2493, device='cuda:0') |       0.9182      | 1586361138.9082527 |      00:00:06     |\n",
            "|     83    | tensor(0.2836, device='cuda:0') |       0.9074      | 1586361145.6181874 |      00:00:06     |\n",
            "|     84    | tensor(0.2215, device='cuda:0') |       0.9234      | 1586361152.0374343 |      00:00:06     |\n",
            "|     85    | tensor(0.2398, device='cuda:0') |       0.9232      | 1586361158.2099633 |      00:00:06     |\n",
            "|     86    | tensor(0.2460, device='cuda:0') |       0.9162      | 1586361164.6382384 |      00:00:06     |\n",
            "|     87    | tensor(0.2335, device='cuda:0') |       0.9218      | 1586361170.9994295 |      00:00:06     |\n",
            "|     88    | tensor(0.2199, device='cuda:0') |       0.9248      | 1586361177.4069629 |      00:00:06     |\n",
            "|     89    | tensor(0.2320, device='cuda:0') |       0.9202      | 1586361183.6544492 |      00:00:06     |\n",
            "|     90    | tensor(0.2209, device='cuda:0') |       0.9268      | 1586361189.9472032 |      00:00:06     |\n",
            "|     91    | tensor(0.2056, device='cuda:0') |       0.9322      | 1586361196.1342304 |      00:00:06     |\n",
            "|     92    | tensor(0.2092, device='cuda:0') |       0.929       | 1586361202.685671  |      00:00:06     |\n",
            "|     93    | tensor(0.1918, device='cuda:0') |       0.9312      | 1586361208.9876935 |      00:00:06     |\n",
            "|     94    | tensor(0.2101, device='cuda:0') |       0.9314      | 1586361215.415624  |      00:00:06     |\n",
            "|     95    | tensor(0.2244, device='cuda:0') |       0.9232      | 1586361221.7962494 |      00:00:06     |\n",
            "|     96    | tensor(0.2083, device='cuda:0') |       0.931       | 1586361227.9668443 |      00:00:05     |\n",
            "|     97    | tensor(0.2195, device='cuda:0') |       0.9308      | 1586361234.079534  |      00:00:06     |\n",
            "|     98    | tensor(0.2051, device='cuda:0') |       0.9322      | 1586361240.258133  |      00:00:06     |\n",
            "|     99    | tensor(0.2431, device='cuda:0') |       0.9214      | 1586361246.630443  |      00:00:06     |\n",
            "|    100    | tensor(0.2066, device='cuda:0') |       0.9304      | 1586361252.9282994 |      00:00:06     |\n",
            "+-----------+---------------------------------+-------------------+--------------------+-------------------+\n",
            "Total training duration; 00:10:42\n"
          ],
          "name": "stdout"
        }
      ]
    },
    {
      "cell_type": "markdown",
      "metadata": {
        "colab_type": "text",
        "id": "mMdHao8JL_Og"
      },
      "source": [
        "#### CIFAR 100 | RESNET 18| PYTORCH LOADER"
      ]
    },
    {
      "cell_type": "code",
      "metadata": {
        "colab_type": "code",
        "outputId": "2f36b2e4-446f-43c1-e72c-3b0b6005f560",
        "id": "y_pNGC6cL_Ol",
        "colab": {
          "base_uri": "https://localhost:8080/",
          "height": 1000
        }
      },
      "source": [
        "resnet_100 = models.resnet18()\n",
        "resnet_100.fc = nn.Linear(512, 100)\n",
        "\n",
        "resnet_100.cuda()\n",
        "n_epochs = 100\n",
        "# Load the Criterion\n",
        "criterion = nn.CrossEntropyLoss()\n",
        "optimizer = torch.optim.Adam(resnet_100.parameters())\n",
        "# Train the Model and Save the Weights\n",
        "save_path =  \"./drive/My Drive/resnet18_100.pt\"\n",
        "training_loop(n_epochs, loaders100, resnet_100,\n",
        "                  optimizer, criterion, save_path) "
      ],
      "execution_count": 0,
      "outputs": [
        {
          "output_type": "stream",
          "text": [
            "+-----------+---------------------------------+---------------------------------+-------------------+---------------------+----------------+-------------------+---------------------+--------------------------+-------------+\n",
            "| Epoch No. |          Training Loss          |         Validation Loss         | Training Accuracy | Validation Accuracy | Epoch Duration | Training Duration | Validation Duration | Validation loss decrease | Model Saved |\n",
            "+-----------+---------------------------------+---------------------------------+-------------------+---------------------+----------------+-------------------+---------------------+--------------------------+-------------+\n",
            "|     1     | tensor(3.9174, device='cuda:0') | tensor(3.4929, device='cuda:0') |      0.10132      |        0.1556       |    00:00:39    |      00:00:36     |       00:00:02      |     inf --> 3.492939     |     True    |\n",
            "|     2     | tensor(3.3803, device='cuda:0') | tensor(3.1022, device='cuda:0') |      0.18368      |        0.2354       |    00:00:38    |      00:00:35     |       00:00:02      |  3.492939 --> 3.102204   |     True    |\n",
            "|     3     | tensor(3.0949, device='cuda:0') | tensor(2.8385, device='cuda:0') |      0.23378      |        0.283        |    00:00:38    |      00:00:35     |       00:00:02      |  3.102204 --> 2.838500   |     True    |\n",
            "|     4     | tensor(2.8801, device='cuda:0') | tensor(2.6286, device='cuda:0') |       0.2745      |        0.3273       |    00:00:38    |      00:00:35     |       00:00:02      |  2.838500 --> 2.628628   |     True    |\n",
            "|     5     | tensor(2.6987, device='cuda:0') | tensor(2.6034, device='cuda:0') |      0.30988      |        0.349        |    00:00:38    |      00:00:35     |       00:00:02      |  2.628628 --> 2.603385   |     True    |\n",
            "|     6     | tensor(2.5637, device='cuda:0') | tensor(2.4488, device='cuda:0') |      0.33944      |        0.3688       |    00:00:38    |      00:00:35     |       00:00:03      |  2.603385 --> 2.448814   |     True    |\n",
            "|     7     | tensor(2.4307, device='cuda:0') | tensor(2.2724, device='cuda:0') |      0.36364      |        0.4054       |    00:00:38    |      00:00:35     |       00:00:03      |  2.448814 --> 2.272424   |     True    |\n",
            "|     8     | tensor(2.3278, device='cuda:0') | tensor(2.2264, device='cuda:0') |      0.38694      |        0.4151       |    00:00:38    |      00:00:35     |       00:00:02      |  2.272424 --> 2.226363   |     True    |\n",
            "|     9     | tensor(2.2384, device='cuda:0') | tensor(2.1538, device='cuda:0') |      0.40442      |        0.4359       |    00:00:38    |      00:00:35     |       00:00:02      |  2.226363 --> 2.153759   |     True    |\n",
            "|     10    | tensor(2.1508, device='cuda:0') | tensor(2.0790, device='cuda:0') |      0.42268      |        0.4501       |    00:00:38    |      00:00:35     |       00:00:02      |  2.153759 --> 2.079005   |     True    |\n",
            "|     11    | tensor(2.0765, device='cuda:0') | tensor(2.0560, device='cuda:0') |      0.43942      |        0.4622       |    00:00:38    |      00:00:35     |       00:00:03      |  2.079005 --> 2.055955   |     True    |\n",
            "|     12    | tensor(2.0157, device='cuda:0') | tensor(2.0144, device='cuda:0') |       0.4533      |        0.466        |    00:00:39    |      00:00:36     |       00:00:02      |  2.055955 --> 2.014427   |     True    |\n",
            "|     13    | tensor(1.9467, device='cuda:0') | tensor(2.0222, device='cuda:0') |       0.472       |        0.4733       |    00:00:38    |      00:00:35     |       00:00:02      |            -             |    False    |\n",
            "|     14    | tensor(1.8815, device='cuda:0') | tensor(2.0161, device='cuda:0') |      0.48408      |        0.4709       |    00:00:38    |      00:00:35     |       00:00:02      |            -             |    False    |\n",
            "|     15    | tensor(1.8409, device='cuda:0') | tensor(1.9624, device='cuda:0') |       0.4918      |        0.4847       |    00:00:38    |      00:00:35     |       00:00:02      |  2.014427 --> 1.962424   |     True    |\n",
            "|     16    | tensor(1.7850, device='cuda:0') | tensor(1.9372, device='cuda:0') |      0.50546      |        0.4901       |    00:00:37    |      00:00:35     |       00:00:02      |  1.962424 --> 1.937192   |     True    |\n",
            "|     17    | tensor(1.7227, device='cuda:0') | tensor(1.9916, device='cuda:0') |      0.51984      |        0.4877       |    00:00:38    |      00:00:35     |       00:00:02      |            -             |    False    |\n",
            "|     18    | tensor(1.6837, device='cuda:0') | tensor(1.9604, device='cuda:0') |      0.53084      |        0.4941       |    00:00:38    |      00:00:35     |       00:00:02      |            -             |    False    |\n",
            "|     19    | tensor(1.6506, device='cuda:0') | tensor(1.9314, device='cuda:0') |      0.53778      |        0.5002       |    00:00:38    |      00:00:35     |       00:00:02      |  1.937192 --> 1.931448   |     True    |\n",
            "|     20    | tensor(1.5968, device='cuda:0') | tensor(1.9527, device='cuda:0') |      0.55034      |        0.4977       |    00:00:38    |      00:00:35     |       00:00:03      |            -             |    False    |\n",
            "|     21    | tensor(1.5511, device='cuda:0') | tensor(1.9441, device='cuda:0') |      0.56154      |        0.5053       |    00:00:37    |      00:00:35     |       00:00:02      |            -             |    False    |\n",
            "|     22    | tensor(1.5168, device='cuda:0') | tensor(1.9537, device='cuda:0') |      0.56718      |        0.5077       |    00:00:38    |      00:00:35     |       00:00:02      |            -             |    False    |\n",
            "|     23    | tensor(1.4733, device='cuda:0') | tensor(1.9566, device='cuda:0') |       0.577       |        0.5117       |    00:00:37    |      00:00:34     |       00:00:02      |            -             |    False    |\n",
            "|     24    | tensor(1.4338, device='cuda:0') | tensor(1.9659, device='cuda:0') |      0.58748      |        0.5112       |    00:00:38    |      00:00:35     |       00:00:02      |            -             |    False    |\n",
            "|     25    | tensor(1.4019, device='cuda:0') | tensor(1.9630, device='cuda:0') |      0.59488      |        0.5128       |    00:00:38    |      00:00:35     |       00:00:02      |            -             |    False    |\n",
            "|     26    | tensor(1.3694, device='cuda:0') | tensor(1.9690, device='cuda:0') |      0.60508      |        0.5131       |    00:00:38    |      00:00:35     |       00:00:02      |            -             |    False    |\n",
            "|     27    | tensor(1.3312, device='cuda:0') | tensor(1.9658, device='cuda:0') |      0.61268      |        0.5154       |    00:00:37    |      00:00:34     |       00:00:02      |            -             |    False    |\n",
            "|     28    | tensor(1.2944, device='cuda:0') | tensor(1.9943, device='cuda:0') |      0.62218      |        0.516        |    00:00:38    |      00:00:35     |       00:00:02      |            -             |    False    |\n",
            "|     29    | tensor(1.2591, device='cuda:0') | tensor(2.0057, device='cuda:0') |       0.6287      |        0.514        |    00:00:38    |      00:00:35     |       00:00:02      |            -             |    False    |\n",
            "|     30    | tensor(1.2276, device='cuda:0') | tensor(1.9914, device='cuda:0') |      0.63842      |        0.5208       |    00:00:38    |      00:00:35     |       00:00:02      |            -             |    False    |\n",
            "|     31    | tensor(1.1948, device='cuda:0') | tensor(2.0132, device='cuda:0') |      0.64644      |        0.5207       |    00:00:38    |      00:00:35     |       00:00:02      |            -             |    False    |\n",
            "|     32    | tensor(1.1580, device='cuda:0') | tensor(2.0959, device='cuda:0') |      0.65582      |        0.515        |    00:00:37    |      00:00:34     |       00:00:02      |            -             |    False    |\n",
            "|     33    | tensor(1.1356, device='cuda:0') | tensor(2.0354, device='cuda:0') |      0.66158      |        0.5233       |    00:00:38    |      00:00:35     |       00:00:02      |            -             |    False    |\n",
            "|     34    | tensor(1.1000, device='cuda:0') | tensor(2.0946, device='cuda:0') |      0.66836      |        0.5164       |    00:00:37    |      00:00:34     |       00:00:02      |            -             |    False    |\n",
            "|     35    | tensor(1.0705, device='cuda:0') | tensor(2.1460, device='cuda:0') |      0.67562      |        0.5174       |    00:00:37    |      00:00:34     |       00:00:02      |            -             |    False    |\n",
            "|     36    | tensor(1.0525, device='cuda:0') | tensor(2.0843, device='cuda:0') |      0.68294      |        0.5314       |    00:00:37    |      00:00:35     |       00:00:02      |            -             |    False    |\n",
            "|     37    | tensor(1.0127, device='cuda:0') | tensor(2.1367, device='cuda:0') |      0.69442      |        0.5227       |    00:00:37    |      00:00:34     |       00:00:02      |            -             |    False    |\n",
            "|     38    | tensor(0.9955, device='cuda:0') | tensor(2.1861, device='cuda:0') |      0.69856      |        0.5216       |    00:00:37    |      00:00:34     |       00:00:02      |            -             |    False    |\n",
            "|     39    | tensor(0.9757, device='cuda:0') | tensor(2.2180, device='cuda:0') |      0.70238      |        0.5153       |    00:00:38    |      00:00:35     |       00:00:02      |            -             |    False    |\n",
            "|     40    | tensor(0.9537, device='cuda:0') | tensor(2.1900, device='cuda:0') |      0.70998      |        0.5236       |    00:00:37    |      00:00:35     |       00:00:02      |            -             |    False    |\n",
            "|     41    | tensor(0.9258, device='cuda:0') | tensor(2.2271, device='cuda:0') |      0.71616      |        0.5198       |    00:00:38    |      00:00:35     |       00:00:02      |            -             |    False    |\n",
            "|     42    | tensor(0.9000, device='cuda:0') | tensor(2.2719, device='cuda:0') |      0.72508      |        0.5224       |    00:00:37    |      00:00:34     |       00:00:02      |            -             |    False    |\n",
            "|     43    | tensor(0.8759, device='cuda:0') | tensor(2.2654, device='cuda:0') |      0.73144      |        0.5233       |    00:00:38    |      00:00:35     |       00:00:02      |            -             |    False    |\n",
            "|     44    | tensor(0.8523, device='cuda:0') | tensor(2.3080, device='cuda:0') |      0.74148      |        0.5191       |    00:00:37    |      00:00:34     |       00:00:02      |            -             |    False    |\n",
            "|     45    | tensor(0.8287, device='cuda:0') | tensor(2.3115, device='cuda:0') |      0.74232      |        0.5194       |    00:00:37    |      00:00:35     |       00:00:02      |            -             |    False    |\n",
            "|     46    | tensor(0.8157, device='cuda:0') | tensor(2.3551, device='cuda:0') |      0.74932      |        0.5175       |    00:00:38    |      00:00:35     |       00:00:02      |            -             |    False    |\n",
            "|     47    | tensor(0.7858, device='cuda:0') | tensor(2.3717, device='cuda:0') |       0.7552      |        0.5252       |    00:00:38    |      00:00:35     |       00:00:02      |            -             |    False    |\n",
            "|     48    | tensor(0.7761, device='cuda:0') | tensor(2.3746, device='cuda:0') |      0.75914      |        0.5149       |    00:00:38    |      00:00:35     |       00:00:02      |            -             |    False    |\n",
            "|     49    | tensor(0.7583, device='cuda:0') | tensor(2.4277, device='cuda:0') |      0.76334      |        0.5242       |    00:00:38    |      00:00:35     |       00:00:02      |            -             |    False    |\n",
            "|     50    | tensor(0.7289, device='cuda:0') | tensor(2.4465, device='cuda:0') |      0.77182      |        0.5208       |    00:00:38    |      00:00:35     |       00:00:02      |            -             |    False    |\n",
            "|     51    | tensor(0.7188, device='cuda:0') | tensor(2.4430, device='cuda:0') |      0.77536      |        0.5177       |    00:00:38    |      00:00:35     |       00:00:02      |            -             |    False    |\n",
            "|     52    | tensor(0.7065, device='cuda:0') | tensor(2.4307, device='cuda:0') |      0.77822      |        0.5216       |    00:00:38    |      00:00:35     |       00:00:02      |            -             |    False    |\n",
            "|     53    | tensor(0.6829, device='cuda:0') | tensor(2.5514, device='cuda:0') |      0.78462      |        0.5188       |    00:00:38    |      00:00:35     |       00:00:02      |            -             |    False    |\n",
            "|     54    | tensor(0.6680, device='cuda:0') | tensor(2.5808, device='cuda:0') |       0.7896      |        0.518        |    00:00:38    |      00:00:35     |       00:00:02      |            -             |    False    |\n",
            "|     55    | tensor(0.6537, device='cuda:0') | tensor(2.6069, device='cuda:0') |      0.79302      |        0.5187       |    00:00:38    |      00:00:35     |       00:00:02      |            -             |    False    |\n",
            "|     56    | tensor(0.6341, device='cuda:0') | tensor(2.5810, device='cuda:0') |       0.8004      |        0.515        |    00:00:38    |      00:00:35     |       00:00:02      |            -             |    False    |\n",
            "|     57    | tensor(0.6224, device='cuda:0') | tensor(2.6204, device='cuda:0') |      0.80456      |        0.5224       |    00:00:38    |      00:00:35     |       00:00:02      |            -             |    False    |\n",
            "|     58    | tensor(0.6100, device='cuda:0') | tensor(2.5749, device='cuda:0') |      0.80582      |        0.5193       |    00:00:38    |      00:00:35     |       00:00:02      |            -             |    False    |\n",
            "|     59    | tensor(0.5993, device='cuda:0') | tensor(2.5539, device='cuda:0') |      0.81032      |        0.5193       |    00:00:38    |      00:00:35     |       00:00:02      |            -             |    False    |\n",
            "|     60    | tensor(0.5882, device='cuda:0') | tensor(2.6165, device='cuda:0') |      0.81384      |        0.5213       |    00:00:38    |      00:00:35     |       00:00:02      |            -             |    False    |\n",
            "|     61    | tensor(0.5716, device='cuda:0') | tensor(2.6575, device='cuda:0') |       0.819       |        0.5202       |    00:00:38    |      00:00:35     |       00:00:02      |            -             |    False    |\n",
            "|     62    | tensor(0.5599, device='cuda:0') | tensor(2.7092, device='cuda:0') |       0.8232      |        0.5122       |    00:00:38    |      00:00:35     |       00:00:02      |            -             |    False    |\n",
            "|     63    | tensor(0.5546, device='cuda:0') | tensor(2.7654, device='cuda:0') |       0.8228      |        0.5158       |    00:00:38    |      00:00:35     |       00:00:02      |            -             |    False    |\n",
            "|     64    | tensor(0.5440, device='cuda:0') | tensor(2.6741, device='cuda:0') |       0.8273      |        0.5237       |    00:00:38    |      00:00:35     |       00:00:02      |            -             |    False    |\n",
            "|     65    | tensor(0.5266, device='cuda:0') | tensor(2.7984, device='cuda:0') |      0.83152      |        0.5198       |    00:00:38    |      00:00:35     |       00:00:02      |            -             |    False    |\n",
            "|     66    | tensor(0.5175, device='cuda:0') | tensor(2.8333, device='cuda:0') |      0.83524      |        0.5166       |    00:00:38    |      00:00:35     |       00:00:02      |            -             |    False    |\n",
            "|     67    | tensor(0.5124, device='cuda:0') | tensor(2.7858, device='cuda:0') |       0.8368      |        0.5195       |    00:00:38    |      00:00:35     |       00:00:02      |            -             |    False    |\n",
            "|     68    | tensor(0.5024, device='cuda:0') | tensor(2.7837, device='cuda:0') |      0.83954      |        0.5273       |    00:00:38    |      00:00:36     |       00:00:02      |            -             |    False    |\n",
            "|     69    | tensor(0.4958, device='cuda:0') | tensor(2.7594, device='cuda:0') |      0.84102      |         0.52        |    00:00:38    |      00:00:35     |       00:00:02      |            -             |    False    |\n",
            "|     70    | tensor(0.4894, device='cuda:0') | tensor(2.8027, device='cuda:0') |      0.84478      |        0.5198       |    00:00:38    |      00:00:35     |       00:00:02      |            -             |    False    |\n",
            "|     71    | tensor(0.4857, device='cuda:0') | tensor(2.8767, device='cuda:0') |       0.8446      |        0.5226       |    00:00:38    |      00:00:35     |       00:00:02      |            -             |    False    |\n",
            "|     72    | tensor(0.4747, device='cuda:0') | tensor(2.8524, device='cuda:0') |      0.84954      |        0.5194       |    00:00:38    |      00:00:35     |       00:00:02      |            -             |    False    |\n",
            "|     73    | tensor(0.4644, device='cuda:0') | tensor(2.8340, device='cuda:0') |      0.85048      |        0.5187       |    00:00:38    |      00:00:35     |       00:00:02      |            -             |    False    |\n",
            "|     74    | tensor(0.4544, device='cuda:0') | tensor(2.8104, device='cuda:0') |      0.85714      |        0.5227       |    00:00:38    |      00:00:35     |       00:00:02      |            -             |    False    |\n",
            "|     75    | tensor(0.4505, device='cuda:0') | tensor(2.9640, device='cuda:0') |      0.85532      |        0.521        |    00:00:38    |      00:00:35     |       00:00:02      |            -             |    False    |\n",
            "|     76    | tensor(0.4350, device='cuda:0') | tensor(2.8961, device='cuda:0') |      0.86144      |        0.519        |    00:00:38    |      00:00:35     |       00:00:03      |            -             |    False    |\n",
            "|     77    | tensor(0.4413, device='cuda:0') | tensor(2.9418, device='cuda:0') |       0.8587      |        0.5207       |    00:00:38    |      00:00:35     |       00:00:02      |            -             |    False    |\n",
            "|     78    | tensor(0.4284, device='cuda:0') | tensor(2.9382, device='cuda:0') |      0.86276      |        0.5237       |    00:00:38    |      00:00:35     |       00:00:02      |            -             |    False    |\n",
            "|     79    | tensor(0.4107, device='cuda:0') | tensor(2.9300, device='cuda:0') |      0.86966      |        0.5259       |    00:00:37    |      00:00:35     |       00:00:02      |            -             |    False    |\n",
            "|     80    | tensor(0.4163, device='cuda:0') | tensor(2.9549, device='cuda:0') |      0.86612      |        0.5182       |    00:00:38    |      00:00:35     |       00:00:02      |            -             |    False    |\n",
            "|     81    | tensor(0.4037, device='cuda:0') | tensor(3.0248, device='cuda:0') |       0.8684      |        0.5228       |    00:00:37    |      00:00:34     |       00:00:02      |            -             |    False    |\n",
            "|     82    | tensor(0.4001, device='cuda:0') | tensor(3.0390, device='cuda:0') |       0.8723      |        0.5159       |    00:00:38    |      00:00:35     |       00:00:03      |            -             |    False    |\n",
            "|     83    | tensor(0.3992, device='cuda:0') | tensor(3.0003, device='cuda:0') |       0.8716      |        0.5235       |    00:00:38    |      00:00:35     |       00:00:02      |            -             |    False    |\n",
            "|     84    | tensor(0.3881, device='cuda:0') | tensor(2.9530, device='cuda:0') |      0.87514      |        0.5234       |    00:00:37    |      00:00:34     |       00:00:02      |            -             |    False    |\n",
            "|     85    | tensor(0.3836, device='cuda:0') | tensor(3.0281, device='cuda:0') |       0.8777      |        0.5192       |    00:00:38    |      00:00:35     |       00:00:02      |            -             |    False    |\n",
            "|     86    | tensor(0.3843, device='cuda:0') | tensor(3.0410, device='cuda:0') |      0.87784      |        0.5191       |    00:00:38    |      00:00:35     |       00:00:02      |            -             |    False    |\n",
            "|     87    | tensor(0.3857, device='cuda:0') | tensor(3.0673, device='cuda:0') |       0.877       |        0.5193       |    00:00:37    |      00:00:34     |       00:00:02      |            -             |    False    |\n",
            "|     88    | tensor(0.3658, device='cuda:0') | tensor(3.1412, device='cuda:0') |       0.8836      |        0.5199       |    00:00:37    |      00:00:34     |       00:00:02      |            -             |    False    |\n",
            "|     89    | tensor(0.3692, device='cuda:0') | tensor(3.1033, device='cuda:0') |      0.88092      |        0.5141       |    00:00:37    |      00:00:34     |       00:00:02      |            -             |    False    |\n",
            "|     90    | tensor(0.3621, device='cuda:0') | tensor(3.1165, device='cuda:0') |      0.88344      |        0.5191       |    00:00:38    |      00:00:35     |       00:00:02      |            -             |    False    |\n",
            "|     91    | tensor(0.3598, device='cuda:0') | tensor(3.0615, device='cuda:0') |      0.88526      |        0.5141       |    00:00:38    |      00:00:35     |       00:00:02      |            -             |    False    |\n",
            "|     92    | tensor(0.3477, device='cuda:0') | tensor(3.1177, device='cuda:0') |      0.88982      |        0.5189       |    00:00:38    |      00:00:35     |       00:00:02      |            -             |    False    |\n",
            "|     93    | tensor(0.3480, device='cuda:0') | tensor(3.1793, device='cuda:0') |      0.88884      |        0.5091       |    00:00:38    |      00:00:35     |       00:00:02      |            -             |    False    |\n",
            "|     94    | tensor(0.3371, device='cuda:0') | tensor(3.0991, device='cuda:0') |      0.89088      |        0.5195       |    00:00:37    |      00:00:35     |       00:00:02      |            -             |    False    |\n",
            "|     95    | tensor(0.3335, device='cuda:0') | tensor(3.1934, device='cuda:0') |      0.89162      |        0.5121       |    00:00:37    |      00:00:34     |       00:00:02      |            -             |    False    |\n",
            "|     96    | tensor(0.3325, device='cuda:0') | tensor(3.1724, device='cuda:0') |      0.89356      |        0.5118       |    00:00:38    |      00:00:35     |       00:00:02      |            -             |    False    |\n",
            "|     97    | tensor(0.3385, device='cuda:0') | tensor(3.2157, device='cuda:0') |      0.89102      |        0.5128       |    00:00:37    |      00:00:34     |       00:00:02      |            -             |    False    |\n",
            "|     98    | tensor(0.3189, device='cuda:0') | tensor(3.1986, device='cuda:0') |      0.89756      |        0.5175       |    00:00:37    |      00:00:35     |       00:00:02      |            -             |    False    |\n",
            "|     99    | tensor(0.3257, device='cuda:0') | tensor(3.2281, device='cuda:0') |      0.89446      |        0.5168       |    00:00:37    |      00:00:34     |       00:00:02      |            -             |    False    |\n",
            "|    100    | tensor(0.3144, device='cuda:0') | tensor(3.2201, device='cuda:0') |       0.8992      |        0.5259       |    00:00:37    |      00:00:34     |       00:00:02      |            -             |    False    |\n",
            "+-----------+---------------------------------+---------------------------------+-------------------+---------------------+----------------+-------------------+---------------------+--------------------------+-------------+\n",
            "Total training duration; 01:03:46\n"
          ],
          "name": "stdout"
        }
      ]
    },
    {
      "cell_type": "markdown",
      "metadata": {
        "id": "q4lQJmuct3gP",
        "colab_type": "text"
      },
      "source": [
        "## Test Models\n",
        "\n",
        "We use two different datasets for testing here....\n",
        "\n",
        "*   The subset that we created from CIFAR-100 **(train_loader)** . 5000 images and 250 images per class. There are 20 random classes that we picked.\n",
        "*   The test set fetched from the PyTorch datasets **(loaders100[\"valid\"])**. 10000 total images spread across 100 classes\n",
        "\n"
      ]
    },
    {
      "cell_type": "markdown",
      "metadata": {
        "id": "xFBiUMX8tkl9",
        "colab_type": "text"
      },
      "source": [
        "#### CIFAR SUBSET | CUSTOM MODEL | NUMPY LOADER"
      ]
    },
    {
      "cell_type": "code",
      "metadata": {
        "id": "LQbZcpG2t8p4",
        "colab_type": "code",
        "outputId": "59ad6ced-1e66-48fa-e580-599ec6010c50",
        "colab": {
          "base_uri": "https://localhost:8080/",
          "height": 1000
        }
      },
      "source": [
        "model = Net(num_classes=100)\n",
        "model.load_state_dict(torch.load('./cifar_subset_20.pt'))\n",
        "model.cuda()\n",
        "\n",
        "criterion = nn.CrossEntropyLoss()\n",
        "optimizer = torch.optim.Adam(model.parameters())\n",
        "\n",
        "test_model(model, 100, train_loader)"
      ],
      "execution_count": 0,
      "outputs": [
        {
          "output_type": "stream",
          "text": [
            "Test Loss: 27.393689\n",
            "\n",
            "Test Accuracy of     0: 78% (78/100)\n",
            "Test Accuracy of     1:  0% ( 0/100)\n",
            "Test Accuracy of     2: 58% (58/100)\n",
            "Test Accuracy of     3: 31% (31/100)\n",
            "Test Accuracy of     4:  0% ( 0/100)\n",
            "Test Accuracy of     5:  0% ( 0/100)\n",
            "Test Accuracy of     6:  0% ( 0/100)\n",
            "Test Accuracy of     7:  0% ( 0/100)\n",
            "Test Accuracy of     8:  0% ( 0/100)\n",
            "Test Accuracy of     9:  0% ( 0/100)\n",
            "Test Accuracy of    10:  0% ( 0/100)\n",
            "Test Accuracy of    11:  0% ( 0/100)\n",
            "Test Accuracy of    12:  0% ( 0/100)\n",
            "Test Accuracy of    13: 45% (45/100)\n",
            "Test Accuracy of    14: 57% (57/100)\n",
            "Test Accuracy of    15:  0% ( 0/100)\n",
            "Test Accuracy of    16: 41% (41/100)\n",
            "Test Accuracy of    17:  0% ( 0/100)\n",
            "Test Accuracy of    18:  0% ( 0/100)\n",
            "Test Accuracy of    19:  0% ( 0/100)\n",
            "Test Accuracy of    20:  0% ( 0/100)\n",
            "Test Accuracy of    21: 64% (64/100)\n",
            "Test Accuracy of    22:  0% ( 0/100)\n",
            "Test Accuracy of    23: 67% (67/100)\n",
            "Test Accuracy of    24: 66% (66/100)\n",
            "Test Accuracy of    25:  0% ( 0/100)\n",
            "Test Accuracy of    26:  0% ( 0/100)\n",
            "Test Accuracy of    27: 46% (46/100)\n",
            "Test Accuracy of    28: 38% (38/100)\n",
            "Test Accuracy of    29: 47% (47/100)\n",
            "Test Accuracy of    30: 58% (58/100)\n",
            "Test Accuracy of    31:  0% ( 0/100)\n",
            "Test Accuracy of    32:  0% ( 0/100)\n",
            "Test Accuracy of    33:  0% ( 0/100)\n",
            "Test Accuracy of    34:  0% ( 0/100)\n",
            "Test Accuracy of    35:  0% ( 0/100)\n",
            "Test Accuracy of    36:  0% ( 0/100)\n",
            "Test Accuracy of    37:  0% ( 0/100)\n",
            "Test Accuracy of    38:  0% ( 0/100)\n",
            "Test Accuracy of    39:  0% ( 0/100)\n",
            "Test Accuracy of    40:  0% ( 0/100)\n",
            "Test Accuracy of    41:  0% ( 0/100)\n",
            "Test Accuracy of    42:  0% ( 0/100)\n",
            "Test Accuracy of    43:  0% ( 0/100)\n",
            "Test Accuracy of    44:  0% ( 0/100)\n",
            "Test Accuracy of    45:  0% ( 0/100)\n",
            "Test Accuracy of    46:  0% ( 0/100)\n",
            "Test Accuracy of    47:  0% ( 0/100)\n",
            "Test Accuracy of    48:  0% ( 0/100)\n",
            "Test Accuracy of    49:  0% ( 0/100)\n",
            "Test Accuracy of    50:  0% ( 0/100)\n",
            "Test Accuracy of    51:  0% ( 0/100)\n",
            "Test Accuracy of    52:  0% ( 0/100)\n",
            "Test Accuracy of    53:  0% ( 0/100)\n",
            "Test Accuracy of    54:  0% ( 0/100)\n",
            "Test Accuracy of    55:  0% ( 0/100)\n",
            "Test Accuracy of    56: 68% (68/100)\n",
            "Test Accuracy of    57:  0% ( 0/100)\n",
            "Test Accuracy of    58:  0% ( 0/100)\n",
            "Test Accuracy of    59:  0% ( 0/100)\n",
            "Test Accuracy of    60:  0% ( 0/100)\n",
            "Test Accuracy of    61: 57% (57/100)\n",
            "Test Accuracy of    62:  0% ( 0/100)\n",
            "Test Accuracy of    63:  0% ( 0/100)\n",
            "Test Accuracy of    64:  0% ( 0/100)\n",
            "Test Accuracy of    65:  0% ( 0/100)\n",
            "Test Accuracy of    66:  0% ( 0/100)\n",
            "Test Accuracy of    67:  0% ( 0/100)\n",
            "Test Accuracy of    68:  0% ( 0/100)\n",
            "Test Accuracy of    69:  0% ( 0/100)\n",
            "Test Accuracy of    70:  0% ( 0/100)\n",
            "Test Accuracy of    71:  0% ( 0/100)\n",
            "Test Accuracy of    72:  0% ( 0/100)\n",
            "Test Accuracy of    73:  0% ( 0/100)\n",
            "Test Accuracy of    74:  0% ( 0/100)\n",
            "Test Accuracy of    75:  0% ( 0/100)\n",
            "Test Accuracy of    76: 78% (78/100)\n",
            "Test Accuracy of    77:  0% ( 0/100)\n",
            "Test Accuracy of    78:  0% ( 0/100)\n",
            "Test Accuracy of    79: 54% (54/100)\n",
            "Test Accuracy of    80:  0% ( 0/100)\n",
            "Test Accuracy of    81:  0% ( 0/100)\n",
            "Test Accuracy of    82:  0% ( 0/100)\n",
            "Test Accuracy of    83: 33% (33/100)\n",
            "Test Accuracy of    84:  0% ( 0/100)\n",
            "Test Accuracy of    85:  0% ( 0/100)\n",
            "Test Accuracy of    86:  0% ( 0/100)\n",
            "Test Accuracy of    87:  0% ( 0/100)\n",
            "Test Accuracy of    88:  0% ( 0/100)\n",
            "Test Accuracy of    89:  0% ( 0/100)\n",
            "Test Accuracy of    90:  0% ( 0/100)\n",
            "Test Accuracy of    91:  0% ( 0/100)\n",
            "Test Accuracy of    92: 51% (51/100)\n",
            "Test Accuracy of    93:  0% ( 0/100)\n",
            "Test Accuracy of    94:  0% ( 0/100)\n",
            "Test Accuracy of    95:  0% ( 0/100)\n",
            "Test Accuracy of    96:  0% ( 0/100)\n",
            "Test Accuracy of    97:  0% ( 0/100)\n",
            "Test Accuracy of    98:  0% ( 0/100)\n",
            "Test Accuracy of    99: 36% (36/100)\n",
            "\n",
            "Final Test  Accuracy: 10% (1073/10000)\n"
          ],
          "name": "stdout"
        }
      ]
    },
    {
      "cell_type": "markdown",
      "metadata": {
        "id": "sRlvzL9VtpGP",
        "colab_type": "text"
      },
      "source": [
        "#### CIFAR 100 | CUSTOM MODEL | PYTORCH LOADER"
      ]
    },
    {
      "cell_type": "code",
      "metadata": {
        "id": "c-qSQszytuvz",
        "colab_type": "code",
        "outputId": "fefc8c3a-b2ef-4a8f-b621-baebd596d3f2",
        "colab": {
          "base_uri": "https://localhost:8080/",
          "height": 1000
        }
      },
      "source": [
        "num_classes = 100\n",
        "model = Net(num_classes)\n",
        "model.load_state_dict(torch.load('./cifar_100.pt'))\n",
        "model.cuda()\n",
        "\n",
        "criterion = nn.CrossEntropyLoss()\n",
        "optimizer = torch.optim.Adam(model.parameters())\n",
        "\n",
        "test_model(model, num_classes, loaders100)"
      ],
      "execution_count": 0,
      "outputs": [
        {
          "output_type": "stream",
          "text": [
            "Test Loss: 2.567382\n",
            "\n",
            "Test Accuracy of     0: 67% (67/100)\n",
            "Test Accuracy of     1: 43% (43/100)\n",
            "Test Accuracy of     2: 27% (27/100)\n",
            "Test Accuracy of     3: 13% (13/100)\n",
            "Test Accuracy of     4:  8% ( 8/100)\n",
            "Test Accuracy of     5: 32% (32/100)\n",
            "Test Accuracy of     6: 40% (40/100)\n",
            "Test Accuracy of     7: 48% (48/100)\n",
            "Test Accuracy of     8: 36% (36/100)\n",
            "Test Accuracy of     9: 44% (44/100)\n",
            "Test Accuracy of    10:  9% ( 9/100)\n",
            "Test Accuracy of    11: 24% (24/100)\n",
            "Test Accuracy of    12: 31% (31/100)\n",
            "Test Accuracy of    13: 18% (18/100)\n",
            "Test Accuracy of    14: 20% (20/100)\n",
            "Test Accuracy of    15: 14% (14/100)\n",
            "Test Accuracy of    16: 43% (43/100)\n",
            "Test Accuracy of    17: 59% (59/100)\n",
            "Test Accuracy of    18: 34% (34/100)\n",
            "Test Accuracy of    19: 30% (30/100)\n",
            "Test Accuracy of    20: 60% (60/100)\n",
            "Test Accuracy of    21: 55% (55/100)\n",
            "Test Accuracy of    22: 24% (24/100)\n",
            "Test Accuracy of    23: 66% (66/100)\n",
            "Test Accuracy of    24: 61% (61/100)\n",
            "Test Accuracy of    25: 16% (16/100)\n",
            "Test Accuracy of    26: 22% (22/100)\n",
            "Test Accuracy of    27: 37% (37/100)\n",
            "Test Accuracy of    28: 52% (52/100)\n",
            "Test Accuracy of    29: 24% (24/100)\n",
            "Test Accuracy of    30: 35% (35/100)\n",
            "Test Accuracy of    31: 44% (44/100)\n",
            "Test Accuracy of    32: 25% (25/100)\n",
            "Test Accuracy of    33: 25% (25/100)\n",
            "Test Accuracy of    34: 27% (27/100)\n",
            "Test Accuracy of    35: 11% (11/100)\n",
            "Test Accuracy of    36: 42% (42/100)\n",
            "Test Accuracy of    37: 28% (28/100)\n",
            "Test Accuracy of    38: 12% (12/100)\n",
            "Test Accuracy of    39: 47% (47/100)\n",
            "Test Accuracy of    40: 26% (26/100)\n",
            "Test Accuracy of    41: 56% (56/100)\n",
            "Test Accuracy of    42: 40% (40/100)\n",
            "Test Accuracy of    43: 36% (36/100)\n",
            "Test Accuracy of    44: 28% (28/100)\n",
            "Test Accuracy of    45: 28% (28/100)\n",
            "Test Accuracy of    46: 17% (17/100)\n",
            "Test Accuracy of    47: 40% (40/100)\n",
            "Test Accuracy of    48: 67% (67/100)\n",
            "Test Accuracy of    49: 51% (51/100)\n",
            "Test Accuracy of    50: 14% (14/100)\n",
            "Test Accuracy of    51: 26% (26/100)\n",
            "Test Accuracy of    52: 66% (66/100)\n",
            "Test Accuracy of    53: 77% (77/100)\n",
            "Test Accuracy of    54: 47% (47/100)\n",
            "Test Accuracy of    55:  7% ( 7/100)\n",
            "Test Accuracy of    56: 46% (46/100)\n",
            "Test Accuracy of    57: 34% (34/100)\n",
            "Test Accuracy of    58: 36% (36/100)\n",
            "Test Accuracy of    59: 14% (14/100)\n",
            "Test Accuracy of    60: 84% (84/100)\n",
            "Test Accuracy of    61: 55% (55/100)\n",
            "Test Accuracy of    62: 55% (55/100)\n",
            "Test Accuracy of    63: 35% (35/100)\n",
            "Test Accuracy of    64: 10% (10/100)\n",
            "Test Accuracy of    65: 12% (12/100)\n",
            "Test Accuracy of    66: 30% (30/100)\n",
            "Test Accuracy of    67: 18% (18/100)\n",
            "Test Accuracy of    68: 54% (54/100)\n",
            "Test Accuracy of    69: 50% (50/100)\n",
            "Test Accuracy of    70: 34% (34/100)\n",
            "Test Accuracy of    71: 46% (46/100)\n",
            "Test Accuracy of    72:  2% ( 2/100)\n",
            "Test Accuracy of    73: 42% (42/100)\n",
            "Test Accuracy of    74: 19% (19/100)\n",
            "Test Accuracy of    75: 55% (55/100)\n",
            "Test Accuracy of    76: 62% (62/100)\n",
            "Test Accuracy of    77: 10% (10/100)\n",
            "Test Accuracy of    78: 18% (18/100)\n",
            "Test Accuracy of    79: 43% (43/100)\n",
            "Test Accuracy of    80: 21% (21/100)\n",
            "Test Accuracy of    81: 36% (36/100)\n",
            "Test Accuracy of    82: 74% (74/100)\n",
            "Test Accuracy of    83: 27% (27/100)\n",
            "Test Accuracy of    84: 18% (18/100)\n",
            "Test Accuracy of    85: 48% (48/100)\n",
            "Test Accuracy of    86: 24% (24/100)\n",
            "Test Accuracy of    87: 31% (31/100)\n",
            "Test Accuracy of    88: 35% (35/100)\n",
            "Test Accuracy of    89: 47% (47/100)\n",
            "Test Accuracy of    90: 22% (22/100)\n",
            "Test Accuracy of    91: 43% (43/100)\n",
            "Test Accuracy of    92: 18% (18/100)\n",
            "Test Accuracy of    93: 17% (17/100)\n",
            "Test Accuracy of    94: 66% (66/100)\n",
            "Test Accuracy of    95: 38% (38/100)\n",
            "Test Accuracy of    96: 48% (48/100)\n",
            "Test Accuracy of    97: 28% (28/100)\n",
            "Test Accuracy of    98:  5% ( 5/100)\n",
            "Test Accuracy of    99: 12% (12/100)\n",
            "\n",
            "Final Test  Accuracy: 35% (3501/10000)\n"
          ],
          "name": "stdout"
        }
      ]
    },
    {
      "cell_type": "markdown",
      "metadata": {
        "id": "YzM5E8dOtvUJ",
        "colab_type": "text"
      },
      "source": [
        "#### CIFAR SUBSET | WIDE RESNET | NUMPY LOADER"
      ]
    },
    {
      "cell_type": "code",
      "metadata": {
        "id": "OtEE13iwtz4h",
        "colab_type": "code",
        "outputId": "8ee0fbec-b177-4bcc-8bf8-49769d018f7e",
        "colab": {
          "base_uri": "https://localhost:8080/",
          "height": 1000
        }
      },
      "source": [
        "num_classes = 100\n",
        "model = models.wide_resnet50_2()\n",
        "model.fc = nn.Linear(2048, 100)\n",
        "model.load_state_dict(torch.load('./resnet_subset_20.pt'))\n",
        "model.cuda()\n",
        "\n",
        "criterion = nn.CrossEntropyLoss()\n",
        "optimizer = torch.optim.Adam(model.parameters())\n",
        "\n",
        "test_model(model, num_classes, train_loader)"
      ],
      "execution_count": 0,
      "outputs": [
        {
          "output_type": "stream",
          "text": [
            "Test Loss: 33.787555\n",
            "\n",
            "Test Accuracy of     0: 57% (57/100)\n",
            "Test Accuracy of     1:  0% ( 0/100)\n",
            "Test Accuracy of     2: 56% (56/100)\n",
            "Test Accuracy of     3: 48% (48/100)\n",
            "Test Accuracy of     4:  0% ( 0/100)\n",
            "Test Accuracy of     5:  0% ( 0/100)\n",
            "Test Accuracy of     6:  0% ( 0/100)\n",
            "Test Accuracy of     7:  0% ( 0/100)\n",
            "Test Accuracy of     8:  0% ( 0/100)\n",
            "Test Accuracy of     9:  0% ( 0/100)\n",
            "Test Accuracy of    10:  0% ( 0/100)\n",
            "Test Accuracy of    11:  0% ( 0/100)\n",
            "Test Accuracy of    12:  0% ( 0/100)\n",
            "Test Accuracy of    13: 67% (67/100)\n",
            "Test Accuracy of    14: 44% (44/100)\n",
            "Test Accuracy of    15:  0% ( 0/100)\n",
            "Test Accuracy of    16: 48% (48/100)\n",
            "Test Accuracy of    17:  0% ( 0/100)\n",
            "Test Accuracy of    18:  0% ( 0/100)\n",
            "Test Accuracy of    19:  0% ( 0/100)\n",
            "Test Accuracy of    20:  0% ( 0/100)\n",
            "Test Accuracy of    21: 68% (68/100)\n",
            "Test Accuracy of    22:  0% ( 0/100)\n",
            "Test Accuracy of    23: 82% (82/100)\n",
            "Test Accuracy of    24: 79% (79/100)\n",
            "Test Accuracy of    25:  0% ( 0/100)\n",
            "Test Accuracy of    26:  0% ( 0/100)\n",
            "Test Accuracy of    27: 46% (46/100)\n",
            "Test Accuracy of    28: 53% (53/100)\n",
            "Test Accuracy of    29: 50% (50/100)\n",
            "Test Accuracy of    30: 77% (77/100)\n",
            "Test Accuracy of    31:  0% ( 0/100)\n",
            "Test Accuracy of    32:  0% ( 0/100)\n",
            "Test Accuracy of    33:  0% ( 0/100)\n",
            "Test Accuracy of    34:  0% ( 0/100)\n",
            "Test Accuracy of    35:  0% ( 0/100)\n",
            "Test Accuracy of    36:  0% ( 0/100)\n",
            "Test Accuracy of    37:  0% ( 0/100)\n",
            "Test Accuracy of    38:  0% ( 0/100)\n",
            "Test Accuracy of    39:  0% ( 0/100)\n",
            "Test Accuracy of    40:  0% ( 0/100)\n",
            "Test Accuracy of    41:  0% ( 0/100)\n",
            "Test Accuracy of    42:  0% ( 0/100)\n",
            "Test Accuracy of    43:  0% ( 0/100)\n",
            "Test Accuracy of    44:  0% ( 0/100)\n",
            "Test Accuracy of    45:  0% ( 0/100)\n",
            "Test Accuracy of    46:  0% ( 0/100)\n",
            "Test Accuracy of    47:  0% ( 0/100)\n",
            "Test Accuracy of    48:  0% ( 0/100)\n",
            "Test Accuracy of    49:  0% ( 0/100)\n",
            "Test Accuracy of    50:  0% ( 0/100)\n",
            "Test Accuracy of    51:  0% ( 0/100)\n",
            "Test Accuracy of    52:  0% ( 0/100)\n",
            "Test Accuracy of    53:  0% ( 0/100)\n",
            "Test Accuracy of    54:  0% ( 0/100)\n",
            "Test Accuracy of    55:  0% ( 0/100)\n",
            "Test Accuracy of    56: 80% (80/100)\n",
            "Test Accuracy of    57:  0% ( 0/100)\n",
            "Test Accuracy of    58:  0% ( 0/100)\n",
            "Test Accuracy of    59:  0% ( 0/100)\n",
            "Test Accuracy of    60:  0% ( 0/100)\n",
            "Test Accuracy of    61: 51% (51/100)\n",
            "Test Accuracy of    62:  0% ( 0/100)\n",
            "Test Accuracy of    63:  0% ( 0/100)\n",
            "Test Accuracy of    64:  0% ( 0/100)\n",
            "Test Accuracy of    65:  0% ( 0/100)\n",
            "Test Accuracy of    66:  0% ( 0/100)\n",
            "Test Accuracy of    67:  0% ( 0/100)\n",
            "Test Accuracy of    68:  0% ( 0/100)\n",
            "Test Accuracy of    69:  0% ( 0/100)\n",
            "Test Accuracy of    70:  0% ( 0/100)\n",
            "Test Accuracy of    71:  0% ( 0/100)\n",
            "Test Accuracy of    72:  0% ( 0/100)\n",
            "Test Accuracy of    73:  0% ( 0/100)\n",
            "Test Accuracy of    74:  0% ( 0/100)\n",
            "Test Accuracy of    75:  0% ( 0/100)\n",
            "Test Accuracy of    76: 85% (85/100)\n",
            "Test Accuracy of    77:  0% ( 0/100)\n",
            "Test Accuracy of    78:  0% ( 0/100)\n",
            "Test Accuracy of    79: 52% (52/100)\n",
            "Test Accuracy of    80:  0% ( 0/100)\n",
            "Test Accuracy of    81:  0% ( 0/100)\n",
            "Test Accuracy of    82:  0% ( 0/100)\n",
            "Test Accuracy of    83: 51% (51/100)\n",
            "Test Accuracy of    84:  0% ( 0/100)\n",
            "Test Accuracy of    85:  0% ( 0/100)\n",
            "Test Accuracy of    86:  0% ( 0/100)\n",
            "Test Accuracy of    87:  0% ( 0/100)\n",
            "Test Accuracy of    88:  0% ( 0/100)\n",
            "Test Accuracy of    89:  0% ( 0/100)\n",
            "Test Accuracy of    90:  0% ( 0/100)\n",
            "Test Accuracy of    91:  0% ( 0/100)\n",
            "Test Accuracy of    92: 57% (57/100)\n",
            "Test Accuracy of    93:  0% ( 0/100)\n",
            "Test Accuracy of    94:  0% ( 0/100)\n",
            "Test Accuracy of    95:  0% ( 0/100)\n",
            "Test Accuracy of    96:  0% ( 0/100)\n",
            "Test Accuracy of    97:  0% ( 0/100)\n",
            "Test Accuracy of    98:  0% ( 0/100)\n",
            "Test Accuracy of    99: 58% (58/100)\n",
            "\n",
            "Final Test  Accuracy: 12% (1209/10000)\n"
          ],
          "name": "stdout"
        }
      ]
    },
    {
      "cell_type": "markdown",
      "metadata": {
        "id": "JYA5p1Iet3FN",
        "colab_type": "text"
      },
      "source": [
        "#### CIFAR 100 | RESNET18 | PYTORCH LOADER"
      ]
    },
    {
      "cell_type": "code",
      "metadata": {
        "id": "RqVesuBvt32f",
        "colab_type": "code",
        "outputId": "5405be6c-f679-40ca-dba9-8b62878d44f2",
        "colab": {
          "base_uri": "https://localhost:8080/",
          "height": 1000
        }
      },
      "source": [
        "num_classes = 100\n",
        "model = models.resnet18()\n",
        "model.fc = nn.Linear(512, 100)\n",
        "model.load_state_dict(torch.load('./drive/My Drive/resnet18_100.pt'))\n",
        "model.cuda()\n",
        "\n",
        "criterion = nn.CrossEntropyLoss()\n",
        "optimizer = torch.optim.Adam(model.parameters())\n",
        "\n",
        "test_model(model, num_classes, loaders100)"
      ],
      "execution_count": 0,
      "outputs": [
        {
          "output_type": "stream",
          "text": [
            "Test Loss: 1.932224\n",
            "\n",
            "Test Accuracy of     0: 80% (80/100)\n",
            "Test Accuracy of     1: 68% (68/100)\n",
            "Test Accuracy of     2: 27% (27/100)\n",
            "Test Accuracy of     3: 23% (23/100)\n",
            "Test Accuracy of     4: 25% (25/100)\n",
            "Test Accuracy of     5: 44% (44/100)\n",
            "Test Accuracy of     6: 59% (59/100)\n",
            "Test Accuracy of     7: 53% (53/100)\n",
            "Test Accuracy of     8: 58% (58/100)\n",
            "Test Accuracy of     9: 65% (65/100)\n",
            "Test Accuracy of    10: 23% (23/100)\n",
            "Test Accuracy of    11: 23% (23/100)\n",
            "Test Accuracy of    12: 53% (53/100)\n",
            "Test Accuracy of    13: 49% (49/100)\n",
            "Test Accuracy of    14: 54% (54/100)\n",
            "Test Accuracy of    15: 54% (54/100)\n",
            "Test Accuracy of    16: 55% (55/100)\n",
            "Test Accuracy of    17: 68% (68/100)\n",
            "Test Accuracy of    18: 56% (56/100)\n",
            "Test Accuracy of    19: 40% (40/100)\n",
            "Test Accuracy of    20: 67% (67/100)\n",
            "Test Accuracy of    21: 72% (72/100)\n",
            "Test Accuracy of    22: 39% (39/100)\n",
            "Test Accuracy of    23: 76% (76/100)\n",
            "Test Accuracy of    24: 76% (76/100)\n",
            "Test Accuracy of    25: 37% (37/100)\n",
            "Test Accuracy of    26: 33% (33/100)\n",
            "Test Accuracy of    27: 33% (33/100)\n",
            "Test Accuracy of    28: 69% (69/100)\n",
            "Test Accuracy of    29: 35% (35/100)\n",
            "Test Accuracy of    30: 51% (51/100)\n",
            "Test Accuracy of    31: 58% (58/100)\n",
            "Test Accuracy of    32: 44% (44/100)\n",
            "Test Accuracy of    33: 52% (52/100)\n",
            "Test Accuracy of    34: 47% (47/100)\n",
            "Test Accuracy of    35: 41% (41/100)\n",
            "Test Accuracy of    36: 41% (41/100)\n",
            "Test Accuracy of    37: 43% (43/100)\n",
            "Test Accuracy of    38: 44% (44/100)\n",
            "Test Accuracy of    39: 62% (62/100)\n",
            "Test Accuracy of    40: 43% (43/100)\n",
            "Test Accuracy of    41: 65% (65/100)\n",
            "Test Accuracy of    42: 37% (37/100)\n",
            "Test Accuracy of    43: 55% (55/100)\n",
            "Test Accuracy of    44: 25% (25/100)\n",
            "Test Accuracy of    45: 35% (35/100)\n",
            "Test Accuracy of    46: 40% (40/100)\n",
            "Test Accuracy of    47: 47% (47/100)\n",
            "Test Accuracy of    48: 71% (71/100)\n",
            "Test Accuracy of    49: 67% (67/100)\n",
            "Test Accuracy of    50: 20% (20/100)\n",
            "Test Accuracy of    51: 63% (63/100)\n",
            "Test Accuracy of    52: 57% (57/100)\n",
            "Test Accuracy of    53: 68% (68/100)\n",
            "Test Accuracy of    54: 67% (67/100)\n",
            "Test Accuracy of    55: 17% (17/100)\n",
            "Test Accuracy of    56: 82% (82/100)\n",
            "Test Accuracy of    57: 54% (54/100)\n",
            "Test Accuracy of    58: 63% (63/100)\n",
            "Test Accuracy of    59: 48% (48/100)\n",
            "Test Accuracy of    60: 80% (80/100)\n",
            "Test Accuracy of    61: 53% (53/100)\n",
            "Test Accuracy of    62: 41% (41/100)\n",
            "Test Accuracy of    63: 39% (39/100)\n",
            "Test Accuracy of    64: 32% (32/100)\n",
            "Test Accuracy of    65: 19% (19/100)\n",
            "Test Accuracy of    66: 55% (55/100)\n",
            "Test Accuracy of    67: 46% (46/100)\n",
            "Test Accuracy of    68: 86% (86/100)\n",
            "Test Accuracy of    69: 62% (62/100)\n",
            "Test Accuracy of    70: 24% (24/100)\n",
            "Test Accuracy of    71: 52% (52/100)\n",
            "Test Accuracy of    72: 35% (35/100)\n",
            "Test Accuracy of    73: 26% (26/100)\n",
            "Test Accuracy of    74: 40% (40/100)\n",
            "Test Accuracy of    75: 80% (80/100)\n",
            "Test Accuracy of    76: 77% (77/100)\n",
            "Test Accuracy of    77: 36% (36/100)\n",
            "Test Accuracy of    78: 31% (31/100)\n",
            "Test Accuracy of    79: 51% (51/100)\n",
            "Test Accuracy of    80: 33% (33/100)\n",
            "Test Accuracy of    81: 48% (48/100)\n",
            "Test Accuracy of    82: 76% (76/100)\n",
            "Test Accuracy of    83: 41% (41/100)\n",
            "Test Accuracy of    84: 41% (41/100)\n",
            "Test Accuracy of    85: 68% (68/100)\n",
            "Test Accuracy of    86: 52% (52/100)\n",
            "Test Accuracy of    87: 58% (58/100)\n",
            "Test Accuracy of    88: 40% (40/100)\n",
            "Test Accuracy of    89: 54% (54/100)\n",
            "Test Accuracy of    90: 50% (50/100)\n",
            "Test Accuracy of    91: 58% (58/100)\n",
            "Test Accuracy of    92: 61% (61/100)\n",
            "Test Accuracy of    93: 30% (30/100)\n",
            "Test Accuracy of    94: 81% (81/100)\n",
            "Test Accuracy of    95: 58% (58/100)\n",
            "Test Accuracy of    96: 43% (43/100)\n",
            "Test Accuracy of    97: 44% (44/100)\n",
            "Test Accuracy of    98: 19% (19/100)\n",
            "Test Accuracy of    99: 61% (61/100)\n",
            "\n",
            "Final Test  Accuracy: 50% (5002/10000)\n"
          ],
          "name": "stdout"
        }
      ]
    },
    {
      "cell_type": "markdown",
      "metadata": {
        "colab_type": "text",
        "id": "2U08A93Keum5"
      },
      "source": [
        "#### CIFAR 100 | WIDE RESNET | PYTORCH LOADER"
      ]
    },
    {
      "cell_type": "code",
      "metadata": {
        "colab_type": "code",
        "outputId": "452e96b2-a6b3-42b3-dfe2-23ec4ab0c4d5",
        "id": "dMtbFSVleum8",
        "colab": {
          "base_uri": "https://localhost:8080/",
          "height": 1000
        }
      },
      "source": [
        "num_classes = 100\n",
        "model = models.wide_resnet50_2()\n",
        "model.fc = nn.Linear(2048, 100)\n",
        "model.load_state_dict(torch.load('./resnet_100.pt'))\n",
        "model.cuda()\n",
        "\n",
        "criterion = nn.CrossEntropyLoss()\n",
        "optimizer = torch.optim.Adam(model.parameters())\n",
        "\n",
        "test_model(model, num_classes, loaders100)"
      ],
      "execution_count": 0,
      "outputs": [
        {
          "output_type": "stream",
          "text": [
            "Test Loss: 2.688194\n",
            "\n",
            "Test Accuracy of     0: 60% (60/100)\n",
            "Test Accuracy of     1: 35% (35/100)\n",
            "Test Accuracy of     2: 29% (29/100)\n",
            "Test Accuracy of     3: 14% (14/100)\n",
            "Test Accuracy of     4: 17% (17/100)\n",
            "Test Accuracy of     5: 27% (27/100)\n",
            "Test Accuracy of     6: 34% (34/100)\n",
            "Test Accuracy of     7: 43% (43/100)\n",
            "Test Accuracy of     8: 45% (45/100)\n",
            "Test Accuracy of     9: 49% (49/100)\n",
            "Test Accuracy of    10: 12% (12/100)\n",
            "Test Accuracy of    11: 15% (15/100)\n",
            "Test Accuracy of    12: 35% (35/100)\n",
            "Test Accuracy of    13: 22% (22/100)\n",
            "Test Accuracy of    14: 22% (22/100)\n",
            "Test Accuracy of    15: 26% (26/100)\n",
            "Test Accuracy of    16: 24% (24/100)\n",
            "Test Accuracy of    17: 65% (65/100)\n",
            "Test Accuracy of    18: 37% (37/100)\n",
            "Test Accuracy of    19: 32% (32/100)\n",
            "Test Accuracy of    20: 68% (68/100)\n",
            "Test Accuracy of    21: 62% (62/100)\n",
            "Test Accuracy of    22: 24% (24/100)\n",
            "Test Accuracy of    23: 62% (62/100)\n",
            "Test Accuracy of    24: 64% (64/100)\n",
            "Test Accuracy of    25: 24% (24/100)\n",
            "Test Accuracy of    26: 20% (20/100)\n",
            "Test Accuracy of    27: 20% (20/100)\n",
            "Test Accuracy of    28: 44% (44/100)\n",
            "Test Accuracy of    29: 33% (33/100)\n",
            "Test Accuracy of    30: 41% (41/100)\n",
            "Test Accuracy of    31: 30% (30/100)\n",
            "Test Accuracy of    32: 18% (18/100)\n",
            "Test Accuracy of    33: 37% (37/100)\n",
            "Test Accuracy of    34: 26% (26/100)\n",
            "Test Accuracy of    35: 28% (28/100)\n",
            "Test Accuracy of    36: 35% (35/100)\n",
            "Test Accuracy of    37: 16% (16/100)\n",
            "Test Accuracy of    38: 29% (29/100)\n",
            "Test Accuracy of    39: 48% (48/100)\n",
            "Test Accuracy of    40: 34% (34/100)\n",
            "Test Accuracy of    41: 62% (62/100)\n",
            "Test Accuracy of    42: 36% (36/100)\n",
            "Test Accuracy of    43: 46% (46/100)\n",
            "Test Accuracy of    44: 25% (25/100)\n",
            "Test Accuracy of    45:  9% ( 9/100)\n",
            "Test Accuracy of    46: 24% (24/100)\n",
            "Test Accuracy of    47: 39% (39/100)\n",
            "Test Accuracy of    48: 71% (71/100)\n",
            "Test Accuracy of    49: 46% (46/100)\n",
            "Test Accuracy of    50: 15% (15/100)\n",
            "Test Accuracy of    51: 28% (28/100)\n",
            "Test Accuracy of    52: 59% (59/100)\n",
            "Test Accuracy of    53: 64% (64/100)\n",
            "Test Accuracy of    54: 52% (52/100)\n",
            "Test Accuracy of    55:  2% ( 2/100)\n",
            "Test Accuracy of    56: 63% (63/100)\n",
            "Test Accuracy of    57: 35% (35/100)\n",
            "Test Accuracy of    58: 28% (28/100)\n",
            "Test Accuracy of    59: 38% (38/100)\n",
            "Test Accuracy of    60: 65% (65/100)\n",
            "Test Accuracy of    61: 40% (40/100)\n",
            "Test Accuracy of    62: 42% (42/100)\n",
            "Test Accuracy of    63: 30% (30/100)\n",
            "Test Accuracy of    64: 11% (11/100)\n",
            "Test Accuracy of    65: 15% (15/100)\n",
            "Test Accuracy of    66: 20% (20/100)\n",
            "Test Accuracy of    67: 32% (32/100)\n",
            "Test Accuracy of    68: 77% (77/100)\n",
            "Test Accuracy of    69: 60% (60/100)\n",
            "Test Accuracy of    70: 21% (21/100)\n",
            "Test Accuracy of    71: 69% (69/100)\n",
            "Test Accuracy of    72: 13% (13/100)\n",
            "Test Accuracy of    73: 35% (35/100)\n",
            "Test Accuracy of    74: 19% (19/100)\n",
            "Test Accuracy of    75: 71% (71/100)\n",
            "Test Accuracy of    76: 63% (63/100)\n",
            "Test Accuracy of    77: 17% (17/100)\n",
            "Test Accuracy of    78: 17% (17/100)\n",
            "Test Accuracy of    79: 38% (38/100)\n",
            "Test Accuracy of    80: 14% (14/100)\n",
            "Test Accuracy of    81: 33% (33/100)\n",
            "Test Accuracy of    82: 64% (64/100)\n",
            "Test Accuracy of    83: 32% (32/100)\n",
            "Test Accuracy of    84: 29% (29/100)\n",
            "Test Accuracy of    85: 46% (46/100)\n",
            "Test Accuracy of    86: 44% (44/100)\n",
            "Test Accuracy of    87: 31% (31/100)\n",
            "Test Accuracy of    88: 31% (31/100)\n",
            "Test Accuracy of    89: 55% (55/100)\n",
            "Test Accuracy of    90: 15% (15/100)\n",
            "Test Accuracy of    91: 46% (46/100)\n",
            "Test Accuracy of    92: 13% (13/100)\n",
            "Test Accuracy of    93: 20% (20/100)\n",
            "Test Accuracy of    94: 73% (73/100)\n",
            "Test Accuracy of    95: 45% (45/100)\n",
            "Test Accuracy of    96: 32% (32/100)\n",
            "Test Accuracy of    97: 50% (50/100)\n",
            "Test Accuracy of    98:  7% ( 7/100)\n",
            "Test Accuracy of    99: 22% (22/100)\n",
            "\n",
            "Final Test  Accuracy: 36% (3605/10000)\n"
          ],
          "name": "stdout"
        }
      ]
    },
    {
      "cell_type": "markdown",
      "metadata": {
        "id": "L-cSeegqROsp",
        "colab_type": "text"
      },
      "source": [
        "## Transfer Learning"
      ]
    },
    {
      "cell_type": "markdown",
      "metadata": {
        "id": "V8q1e0viorcO",
        "colab_type": "text"
      },
      "source": [
        "## Transfer Learning on Net\n",
        "\n",
        "* Load Net Pretrained on <font color=\"red\">subset</font> and transfer to <font color=\"red\">cifar100</font>\n",
        "\n",
        "<font color=\"yellow\"> Here we are not removing the subset images from the original dataset </font>\n",
        "\n",
        "\n",
        "Intuition: <font color=\"orange\"> Should do bad! </font>"
      ]
    },
    {
      "cell_type": "code",
      "metadata": {
        "id": "A1iBEzfpRRAi",
        "colab_type": "code",
        "outputId": "48bfb34c-9253-4f45-f479-ec8846c4860d",
        "colab": {
          "base_uri": "https://localhost:8080/",
          "height": 153
        }
      },
      "source": [
        "# load model\n",
        "pretrained_net = Net(num_classes=100)\n",
        "pretrained_net.load_state_dict(torch.load('./drive/My Drive/cifar_subset_20.pt'))\n",
        "pretrained_net.cuda()"
      ],
      "execution_count": 0,
      "outputs": [
        {
          "output_type": "execute_result",
          "data": {
            "text/plain": [
              "Net(\n",
              "  (conv1): Conv2d(3, 6, kernel_size=(5, 5), stride=(1, 1))\n",
              "  (pool): MaxPool2d(kernel_size=2, stride=2, padding=0, dilation=1, ceil_mode=False)\n",
              "  (conv2): Conv2d(6, 16, kernel_size=(5, 5), stride=(1, 1))\n",
              "  (fc1): Linear(in_features=400, out_features=120, bias=True)\n",
              "  (fc2): Linear(in_features=120, out_features=84, bias=True)\n",
              "  (fc3): Linear(in_features=84, out_features=100, bias=True)\n",
              ")"
            ]
          },
          "metadata": {
            "tags": []
          },
          "execution_count": 26
        }
      ]
    },
    {
      "cell_type": "code",
      "metadata": {
        "id": "fwJVYh5_TXw9",
        "colab_type": "code",
        "outputId": "8b2c2df0-a027-4cc2-c896-b435a972dc6d",
        "colab": {
          "base_uri": "https://localhost:8080/",
          "height": 1000
        }
      },
      "source": [
        "num_epochs = 100\n",
        "# Load the Criterion\n",
        "criterion = nn.CrossEntropyLoss()\n",
        "optimizer = torch.optim.Adam(pretrained_net.parameters())\n",
        "# Train the Model and Save the Weights\n",
        "save_path =  \"./drive/My Drive/net_transfer_subset_cifar100.pt\"\n",
        "training_loop(num_epochs, loaders100, pretrained_net,\n",
        "                  optimizer, criterion, save_path) "
      ],
      "execution_count": 0,
      "outputs": [
        {
          "output_type": "stream",
          "text": [
            "+-----------+---------------------------------+---------------------------------+-------------------+---------------------+----------------+-------------------+---------------------+--------------------------+-------------+\n",
            "| Epoch No. |          Training Loss          |         Validation Loss         | Training Accuracy | Validation Accuracy | Epoch Duration | Training Duration | Validation Duration | Validation loss decrease | Model Saved |\n",
            "+-----------+---------------------------------+---------------------------------+-------------------+---------------------+----------------+-------------------+---------------------+--------------------------+-------------+\n",
            "|     1     | tensor(4.0916, device='cuda:0') | tensor(3.4668, device='cuda:0') |      0.09976      |        0.1657       |    00:00:17    |      00:00:16     |       00:00:01      |     inf --> 3.466781     |     True    |\n",
            "|     2     | tensor(3.4340, device='cuda:0') | tensor(3.2723, device='cuda:0') |      0.17564      |        0.206        |    00:00:17    |      00:00:16     |       00:00:01      |  3.466781 --> 3.272330   |     True    |\n",
            "|     3     | tensor(3.3023, device='cuda:0') | tensor(3.1800, device='cuda:0') |      0.19878      |        0.2263       |    00:00:17    |      00:00:16     |       00:00:01      |  3.272330 --> 3.179979   |     True    |\n",
            "|     4     | tensor(3.2338, device='cuda:0') | tensor(3.0914, device='cuda:0') |      0.20946      |        0.2396       |    00:00:17    |      00:00:16     |       00:00:01      |  3.179979 --> 3.091368   |     True    |\n",
            "|     5     | tensor(3.1827, device='cuda:0') | tensor(3.0954, device='cuda:0') |      0.22082      |        0.2375       |    00:00:17    |      00:00:16     |       00:00:01      |            -             |    False    |\n",
            "|     6     | tensor(3.1429, device='cuda:0') | tensor(3.0586, device='cuda:0') |      0.22732      |        0.2441       |    00:00:17    |      00:00:16     |       00:00:01      |  3.091368 --> 3.058562   |     True    |\n",
            "|     7     | tensor(3.1102, device='cuda:0') | tensor(2.9928, device='cuda:0') |      0.23522      |        0.2534       |    00:00:17    |      00:00:16     |       00:00:01      |  3.058562 --> 2.992844   |     True    |\n",
            "|     8     | tensor(3.0774, device='cuda:0') | tensor(2.9857, device='cuda:0') |       0.2422      |        0.2626       |    00:00:17    |      00:00:16     |       00:00:01      |  2.992844 --> 2.985740   |     True    |\n",
            "|     9     | tensor(3.0651, device='cuda:0') | tensor(2.9820, device='cuda:0') |      0.24474      |        0.2576       |    00:00:17    |      00:00:16     |       00:00:01      |  2.985740 --> 2.981982   |     True    |\n",
            "|     10    | tensor(3.0421, device='cuda:0') | tensor(2.9508, device='cuda:0') |      0.24792      |        0.2677       |    00:00:17    |      00:00:15     |       00:00:01      |  2.981982 --> 2.950794   |     True    |\n",
            "|     11    | tensor(3.0271, device='cuda:0') | tensor(2.9208, device='cuda:0') |      0.25194      |        0.2766       |    00:00:17    |      00:00:16     |       00:00:01      |  2.950794 --> 2.920760   |     True    |\n",
            "|     12    | tensor(3.0061, device='cuda:0') | tensor(2.9115, device='cuda:0') |      0.25502      |        0.2778       |    00:00:18    |      00:00:16     |       00:00:01      |  2.920760 --> 2.911475   |     True    |\n",
            "|     13    | tensor(2.9983, device='cuda:0') | tensor(2.9182, device='cuda:0') |      0.25918      |        0.2746       |    00:00:18    |      00:00:16     |       00:00:01      |            -             |    False    |\n",
            "|     14    | tensor(2.9813, device='cuda:0') | tensor(2.9464, device='cuda:0') |       0.2606      |        0.2768       |    00:00:19    |      00:00:17     |       00:00:01      |            -             |    False    |\n",
            "|     15    | tensor(2.9733, device='cuda:0') | tensor(2.8879, device='cuda:0') |      0.26354      |        0.285        |    00:00:18    |      00:00:17     |       00:00:01      |  2.911475 --> 2.887884   |     True    |\n",
            "|     16    | tensor(2.9617, device='cuda:0') | tensor(2.8881, device='cuda:0') |      0.26326      |        0.2826       |    00:00:18    |      00:00:16     |       00:00:01      |            -             |    False    |\n",
            "|     17    | tensor(2.9527, device='cuda:0') | tensor(2.8394, device='cuda:0') |      0.26636      |        0.2925       |    00:00:18    |      00:00:16     |       00:00:01      |  2.887884 --> 2.839394   |     True    |\n",
            "|     18    | tensor(2.9370, device='cuda:0') | tensor(2.8379, device='cuda:0') |      0.26978      |        0.2909       |    00:00:18    |      00:00:16     |       00:00:01      |  2.839394 --> 2.837868   |     True    |\n",
            "|     19    | tensor(2.9363, device='cuda:0') | tensor(2.8314, device='cuda:0') |       0.2689      |        0.2975       |    00:00:18    |      00:00:16     |       00:00:01      |  2.837868 --> 2.831432   |     True    |\n",
            "|     20    | tensor(2.9285, device='cuda:0') | tensor(2.8189, device='cuda:0') |      0.27064      |        0.2982       |    00:00:18    |      00:00:16     |       00:00:01      |  2.831432 --> 2.818860   |     True    |\n",
            "|     21    | tensor(2.9236, device='cuda:0') | tensor(2.8546, device='cuda:0') |      0.27234      |        0.2911       |    00:00:17    |      00:00:16     |       00:00:01      |            -             |    False    |\n",
            "|     22    | tensor(2.9221, device='cuda:0') | tensor(2.8069, device='cuda:0') |      0.27466      |        0.3013       |    00:00:17    |      00:00:16     |       00:00:01      |  2.818860 --> 2.806854   |     True    |\n",
            "|     23    | tensor(2.9111, device='cuda:0') | tensor(2.7941, device='cuda:0') |      0.27542      |        0.3031       |    00:00:17    |      00:00:16     |       00:00:01      |  2.806854 --> 2.794103   |     True    |\n",
            "|     24    | tensor(2.9005, device='cuda:0') | tensor(2.7914, device='cuda:0') |      0.27742      |        0.3063       |    00:00:17    |      00:00:16     |       00:00:01      |  2.794103 --> 2.791360   |     True    |\n",
            "|     25    | tensor(2.8976, device='cuda:0') | tensor(2.8738, device='cuda:0') |      0.27998      |        0.2914       |    00:00:18    |      00:00:16     |       00:00:01      |            -             |    False    |\n",
            "|     26    | tensor(2.8932, device='cuda:0') | tensor(2.8074, device='cuda:0') |      0.27766      |        0.3028       |    00:00:17    |      00:00:15     |       00:00:01      |            -             |    False    |\n",
            "|     27    | tensor(2.8917, device='cuda:0') | tensor(2.8329, device='cuda:0') |      0.27908      |        0.2952       |    00:00:17    |      00:00:16     |       00:00:01      |            -             |    False    |\n",
            "|     28    | tensor(2.8836, device='cuda:0') | tensor(2.8455, device='cuda:0') |      0.28246      |        0.2955       |    00:00:17    |      00:00:16     |       00:00:01      |            -             |    False    |\n",
            "|     29    | tensor(2.8749, device='cuda:0') | tensor(2.7882, device='cuda:0') |      0.28264      |        0.3056       |    00:00:17    |      00:00:16     |       00:00:01      |  2.791360 --> 2.788160   |     True    |\n",
            "|     30    | tensor(2.8712, device='cuda:0') | tensor(2.7935, device='cuda:0') |      0.28062      |        0.3016       |    00:00:17    |      00:00:16     |       00:00:01      |            -             |    False    |\n",
            "|     31    | tensor(2.8689, device='cuda:0') | tensor(2.7873, device='cuda:0') |      0.28274      |        0.3059       |    00:00:17    |      00:00:16     |       00:00:01      |  2.788160 --> 2.787266   |     True    |\n",
            "|     32    | tensor(2.8754, device='cuda:0') | tensor(2.7827, device='cuda:0') |      0.28218      |        0.302        |    00:00:17    |      00:00:16     |       00:00:01      |  2.787266 --> 2.782740   |     True    |\n",
            "|     33    | tensor(2.8553, device='cuda:0') | tensor(2.7893, device='cuda:0') |      0.28682      |        0.3037       |    00:00:18    |      00:00:16     |       00:00:01      |            -             |    False    |\n",
            "|     34    | tensor(2.8521, device='cuda:0') | tensor(2.7575, device='cuda:0') |      0.28774      |        0.3113       |    00:00:18    |      00:00:16     |       00:00:01      |  2.782740 --> 2.757469   |     True    |\n",
            "|     35    | tensor(2.8524, device='cuda:0') | tensor(2.7774, device='cuda:0') |      0.28632      |        0.3052       |    00:00:18    |      00:00:16     |       00:00:01      |            -             |    False    |\n",
            "|     36    | tensor(2.8483, device='cuda:0') | tensor(2.7278, device='cuda:0') |      0.28724      |        0.3135       |    00:00:17    |      00:00:15     |       00:00:01      |  2.757469 --> 2.727798   |     True    |\n",
            "|     37    | tensor(2.8508, device='cuda:0') | tensor(2.8243, device='cuda:0') |      0.28656      |        0.2999       |    00:00:17    |      00:00:16     |       00:00:01      |            -             |    False    |\n",
            "|     38    | tensor(2.8410, device='cuda:0') | tensor(2.7501, device='cuda:0') |      0.28724      |        0.3171       |    00:00:17    |      00:00:16     |       00:00:01      |            -             |    False    |\n",
            "|     39    | tensor(2.8413, device='cuda:0') | tensor(2.7641, device='cuda:0') |      0.28618      |        0.3069       |    00:00:17    |      00:00:16     |       00:00:01      |            -             |    False    |\n",
            "|     40    | tensor(2.8397, device='cuda:0') | tensor(2.7547, device='cuda:0') |      0.28736      |        0.3098       |    00:00:17    |      00:00:16     |       00:00:01      |            -             |    False    |\n",
            "|     41    | tensor(2.8447, device='cuda:0') | tensor(2.7645, device='cuda:0') |      0.28834      |        0.3072       |    00:00:17    |      00:00:15     |       00:00:01      |            -             |    False    |\n",
            "|     42    | tensor(2.8438, device='cuda:0') | tensor(2.7468, device='cuda:0') |      0.28956      |        0.3171       |    00:00:18    |      00:00:16     |       00:00:01      |            -             |    False    |\n",
            "|     43    | tensor(2.8360, device='cuda:0') | tensor(2.7451, device='cuda:0') |      0.29112      |        0.3171       |    00:00:17    |      00:00:16     |       00:00:01      |            -             |    False    |\n",
            "|     44    | tensor(2.8348, device='cuda:0') | tensor(2.7715, device='cuda:0') |      0.28892      |        0.3109       |    00:00:17    |      00:00:16     |       00:00:01      |            -             |    False    |\n",
            "|     45    | tensor(2.8334, device='cuda:0') | tensor(2.7551, device='cuda:0') |      0.28904      |        0.315        |    00:00:17    |      00:00:16     |       00:00:01      |            -             |    False    |\n",
            "|     46    | tensor(2.8247, device='cuda:0') | tensor(2.7574, device='cuda:0') |      0.29276      |        0.305        |    00:00:17    |      00:00:16     |       00:00:01      |            -             |    False    |\n",
            "|     47    | tensor(2.8134, device='cuda:0') | tensor(2.7124, device='cuda:0') |      0.29444      |        0.3119       |    00:00:18    |      00:00:16     |       00:00:01      |  2.727798 --> 2.712387   |     True    |\n",
            "|     48    | tensor(2.8187, device='cuda:0') | tensor(2.7930, device='cuda:0') |      0.29216      |        0.3018       |    00:00:17    |      00:00:16     |       00:00:01      |            -             |    False    |\n",
            "|     49    | tensor(2.8180, device='cuda:0') | tensor(2.7577, device='cuda:0') |      0.29272      |        0.3074       |    00:00:18    |      00:00:16     |       00:00:01      |            -             |    False    |\n",
            "|     50    | tensor(2.8180, device='cuda:0') | tensor(2.7367, device='cuda:0') |      0.29296      |        0.3142       |    00:00:17    |      00:00:16     |       00:00:01      |            -             |    False    |\n",
            "|     51    | tensor(2.8147, device='cuda:0') | tensor(2.7284, device='cuda:0') |       0.2918      |        0.3183       |    00:00:17    |      00:00:16     |       00:00:01      |            -             |    False    |\n",
            "|     52    | tensor(2.8230, device='cuda:0') | tensor(2.7480, device='cuda:0') |      0.29076      |        0.3124       |    00:00:17    |      00:00:16     |       00:00:01      |            -             |    False    |\n",
            "|     53    | tensor(2.8131, device='cuda:0') | tensor(2.7223, device='cuda:0') |      0.28988      |        0.3191       |    00:00:17    |      00:00:16     |       00:00:01      |            -             |    False    |\n",
            "|     54    | tensor(2.8139, device='cuda:0') | tensor(2.7338, device='cuda:0') |      0.29346      |        0.3168       |    00:00:17    |      00:00:16     |       00:00:01      |            -             |    False    |\n",
            "|     55    | tensor(2.8044, device='cuda:0') | tensor(2.7059, device='cuda:0') |       0.2958      |        0.3256       |    00:00:17    |      00:00:16     |       00:00:01      |  2.712387 --> 2.705910   |     True    |\n",
            "|     56    | tensor(2.7983, device='cuda:0') | tensor(2.7170, device='cuda:0') |      0.29664      |        0.3155       |    00:00:17    |      00:00:16     |       00:00:01      |            -             |    False    |\n",
            "|     57    | tensor(2.8116, device='cuda:0') | tensor(2.7212, device='cuda:0') |      0.29192      |        0.3137       |    00:00:17    |      00:00:16     |       00:00:01      |            -             |    False    |\n",
            "|     58    | tensor(2.7972, device='cuda:0') | tensor(2.7265, device='cuda:0') |      0.29502      |        0.3193       |    00:00:17    |      00:00:16     |       00:00:01      |            -             |    False    |\n",
            "|     59    | tensor(2.7991, device='cuda:0') | tensor(2.6891, device='cuda:0') |       0.2939      |        0.324        |    00:00:17    |      00:00:16     |       00:00:01      |  2.705910 --> 2.689082   |     True    |\n",
            "|     60    | tensor(2.7978, device='cuda:0') | tensor(2.6823, device='cuda:0') |       0.2977      |        0.3245       |    00:00:17    |      00:00:16     |       00:00:01      |  2.689082 --> 2.682272   |     True    |\n",
            "|     61    | tensor(2.7980, device='cuda:0') | tensor(2.7946, device='cuda:0') |      0.29754      |        0.3088       |    00:00:17    |      00:00:16     |       00:00:01      |            -             |    False    |\n",
            "|     62    | tensor(2.7977, device='cuda:0') | tensor(2.6961, device='cuda:0') |       0.2966      |        0.3208       |    00:00:17    |      00:00:16     |       00:00:01      |            -             |    False    |\n",
            "|     63    | tensor(2.7919, device='cuda:0') | tensor(2.6791, device='cuda:0') |      0.29738      |        0.3263       |    00:00:17    |      00:00:15     |       00:00:01      |  2.682272 --> 2.679114   |     True    |\n",
            "|     64    | tensor(2.7886, device='cuda:0') | tensor(2.7137, device='cuda:0') |      0.29844      |        0.3157       |    00:00:17    |      00:00:16     |       00:00:01      |            -             |    False    |\n",
            "|     65    | tensor(2.7846, device='cuda:0') | tensor(2.6860, device='cuda:0') |      0.29736      |        0.3267       |    00:00:17    |      00:00:16     |       00:00:01      |            -             |    False    |\n",
            "|     66    | tensor(2.7863, device='cuda:0') | tensor(2.6807, device='cuda:0') |      0.29856      |        0.3239       |    00:00:18    |      00:00:16     |       00:00:01      |            -             |    False    |\n",
            "|     67    | tensor(2.7970, device='cuda:0') | tensor(2.7500, device='cuda:0') |      0.29668      |        0.3131       |    00:00:17    |      00:00:16     |       00:00:01      |            -             |    False    |\n",
            "|     68    | tensor(2.7844, device='cuda:0') | tensor(2.7132, device='cuda:0') |      0.29988      |        0.3149       |    00:00:17    |      00:00:16     |       00:00:01      |            -             |    False    |\n",
            "|     69    | tensor(2.7852, device='cuda:0') | tensor(2.6824, device='cuda:0') |      0.29772      |        0.3267       |    00:00:17    |      00:00:16     |       00:00:01      |            -             |    False    |\n",
            "|     70    | tensor(2.7748, device='cuda:0') | tensor(2.7201, device='cuda:0') |      0.29856      |        0.3176       |    00:00:18    |      00:00:16     |       00:00:01      |            -             |    False    |\n",
            "|     71    | tensor(2.7768, device='cuda:0') | tensor(2.7078, device='cuda:0') |       0.3005      |        0.3185       |    00:00:17    |      00:00:16     |       00:00:01      |            -             |    False    |\n",
            "|     72    | tensor(2.7863, device='cuda:0') | tensor(2.7422, device='cuda:0') |      0.29862      |        0.3144       |    00:00:17    |      00:00:16     |       00:00:01      |            -             |    False    |\n",
            "|     73    | tensor(2.7826, device='cuda:0') | tensor(2.7110, device='cuda:0') |      0.29904      |        0.3184       |    00:00:18    |      00:00:16     |       00:00:01      |            -             |    False    |\n",
            "|     74    | tensor(2.7794, device='cuda:0') | tensor(2.6581, device='cuda:0') |       0.3001      |        0.3298       |    00:00:18    |      00:00:16     |       00:00:01      |  2.679114 --> 2.658102   |     True    |\n",
            "|     75    | tensor(2.7736, device='cuda:0') | tensor(2.7014, device='cuda:0') |       0.303       |        0.3225       |    00:00:17    |      00:00:16     |       00:00:01      |            -             |    False    |\n",
            "|     76    | tensor(2.7720, device='cuda:0') | tensor(2.7184, device='cuda:0') |      0.30124      |        0.3164       |    00:00:17    |      00:00:16     |       00:00:01      |            -             |    False    |\n",
            "|     77    | tensor(2.7717, device='cuda:0') | tensor(2.6435, device='cuda:0') |       0.3028      |        0.3294       |    00:00:17    |      00:00:16     |       00:00:01      |  2.658102 --> 2.643467   |     True    |\n",
            "|     78    | tensor(2.7719, device='cuda:0') | tensor(2.7188, device='cuda:0') |      0.30396      |        0.3177       |    00:00:17    |      00:00:16     |       00:00:01      |            -             |    False    |\n",
            "|     79    | tensor(2.7761, device='cuda:0') | tensor(2.7398, device='cuda:0') |      0.29996      |        0.3175       |    00:00:18    |      00:00:16     |       00:00:01      |            -             |    False    |\n",
            "|     80    | tensor(2.7713, device='cuda:0') | tensor(2.6702, device='cuda:0') |      0.30212      |        0.3246       |    00:00:17    |      00:00:16     |       00:00:01      |            -             |    False    |\n",
            "|     81    | tensor(2.7773, device='cuda:0') | tensor(2.6924, device='cuda:0') |      0.30198      |        0.3203       |    00:00:17    |      00:00:16     |       00:00:01      |            -             |    False    |\n",
            "|     82    | tensor(2.7665, device='cuda:0') | tensor(2.7423, device='cuda:0') |      0.30076      |        0.3086       |    00:00:17    |      00:00:16     |       00:00:01      |            -             |    False    |\n",
            "|     83    | tensor(2.7683, device='cuda:0') | tensor(2.6820, device='cuda:0') |      0.30116      |        0.3245       |    00:00:18    |      00:00:16     |       00:00:01      |            -             |    False    |\n",
            "|     84    | tensor(2.7681, device='cuda:0') | tensor(2.7340, device='cuda:0') |       0.3046      |        0.3146       |    00:00:18    |      00:00:16     |       00:00:01      |            -             |    False    |\n",
            "|     85    | tensor(2.7694, device='cuda:0') | tensor(2.6730, device='cuda:0') |       0.3022      |        0.3286       |    00:00:18    |      00:00:16     |       00:00:01      |            -             |    False    |\n",
            "|     86    | tensor(2.7676, device='cuda:0') | tensor(2.6707, device='cuda:0') |      0.30404      |        0.3261       |    00:00:17    |      00:00:16     |       00:00:01      |            -             |    False    |\n",
            "|     87    | tensor(2.7606, device='cuda:0') | tensor(2.7109, device='cuda:0') |      0.30168      |         0.32        |    00:00:18    |      00:00:16     |       00:00:01      |            -             |    False    |\n",
            "|     88    | tensor(2.7662, device='cuda:0') | tensor(2.6818, device='cuda:0') |      0.30392      |        0.3196       |    00:00:18    |      00:00:16     |       00:00:01      |            -             |    False    |\n",
            "|     89    | tensor(2.7634, device='cuda:0') | tensor(2.6937, device='cuda:0') |      0.30288      |        0.3251       |    00:00:18    |      00:00:16     |       00:00:01      |            -             |    False    |\n",
            "|     90    | tensor(2.7586, device='cuda:0') | tensor(2.6909, device='cuda:0') |      0.30522      |        0.3184       |    00:00:18    |      00:00:16     |       00:00:01      |            -             |    False    |\n",
            "|     91    | tensor(2.7647, device='cuda:0') | tensor(2.6759, device='cuda:0') |      0.30294      |        0.3226       |    00:00:18    |      00:00:16     |       00:00:01      |            -             |    False    |\n",
            "|     92    | tensor(2.7612, device='cuda:0') | tensor(2.6612, device='cuda:0') |      0.30552      |        0.3207       |    00:00:18    |      00:00:16     |       00:00:01      |            -             |    False    |\n",
            "|     93    | tensor(2.7581, device='cuda:0') | tensor(2.6749, device='cuda:0') |      0.30516      |        0.3233       |    00:00:18    |      00:00:16     |       00:00:01      |            -             |    False    |\n",
            "|     94    | tensor(2.7526, device='cuda:0') | tensor(2.6860, device='cuda:0') |      0.30574      |        0.3217       |    00:00:18    |      00:00:16     |       00:00:01      |            -             |    False    |\n",
            "|     95    | tensor(2.7469, device='cuda:0') | tensor(2.6861, device='cuda:0') |      0.30608      |        0.3245       |    00:00:18    |      00:00:16     |       00:00:01      |            -             |    False    |\n",
            "|     96    | tensor(2.7701, device='cuda:0') | tensor(2.6740, device='cuda:0') |      0.29954      |        0.3238       |    00:00:18    |      00:00:17     |       00:00:01      |            -             |    False    |\n",
            "|     97    | tensor(2.7577, device='cuda:0') | tensor(2.6952, device='cuda:0') |      0.30442      |        0.3195       |    00:00:18    |      00:00:17     |       00:00:01      |            -             |    False    |\n",
            "|     98    | tensor(2.7511, device='cuda:0') | tensor(2.6592, device='cuda:0') |      0.30588      |        0.3249       |    00:00:18    |      00:00:16     |       00:00:01      |            -             |    False    |\n",
            "|     99    | tensor(2.7477, device='cuda:0') | tensor(2.6440, device='cuda:0') |       0.3035      |        0.3266       |    00:00:18    |      00:00:17     |       00:00:01      |            -             |    False    |\n",
            "|    100    | tensor(2.7504, device='cuda:0') | tensor(2.6497, device='cuda:0') |      0.30536      |        0.333        |    00:00:19    |      00:00:17     |       00:00:01      |            -             |    False    |\n",
            "+-----------+---------------------------------+---------------------------------+-------------------+---------------------+----------------+-------------------+---------------------+--------------------------+-------------+\n",
            "Total training duration; 00:30:03\n"
          ],
          "name": "stdout"
        }
      ]
    },
    {
      "cell_type": "markdown",
      "metadata": {
        "id": "s_8x2jugo2OQ",
        "colab_type": "text"
      },
      "source": [
        "* Load Net pretrained on <font color=\"red\">cifar100</font> and transfer to <font color=\"red\">subset</font>\n",
        "\n",
        "<font color=\"yellow\"> Do we want to remove the subset images from the original dataset first ?? </font>\n",
        "\n",
        "\n",
        "Intuition: <font color=\"green\"> Should do well! </font>"
      ]
    },
    {
      "cell_type": "code",
      "metadata": {
        "id": "9TwEU8keoQ-4",
        "colab_type": "code",
        "colab": {}
      },
      "source": [
        "# load model\n",
        "pretrained_net = Net(num_classes=100)\n",
        "pretrained_net.load_state_dict(torch.load('./cifar_100.pt'))\n",
        "pretrained_net.cuda()"
      ],
      "execution_count": 0,
      "outputs": []
    },
    {
      "cell_type": "code",
      "metadata": {
        "id": "cOVXaYXgoRVz",
        "colab_type": "code",
        "colab": {}
      },
      "source": [
        "n_epochs = 100\n",
        "\n",
        "criterion  = nn.CrossEntropyLoss()\n",
        "optimizer = torch.optim.Adam(model.parameters())\n",
        "\n",
        "save_path = './net_transfer_cifar100_subset.pt'\n",
        "\n",
        "new_training_loop(n_epochs, train_loader, model, optimizer, criterion, save_path)"
      ],
      "execution_count": 0,
      "outputs": []
    },
    {
      "cell_type": "markdown",
      "metadata": {
        "id": "Wcw6dh8Jo68x",
        "colab_type": "text"
      },
      "source": [
        "## Transfer on Wide Resnet\n",
        "\n",
        "* Load wide resnet pretrained on <font color=\"red\">subset</font> and transfer to <font color=\"red\">cifar100</font>\n",
        "\n",
        "<font color=\"yellow\"> Not removing subset images from the original dataset </font>\n",
        "\n",
        "Intuition: <font color=\"orange\"> Should do bad! </font>"
      ]
    },
    {
      "cell_type": "code",
      "metadata": {
        "id": "2nWn1rcInnkc",
        "colab_type": "code",
        "colab": {}
      },
      "source": [
        "# load resnet model\n",
        "pretrained_wresnet = models.wide_resnet50_2()\n",
        "pretrained_wresnet.load_state_dict(torch.load('./resnet_subset_20.pt'))\n",
        "resnet_100.fc = nn.Linear(2048, 100)\n",
        "pretrained_wresnet.cuda()"
      ],
      "execution_count": 0,
      "outputs": []
    },
    {
      "cell_type": "code",
      "metadata": {
        "id": "hRPz9jFgoIgn",
        "colab_type": "code",
        "colab": {}
      },
      "source": [
        "num_epochs = 100\n",
        "# Load the Criterion\n",
        "criterion = nn.CrossEntropyLoss()\n",
        "optimizer = torch.optim.Adam(pretrained_wresnet.parameters())\n",
        "# Train the Model and Save the Weights\n",
        "save_path =  \"./resnet_transfer_subset_cifar100.pt\"\n",
        "training_loop(num_epochs, loaders100, pretrained_wresnet,\n",
        "                  optimizer, criterion, save_path) "
      ],
      "execution_count": 0,
      "outputs": []
    },
    {
      "cell_type": "markdown",
      "metadata": {
        "id": "G5dXKHWCpAmi",
        "colab_type": "text"
      },
      "source": [
        "* Load wide resnet pretrained on <font color=\"red\">cifar100</font> and transfer to <font color=\"red\">subset</font>\n",
        "\n",
        "Intuition: <font color=\"green\"> Should do well! </font>"
      ]
    },
    {
      "cell_type": "code",
      "metadata": {
        "id": "UDY3EQJ4pXVi",
        "colab_type": "code",
        "colab": {}
      },
      "source": [
        "# load resnet model\n",
        "pretrained_wresnet = models.wide_resnet50_2()\n",
        "pretrained_wresnet.load_state_dict(torch.load('./resnet_100.pt'))\n",
        "resnet_100.fc = nn.Linear(2048, 100)\n",
        "pretrained_wresnet.cuda()"
      ],
      "execution_count": 0,
      "outputs": []
    },
    {
      "cell_type": "code",
      "metadata": {
        "id": "XRVIKVpopaRn",
        "colab_type": "code",
        "colab": {}
      },
      "source": [
        "num_epochs = 100\n",
        "# Load the Criterion\n",
        "criterion = nn.CrossEntropyLoss()\n",
        "optimizer = torch.optim.Adam(pretrained_wresnet.parameters())\n",
        "# Train the Model and Save the Weights\n",
        "save_path =  \"./resnet_transfer_cifar100_subset.pt\"\n",
        "training_loop(num_epochs, train_loader, pretrained_wresnet,\n",
        "                  optimizer, criterion, save_path) "
      ],
      "execution_count": 0,
      "outputs": []
    },
    {
      "cell_type": "markdown",
      "metadata": {
        "id": "9eUi0XXGQiB6",
        "colab_type": "text"
      },
      "source": [
        "## Transfer on Resnet 18\n"
      ]
    },
    {
      "cell_type": "code",
      "metadata": {
        "id": "Bjm7LRoLQkBT",
        "colab_type": "code",
        "colab": {}
      },
      "source": [
        "pretrained_resnet18 = models.resnet18()\n",
        "pretrained_resnet18.fc = nn.Linear(512, 100)\n",
        "pretrained_resnet18.load_state_dict(torch.load('./drive/My Drive/resnet18_subset_20.pt'))\n",
        "\n",
        "pretrained_resnet18.fc = nn.Linear(512, 100)\n",
        "pretrained_resnet18.cuda()"
      ],
      "execution_count": 0,
      "outputs": []
    },
    {
      "cell_type": "code",
      "metadata": {
        "id": "Ow7USUvFQzp9",
        "colab_type": "code",
        "outputId": "a3744073-29d6-4538-ae2a-32e06447c79d",
        "colab": {
          "base_uri": "https://localhost:8080/",
          "height": 1000
        }
      },
      "source": [
        "num_epochs = 100\n",
        "# Load the Criterion\n",
        "criterion = nn.CrossEntropyLoss()\n",
        "optimizer = torch.optim.Adam(pretrained_resnet18.parameters())\n",
        "# Train the Model and Save the Weights\n",
        "save_path =  \"./drive/My Drive/resnet18_transfer_subset_20.pt\"\n",
        "training_loop(num_epochs, loaders100, pretrained_resnet18,\n",
        "                  optimizer, criterion, save_path) "
      ],
      "execution_count": 0,
      "outputs": [
        {
          "output_type": "stream",
          "text": [
            "+-----------+---------------------------------+---------------------------------+-------------------+---------------------+----------------+-------------------+---------------------+--------------------------+-------------+\n",
            "| Epoch No. |          Training Loss          |         Validation Loss         | Training Accuracy | Validation Accuracy | Epoch Duration | Training Duration | Validation Duration | Validation loss decrease | Model Saved |\n",
            "+-----------+---------------------------------+---------------------------------+-------------------+---------------------+----------------+-------------------+---------------------+--------------------------+-------------+\n",
            "|     1     | tensor(2.9346, device='cuda:0') | tensor(2.5073, device='cuda:0') |       0.2666      |        0.3542       |    00:00:39    |      00:00:36     |       00:00:02      |     inf --> 2.507325     |     True    |\n",
            "|     2     | tensor(2.5156, device='cuda:0') | tensor(2.3523, device='cuda:0') |      0.34914      |        0.394        |    00:00:39    |      00:00:36     |       00:00:02      |  2.507325 --> 2.352256   |     True    |\n",
            "|     3     | tensor(2.3438, device='cuda:0') | tensor(2.2395, device='cuda:0') |      0.38346      |        0.4164       |    00:00:39    |      00:00:36     |       00:00:02      |  2.352256 --> 2.239544   |     True    |\n",
            "|     4     | tensor(2.2224, device='cuda:0') | tensor(2.1957, device='cuda:0') |      0.40718      |        0.4265       |    00:00:38    |      00:00:35     |       00:00:02      |  2.239544 --> 2.195725   |     True    |\n",
            "|     5     | tensor(2.1301, device='cuda:0') | tensor(2.1258, device='cuda:0') |      0.43192      |        0.4469       |    00:00:40    |      00:00:37     |       00:00:03      |  2.195725 --> 2.125823   |     True    |\n",
            "|     6     | tensor(2.0398, device='cuda:0') | tensor(2.1203, device='cuda:0') |      0.45016      |        0.4486       |    00:00:40    |      00:00:37     |       00:00:03      |  2.125823 --> 2.120286   |     True    |\n",
            "|     7     | tensor(1.9748, device='cuda:0') | tensor(2.0633, device='cuda:0') |      0.46286      |        0.4644       |    00:00:40    |      00:00:37     |       00:00:03      |  2.120286 --> 2.063349   |     True    |\n",
            "|     8     | tensor(1.9064, device='cuda:0') | tensor(2.0564, device='cuda:0') |      0.47804      |        0.4688       |    00:00:40    |      00:00:37     |       00:00:03      |  2.063349 --> 2.056365   |     True    |\n",
            "|     9     | tensor(1.8400, device='cuda:0') | tensor(2.0064, device='cuda:0') |      0.49584      |        0.4793       |    00:00:40    |      00:00:37     |       00:00:03      |  2.056365 --> 2.006444   |     True    |\n",
            "|     10    | tensor(1.7893, device='cuda:0') | tensor(1.9990, device='cuda:0') |      0.50644      |        0.487        |    00:00:41    |      00:00:38     |       00:00:03      |  2.006444 --> 1.999046   |     True    |\n",
            "|     11    | tensor(1.7255, device='cuda:0') | tensor(1.9876, device='cuda:0') |      0.51764      |        0.4894       |    00:00:41    |      00:00:37     |       00:00:03      |  1.999046 --> 1.987622   |     True    |\n",
            "|     12    | tensor(1.6771, device='cuda:0') | tensor(2.0189, device='cuda:0') |      0.52854      |        0.4848       |    00:00:40    |      00:00:37     |       00:00:03      |            -             |    False    |\n",
            "|     13    | tensor(1.6265, device='cuda:0') | tensor(2.0052, device='cuda:0') |      0.54284      |        0.4953       |    00:00:40    |      00:00:37     |       00:00:03      |            -             |    False    |\n",
            "|     14    | tensor(1.5826, device='cuda:0') | tensor(2.0282, device='cuda:0') |       0.5528      |        0.499        |    00:00:40    |      00:00:37     |       00:00:03      |            -             |    False    |\n",
            "|     15    | tensor(1.5410, device='cuda:0') | tensor(1.9975, device='cuda:0') |      0.56386      |        0.5067       |    00:00:40    |      00:00:37     |       00:00:03      |            -             |    False    |\n",
            "|     16    | tensor(1.4942, device='cuda:0') | tensor(2.0141, device='cuda:0') |      0.57178      |        0.5017       |    00:00:40    |      00:00:37     |       00:00:03      |            -             |    False    |\n",
            "|     17    | tensor(1.4519, device='cuda:0') | tensor(2.0670, device='cuda:0') |      0.58524      |        0.4951       |    00:00:40    |      00:00:37     |       00:00:03      |            -             |    False    |\n",
            "|     18    | tensor(1.4175, device='cuda:0') | tensor(2.0098, device='cuda:0') |      0.59148      |        0.5067       |    00:00:40    |      00:00:37     |       00:00:03      |            -             |    False    |\n",
            "|     19    | tensor(1.3717, device='cuda:0') | tensor(2.0335, device='cuda:0') |      0.60372      |        0.505        |    00:00:40    |      00:00:37     |       00:00:03      |            -             |    False    |\n",
            "|     20    | tensor(1.3344, device='cuda:0') | tensor(2.0775, device='cuda:0') |       0.6117      |        0.5019       |    00:00:40    |      00:00:36     |       00:00:03      |            -             |    False    |\n",
            "|     21    | tensor(1.3012, device='cuda:0') | tensor(2.0879, device='cuda:0') |      0.62002      |        0.5105       |    00:00:39    |      00:00:36     |       00:00:03      |            -             |    False    |\n",
            "|     22    | tensor(1.2612, device='cuda:0') | tensor(2.0978, device='cuda:0') |      0.63046      |        0.5141       |    00:00:40    |      00:00:37     |       00:00:03      |            -             |    False    |\n",
            "|     23    | tensor(1.2348, device='cuda:0') | tensor(2.0817, device='cuda:0') |       0.6386      |        0.5165       |    00:00:39    |      00:00:36     |       00:00:03      |            -             |    False    |\n",
            "|     24    | tensor(1.1980, device='cuda:0') | tensor(2.1555, device='cuda:0') |      0.64472      |        0.5043       |    00:00:39    |      00:00:36     |       00:00:03      |            -             |    False    |\n",
            "|     25    | tensor(1.1687, device='cuda:0') | tensor(2.1470, device='cuda:0') |      0.65226      |        0.5127       |    00:00:39    |      00:00:36     |       00:00:03      |            -             |    False    |\n",
            "|     26    | tensor(1.1452, device='cuda:0') | tensor(2.1335, device='cuda:0') |      0.65962      |        0.514        |    00:00:39    |      00:00:36     |       00:00:03      |            -             |    False    |\n",
            "|     27    | tensor(1.1046, device='cuda:0') | tensor(2.1856, device='cuda:0') |       0.6686      |        0.5142       |    00:00:39    |      00:00:36     |       00:00:02      |            -             |    False    |\n",
            "|     28    | tensor(1.0707, device='cuda:0') | tensor(2.1870, device='cuda:0') |       0.6799      |        0.5152       |    00:00:39    |      00:00:36     |       00:00:03      |            -             |    False    |\n",
            "|     29    | tensor(1.0476, device='cuda:0') | tensor(2.1893, device='cuda:0') |      0.68382      |        0.513        |    00:00:39    |      00:00:36     |       00:00:03      |            -             |    False    |\n",
            "|     30    | tensor(1.0180, device='cuda:0') | tensor(2.2105, device='cuda:0') |      0.69166      |        0.5147       |    00:00:39    |      00:00:36     |       00:00:03      |            -             |    False    |\n",
            "|     31    | tensor(1.0019, device='cuda:0') | tensor(2.2705, device='cuda:0') |      0.69636      |        0.5183       |    00:00:39    |      00:00:36     |       00:00:03      |            -             |    False    |\n",
            "|     32    | tensor(0.9736, device='cuda:0') | tensor(2.2795, device='cuda:0') |      0.70572      |        0.5109       |    00:00:39    |      00:00:36     |       00:00:03      |            -             |    False    |\n",
            "|     33    | tensor(0.9425, device='cuda:0') | tensor(2.3074, device='cuda:0') |      0.71236      |        0.5084       |    00:00:39    |      00:00:36     |       00:00:03      |            -             |    False    |\n",
            "|     34    | tensor(0.9125, device='cuda:0') | tensor(2.3652, device='cuda:0') |      0.72222      |        0.5083       |    00:00:39    |      00:00:36     |       00:00:03      |            -             |    False    |\n",
            "|     35    | tensor(0.9024, device='cuda:0') | tensor(2.3324, device='cuda:0') |      0.72472      |        0.5103       |    00:00:39    |      00:00:36     |       00:00:03      |            -             |    False    |\n",
            "|     36    | tensor(0.8671, device='cuda:0') | tensor(2.3943, device='cuda:0') |      0.73336      |        0.5068       |    00:00:39    |      00:00:36     |       00:00:03      |            -             |    False    |\n",
            "|     37    | tensor(0.8548, device='cuda:0') | tensor(2.4118, device='cuda:0') |       0.7376      |        0.5077       |    00:00:39    |      00:00:36     |       00:00:03      |            -             |    False    |\n",
            "|     38    | tensor(0.8200, device='cuda:0') | tensor(2.4155, device='cuda:0') |      0.74668      |        0.5087       |    00:00:39    |      00:00:36     |       00:00:03      |            -             |    False    |\n",
            "|     39    | tensor(0.8079, device='cuda:0') | tensor(2.4404, device='cuda:0') |      0.74922      |        0.5122       |    00:00:39    |      00:00:36     |       00:00:03      |            -             |    False    |\n",
            "|     40    | tensor(0.7914, device='cuda:0') | tensor(2.4329, device='cuda:0') |      0.75488      |        0.5105       |    00:00:39    |      00:00:36     |       00:00:03      |            -             |    False    |\n",
            "|     41    | tensor(0.7684, device='cuda:0') | tensor(2.5323, device='cuda:0') |      0.76408      |        0.5122       |    00:00:39    |      00:00:36     |       00:00:03      |            -             |    False    |\n",
            "|     42    | tensor(0.7531, device='cuda:0') | tensor(2.5319, device='cuda:0') |      0.76574      |        0.5065       |    00:00:40    |      00:00:37     |       00:00:03      |            -             |    False    |\n",
            "|     43    | tensor(0.7313, device='cuda:0') | tensor(2.5667, device='cuda:0') |       0.7708      |        0.5095       |    00:00:39    |      00:00:36     |       00:00:03      |            -             |    False    |\n",
            "|     44    | tensor(0.7198, device='cuda:0') | tensor(2.5119, device='cuda:0') |      0.77444      |        0.5142       |    00:00:39    |      00:00:36     |       00:00:03      |            -             |    False    |\n",
            "|     45    | tensor(0.6961, device='cuda:0') | tensor(2.5533, device='cuda:0') |      0.78248      |        0.5116       |    00:00:39    |      00:00:36     |       00:00:03      |            -             |    False    |\n",
            "|     46    | tensor(0.6753, device='cuda:0') | tensor(2.6207, device='cuda:0') |       0.7882      |        0.5066       |    00:00:39    |      00:00:36     |       00:00:03      |            -             |    False    |\n",
            "|     47    | tensor(0.6713, device='cuda:0') | tensor(2.6571, device='cuda:0') |      0.79012      |        0.5012       |    00:00:39    |      00:00:36     |       00:00:03      |            -             |    False    |\n",
            "|     48    | tensor(0.6410, device='cuda:0') | tensor(2.6539, device='cuda:0') |      0.80006      |        0.5151       |    00:00:39    |      00:00:36     |       00:00:03      |            -             |    False    |\n",
            "|     49    | tensor(0.6348, device='cuda:0') | tensor(2.6719, device='cuda:0') |      0.80022      |        0.5102       |    00:00:39    |      00:00:36     |       00:00:03      |            -             |    False    |\n",
            "|     50    | tensor(0.6223, device='cuda:0') | tensor(2.7607, device='cuda:0') |      0.80486      |        0.5083       |    00:00:39    |      00:00:36     |       00:00:03      |            -             |    False    |\n",
            "|     51    | tensor(0.6052, device='cuda:0') | tensor(2.6865, device='cuda:0') |      0.80864      |        0.5037       |    00:00:38    |      00:00:35     |       00:00:02      |            -             |    False    |\n",
            "|     52    | tensor(0.5902, device='cuda:0') | tensor(2.7029, device='cuda:0') |      0.81346      |        0.5046       |    00:00:38    |      00:00:35     |       00:00:02      |            -             |    False    |\n",
            "|     53    | tensor(0.5836, device='cuda:0') | tensor(2.7827, device='cuda:0') |       0.8166      |        0.5103       |    00:00:38    |      00:00:35     |       00:00:03      |            -             |    False    |\n",
            "|     54    | tensor(0.5637, device='cuda:0') | tensor(2.7496, device='cuda:0') |      0.82272      |        0.5086       |    00:00:37    |      00:00:35     |       00:00:02      |            -             |    False    |\n",
            "|     55    | tensor(0.5518, device='cuda:0') | tensor(2.7775, device='cuda:0') |       0.8263      |        0.5091       |    00:00:38    |      00:00:35     |       00:00:02      |            -             |    False    |\n",
            "|     56    | tensor(0.5592, device='cuda:0') | tensor(2.7693, device='cuda:0') |      0.82324      |        0.5082       |    00:00:38    |      00:00:35     |       00:00:02      |            -             |    False    |\n",
            "|     57    | tensor(0.5319, device='cuda:0') | tensor(2.8125, device='cuda:0') |      0.83148      |        0.5004       |    00:00:38    |      00:00:35     |       00:00:03      |            -             |    False    |\n",
            "|     58    | tensor(0.5290, device='cuda:0') | tensor(2.7677, device='cuda:0') |       0.8316      |        0.5139       |    00:00:38    |      00:00:35     |       00:00:02      |            -             |    False    |\n",
            "|     59    | tensor(0.5238, device='cuda:0') | tensor(2.8573, device='cuda:0') |      0.83412      |        0.516        |    00:00:37    |      00:00:34     |       00:00:02      |            -             |    False    |\n",
            "|     60    | tensor(0.4987, device='cuda:0') | tensor(2.8625, device='cuda:0') |       0.8408      |        0.5041       |    00:00:37    |      00:00:34     |       00:00:02      |            -             |    False    |\n",
            "|     61    | tensor(0.4993, device='cuda:0') | tensor(2.8659, device='cuda:0') |      0.84042      |        0.5073       |    00:00:38    |      00:00:35     |       00:00:02      |            -             |    False    |\n",
            "|     62    | tensor(0.4980, device='cuda:0') | tensor(2.9222, device='cuda:0') |      0.84214      |        0.5096       |    00:00:37    |      00:00:35     |       00:00:02      |            -             |    False    |\n",
            "|     63    | tensor(0.4732, device='cuda:0') | tensor(2.9321, device='cuda:0') |      0.84896      |        0.5116       |    00:00:38    |      00:00:35     |       00:00:02      |            -             |    False    |\n",
            "|     64    | tensor(0.4721, device='cuda:0') | tensor(2.9463, device='cuda:0') |       0.8512      |        0.5102       |    00:00:38    |      00:00:35     |       00:00:03      |            -             |    False    |\n",
            "|     65    | tensor(0.4650, device='cuda:0') | tensor(2.9349, device='cuda:0') |       0.8519      |        0.5133       |    00:00:38    |      00:00:35     |       00:00:02      |            -             |    False    |\n",
            "|     66    | tensor(0.4610, device='cuda:0') | tensor(2.9543, device='cuda:0') |      0.85526      |        0.5115       |    00:00:38    |      00:00:35     |       00:00:02      |            -             |    False    |\n",
            "|     67    | tensor(0.4575, device='cuda:0') | tensor(2.9946, device='cuda:0') |       0.854       |        0.5122       |    00:00:39    |      00:00:36     |       00:00:02      |            -             |    False    |\n",
            "|     68    | tensor(0.4322, device='cuda:0') | tensor(3.1062, device='cuda:0') |      0.86142      |        0.5041       |    00:00:38    |      00:00:35     |       00:00:02      |            -             |    False    |\n",
            "|     69    | tensor(0.4365, device='cuda:0') | tensor(3.0270, device='cuda:0') |      0.86068      |        0.5097       |    00:00:39    |      00:00:36     |       00:00:03      |            -             |    False    |\n",
            "|     70    | tensor(0.4323, device='cuda:0') | tensor(3.0176, device='cuda:0') |      0.86174      |        0.5099       |    00:00:39    |      00:00:35     |       00:00:03      |            -             |    False    |\n",
            "|     71    | tensor(0.4191, device='cuda:0') | tensor(3.0647, device='cuda:0') |      0.86546      |        0.5032       |    00:00:39    |      00:00:36     |       00:00:03      |            -             |    False    |\n",
            "|     72    | tensor(0.4194, device='cuda:0') | tensor(3.0575, device='cuda:0') |      0.86688      |        0.5052       |    00:00:39    |      00:00:36     |       00:00:03      |            -             |    False    |\n",
            "|     73    | tensor(0.4144, device='cuda:0') | tensor(3.1563, device='cuda:0') |       0.8664      |        0.508        |    00:00:39    |      00:00:36     |       00:00:03      |            -             |    False    |\n",
            "|     74    | tensor(0.4106, device='cuda:0') | tensor(3.0663, device='cuda:0') |      0.86856      |        0.5111       |    00:00:39    |      00:00:36     |       00:00:03      |            -             |    False    |\n",
            "|     75    | tensor(0.3899, device='cuda:0') | tensor(3.1029, device='cuda:0') |       0.8754      |        0.5061       |    00:00:39    |      00:00:36     |       00:00:03      |            -             |    False    |\n",
            "|     76    | tensor(0.3992, device='cuda:0') | tensor(3.1355, device='cuda:0') |      0.87256      |        0.5101       |    00:00:39    |      00:00:36     |       00:00:03      |            -             |    False    |\n",
            "|     77    | tensor(0.3859, device='cuda:0') | tensor(3.1053, device='cuda:0') |      0.87672      |        0.5065       |    00:00:39    |      00:00:36     |       00:00:03      |            -             |    False    |\n",
            "|     78    | tensor(0.3770, device='cuda:0') | tensor(3.1828, device='cuda:0') |       0.8787      |        0.5073       |    00:00:39    |      00:00:36     |       00:00:03      |            -             |    False    |\n",
            "|     79    | tensor(0.3756, device='cuda:0') | tensor(3.2328, device='cuda:0') |       0.8813      |        0.504        |    00:00:39    |      00:00:36     |       00:00:02      |            -             |    False    |\n",
            "|     80    | tensor(0.3725, device='cuda:0') | tensor(3.1457, device='cuda:0') |       0.8807      |        0.5115       |    00:00:39    |      00:00:36     |       00:00:03      |            -             |    False    |\n",
            "|     81    | tensor(0.3630, device='cuda:0') | tensor(3.2056, device='cuda:0') |       0.883       |        0.5097       |    00:00:39    |      00:00:36     |       00:00:03      |            -             |    False    |\n",
            "|     82    | tensor(0.3557, device='cuda:0') | tensor(3.2764, device='cuda:0') |      0.88412      |        0.5093       |    00:00:39    |      00:00:36     |       00:00:02      |            -             |    False    |\n",
            "|     83    | tensor(0.3553, device='cuda:0') | tensor(3.2583, device='cuda:0') |      0.88728      |        0.5082       |    00:00:39    |      00:00:36     |       00:00:02      |            -             |    False    |\n",
            "|     84    | tensor(0.3561, device='cuda:0') | tensor(3.2836, device='cuda:0') |      0.88608      |        0.507        |    00:00:39    |      00:00:36     |       00:00:03      |            -             |    False    |\n",
            "|     85    | tensor(0.3525, device='cuda:0') | tensor(3.3184, device='cuda:0') |      0.88682      |        0.5017       |    00:00:39    |      00:00:36     |       00:00:03      |            -             |    False    |\n",
            "|     86    | tensor(0.3418, device='cuda:0') | tensor(3.2669, device='cuda:0') |       0.8917      |        0.5067       |    00:00:39    |      00:00:36     |       00:00:02      |            -             |    False    |\n",
            "|     87    | tensor(0.3390, device='cuda:0') | tensor(3.3449, device='cuda:0') |      0.89148      |        0.5018       |    00:00:38    |      00:00:35     |       00:00:02      |            -             |    False    |\n",
            "|     88    | tensor(0.3310, device='cuda:0') | tensor(3.2130, device='cuda:0') |      0.89328      |        0.5038       |    00:00:38    |      00:00:35     |       00:00:02      |            -             |    False    |\n",
            "|     89    | tensor(0.3332, device='cuda:0') | tensor(3.3096, device='cuda:0') |      0.89354      |        0.5057       |    00:00:39    |      00:00:36     |       00:00:03      |            -             |    False    |\n",
            "|     90    | tensor(0.3295, device='cuda:0') | tensor(3.3007, device='cuda:0') |       0.895       |        0.5093       |    00:00:38    |      00:00:35     |       00:00:02      |            -             |    False    |\n",
            "|     91    | tensor(0.3205, device='cuda:0') | tensor(3.3264, device='cuda:0') |      0.89686      |        0.5079       |    00:00:38    |      00:00:35     |       00:00:03      |            -             |    False    |\n",
            "|     92    | tensor(0.3141, device='cuda:0') | tensor(3.2761, device='cuda:0') |      0.89766      |        0.5167       |    00:00:38    |      00:00:35     |       00:00:02      |            -             |    False    |\n",
            "|     93    | tensor(0.3148, device='cuda:0') | tensor(3.3711, device='cuda:0') |       0.8998      |        0.5093       |    00:00:39    |      00:00:36     |       00:00:03      |            -             |    False    |\n",
            "|     94    | tensor(0.3191, device='cuda:0') | tensor(3.4075, device='cuda:0') |       0.8978      |        0.5097       |    00:00:39    |      00:00:36     |       00:00:02      |            -             |    False    |\n",
            "|     95    | tensor(0.3005, device='cuda:0') | tensor(3.3988, device='cuda:0') |      0.90342      |        0.5092       |    00:00:39    |      00:00:36     |       00:00:03      |            -             |    False    |\n",
            "|     96    | tensor(0.3110, device='cuda:0') | tensor(3.3141, device='cuda:0') |       0.9008      |        0.514        |    00:00:39    |      00:00:36     |       00:00:02      |            -             |    False    |\n",
            "|     97    | tensor(0.2926, device='cuda:0') | tensor(3.3676, device='cuda:0') |       0.9051      |        0.5115       |    00:00:39    |      00:00:36     |       00:00:02      |            -             |    False    |\n",
            "|     98    | tensor(0.3016, device='cuda:0') | tensor(3.3576, device='cuda:0') |      0.90204      |        0.511        |    00:00:39    |      00:00:36     |       00:00:03      |            -             |    False    |\n",
            "|     99    | tensor(0.2994, device='cuda:0') | tensor(3.3944, device='cuda:0') |      0.90522      |        0.509        |    00:00:39    |      00:00:36     |       00:00:03      |            -             |    False    |\n",
            "|    100    | tensor(0.2989, device='cuda:0') | tensor(3.3057, device='cuda:0') |      0.90498      |        0.5126       |    00:00:39    |      00:00:36     |       00:00:02      |            -             |    False    |\n",
            "+-----------+---------------------------------+---------------------------------+-------------------+---------------------+----------------+-------------------+---------------------+--------------------------+-------------+\n",
            "Total training duration; 01:05:48\n"
          ],
          "name": "stdout"
        }
      ]
    },
    {
      "cell_type": "markdown",
      "metadata": {
        "colab_type": "text",
        "id": "LgMs4ppNfNE6"
      },
      "source": [
        "#### TEST CIFAR 100 TRANSFER | RESNET18 | PYTORCH LOADER"
      ]
    },
    {
      "cell_type": "code",
      "metadata": {
        "colab_type": "code",
        "outputId": "d637e133-8cd8-4453-d444-f1550754a4cc",
        "id": "WwbshCihfNE8",
        "colab": {
          "base_uri": "https://localhost:8080/",
          "height": 1000
        }
      },
      "source": [
        "num_classes = 100\n",
        "model = models.resnet18()\n",
        "model.fc = nn.Linear(512, 100)\n",
        "model.load_state_dict(torch.load('./drive/My Drive/resnet18_transfer_subset_20.pt'))\n",
        "model.cuda()\n",
        "\n",
        "criterion = nn.CrossEntropyLoss()\n",
        "optimizer = torch.optim.Adam(model.parameters())\n",
        "\n",
        "test_model(model, num_classes, loaders100)"
      ],
      "execution_count": 0,
      "outputs": [
        {
          "output_type": "stream",
          "text": [
            "Test Loss: 1.988277\n",
            "\n",
            "Test Accuracy of     0: 72% (72/100)\n",
            "Test Accuracy of     1: 67% (67/100)\n",
            "Test Accuracy of     2: 37% (37/100)\n",
            "Test Accuracy of     3: 27% (27/100)\n",
            "Test Accuracy of     4: 20% (20/100)\n",
            "Test Accuracy of     5: 41% (41/100)\n",
            "Test Accuracy of     6: 66% (66/100)\n",
            "Test Accuracy of     7: 55% (55/100)\n",
            "Test Accuracy of     8: 65% (65/100)\n",
            "Test Accuracy of     9: 53% (53/100)\n",
            "Test Accuracy of    10: 30% (30/100)\n",
            "Test Accuracy of    11: 33% (33/100)\n",
            "Test Accuracy of    12: 46% (46/100)\n",
            "Test Accuracy of    13: 36% (36/100)\n",
            "Test Accuracy of    14: 50% (50/100)\n",
            "Test Accuracy of    15: 38% (38/100)\n",
            "Test Accuracy of    16: 54% (54/100)\n",
            "Test Accuracy of    17: 61% (61/100)\n",
            "Test Accuracy of    18: 58% (58/100)\n",
            "Test Accuracy of    19: 33% (33/100)\n",
            "Test Accuracy of    20: 64% (64/100)\n",
            "Test Accuracy of    21: 68% (68/100)\n",
            "Test Accuracy of    22: 45% (45/100)\n",
            "Test Accuracy of    23: 62% (62/100)\n",
            "Test Accuracy of    24: 64% (64/100)\n",
            "Test Accuracy of    25: 29% (29/100)\n",
            "Test Accuracy of    26: 35% (35/100)\n",
            "Test Accuracy of    27: 25% (25/100)\n",
            "Test Accuracy of    28: 64% (64/100)\n",
            "Test Accuracy of    29: 53% (53/100)\n",
            "Test Accuracy of    30: 46% (46/100)\n",
            "Test Accuracy of    31: 50% (50/100)\n",
            "Test Accuracy of    32: 49% (49/100)\n",
            "Test Accuracy of    33: 42% (42/100)\n",
            "Test Accuracy of    34: 42% (42/100)\n",
            "Test Accuracy of    35: 17% (17/100)\n",
            "Test Accuracy of    36: 51% (51/100)\n",
            "Test Accuracy of    37: 45% (45/100)\n",
            "Test Accuracy of    38: 24% (24/100)\n",
            "Test Accuracy of    39: 59% (59/100)\n",
            "Test Accuracy of    40: 43% (43/100)\n",
            "Test Accuracy of    41: 58% (58/100)\n",
            "Test Accuracy of    42: 48% (48/100)\n",
            "Test Accuracy of    43: 58% (58/100)\n",
            "Test Accuracy of    44: 25% (25/100)\n",
            "Test Accuracy of    45: 31% (31/100)\n",
            "Test Accuracy of    46: 37% (37/100)\n",
            "Test Accuracy of    47: 45% (45/100)\n",
            "Test Accuracy of    48: 77% (77/100)\n",
            "Test Accuracy of    49: 67% (67/100)\n",
            "Test Accuracy of    50: 19% (19/100)\n",
            "Test Accuracy of    51: 54% (54/100)\n",
            "Test Accuracy of    52: 62% (62/100)\n",
            "Test Accuracy of    53: 67% (67/100)\n",
            "Test Accuracy of    54: 52% (52/100)\n",
            "Test Accuracy of    55: 13% (13/100)\n",
            "Test Accuracy of    56: 75% (75/100)\n",
            "Test Accuracy of    57: 55% (55/100)\n",
            "Test Accuracy of    58: 50% (50/100)\n",
            "Test Accuracy of    59: 51% (51/100)\n",
            "Test Accuracy of    60: 89% (89/100)\n",
            "Test Accuracy of    61: 58% (58/100)\n",
            "Test Accuracy of    62: 56% (56/100)\n",
            "Test Accuracy of    63: 46% (46/100)\n",
            "Test Accuracy of    64: 24% (24/100)\n",
            "Test Accuracy of    65: 26% (26/100)\n",
            "Test Accuracy of    66: 37% (37/100)\n",
            "Test Accuracy of    67: 48% (48/100)\n",
            "Test Accuracy of    68: 90% (90/100)\n",
            "Test Accuracy of    69: 62% (62/100)\n",
            "Test Accuracy of    70: 46% (46/100)\n",
            "Test Accuracy of    71: 55% (55/100)\n",
            "Test Accuracy of    72: 24% (24/100)\n",
            "Test Accuracy of    73: 39% (39/100)\n",
            "Test Accuracy of    74: 40% (40/100)\n",
            "Test Accuracy of    75: 76% (76/100)\n",
            "Test Accuracy of    76: 73% (73/100)\n",
            "Test Accuracy of    77: 39% (39/100)\n",
            "Test Accuracy of    78: 43% (43/100)\n",
            "Test Accuracy of    79: 55% (55/100)\n",
            "Test Accuracy of    80: 27% (27/100)\n",
            "Test Accuracy of    81: 54% (54/100)\n",
            "Test Accuracy of    82: 84% (84/100)\n",
            "Test Accuracy of    83: 41% (41/100)\n",
            "Test Accuracy of    84: 45% (45/100)\n",
            "Test Accuracy of    85: 55% (55/100)\n",
            "Test Accuracy of    86: 46% (46/100)\n",
            "Test Accuracy of    87: 58% (58/100)\n",
            "Test Accuracy of    88: 56% (56/100)\n",
            "Test Accuracy of    89: 53% (53/100)\n",
            "Test Accuracy of    90: 55% (55/100)\n",
            "Test Accuracy of    91: 53% (53/100)\n",
            "Test Accuracy of    92: 41% (41/100)\n",
            "Test Accuracy of    93: 32% (32/100)\n",
            "Test Accuracy of    94: 79% (79/100)\n",
            "Test Accuracy of    95: 65% (65/100)\n",
            "Test Accuracy of    96: 47% (47/100)\n",
            "Test Accuracy of    97: 42% (42/100)\n",
            "Test Accuracy of    98: 18% (18/100)\n",
            "Test Accuracy of    99: 54% (54/100)\n",
            "\n",
            "Final Test  Accuracy: 48% (4894/10000)\n"
          ],
          "name": "stdout"
        }
      ]
    }
  ]
}